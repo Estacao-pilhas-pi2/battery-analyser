{
 "cells": [
  {
   "cell_type": "code",
   "execution_count": 1,
   "metadata": {},
   "outputs": [
    {
     "name": "stderr",
     "output_type": "stream",
     "text": [
      "2023-05-26 03:55:28.341675: I tensorflow/core/platform/cpu_feature_guard.cc:182] This TensorFlow binary is optimized to use available CPU instructions in performance-critical operations.\n",
      "To enable the following instructions: AVX2 FMA, in other operations, rebuild TensorFlow with the appropriate compiler flags.\n"
     ]
    }
   ],
   "source": [
    "from keras.preprocessing.image import ImageDataGenerator\n",
    "from keras.utils.np_utils import to_categorical \n",
    "from keras.layers import Conv2D, MaxPool2D, MaxPooling2D, Flatten, Dense, Dropout, LeakyReLU, RandomRotation, RandomContrast, RandomBrightness\n",
    "from keras.models import Sequential\n",
    "from keras.preprocessing import image\n",
    "from keras.layers import BatchNormalization\n",
    "import numpy as np\n",
    "import matplotlib.pyplot as plt\n",
    "\n",
    "from datetime import datetime\n",
    "\n",
    "import tensorflow as tf"
   ]
  },
  {
   "cell_type": "code",
   "execution_count": 2,
   "metadata": {},
   "outputs": [
    {
     "name": "stdout",
     "output_type": "stream",
     "text": [
      "Num GPUs Available:  1\n"
     ]
    },
    {
     "name": "stderr",
     "output_type": "stream",
     "text": [
      "2023-05-26 03:55:29.706264: I tensorflow/compiler/xla/stream_executor/cuda/cuda_gpu_executor.cc:996] successful NUMA node read from SysFS had negative value (-1), but there must be at least one NUMA node, so returning NUMA node zero. See more at https://github.com/torvalds/linux/blob/v6.0/Documentation/ABI/testing/sysfs-bus-pci#L344-L355\n",
      "2023-05-26 03:55:29.712599: I tensorflow/compiler/xla/stream_executor/cuda/cuda_gpu_executor.cc:996] successful NUMA node read from SysFS had negative value (-1), but there must be at least one NUMA node, so returning NUMA node zero. See more at https://github.com/torvalds/linux/blob/v6.0/Documentation/ABI/testing/sysfs-bus-pci#L344-L355\n",
      "2023-05-26 03:55:29.714436: I tensorflow/compiler/xla/stream_executor/cuda/cuda_gpu_executor.cc:996] successful NUMA node read from SysFS had negative value (-1), but there must be at least one NUMA node, so returning NUMA node zero. See more at https://github.com/torvalds/linux/blob/v6.0/Documentation/ABI/testing/sysfs-bus-pci#L344-L355\n"
     ]
    }
   ],
   "source": [
    "print(\"Num GPUs Available: \", len(tf.config.list_physical_devices('GPU')))"
   ]
  },
  {
   "cell_type": "markdown",
   "metadata": {},
   "source": [
    "# Definitions"
   ]
  },
  {
   "cell_type": "code",
   "execution_count": 3,
   "metadata": {},
   "outputs": [],
   "source": [
    "WIDTH, HEIGHT = IMAGE_SIZE = (256, 256)\n",
    "DEPTH = 3\n",
    "DATASET_PATH = \"dataset\"\n",
    "EPOCS = 100"
   ]
  },
  {
   "cell_type": "markdown",
   "metadata": {
    "id": "NL7VXYyecFtH"
   },
   "source": [
    "# Data Preprocessing"
   ]
  },
  {
   "cell_type": "markdown",
   "metadata": {
    "id": "anu1oI8RcJfE"
   },
   "source": [
    "### Preprocessing the Training set"
   ]
  },
  {
   "cell_type": "code",
   "execution_count": 4,
   "metadata": {
    "id": "Ts-KG1fSX2wr"
   },
   "outputs": [
    {
     "name": "stdout",
     "output_type": "stream",
     "text": [
      "Found 226 images belonging to 5 classes.\n",
      "Found 92 images belonging to 5 classes.\n"
     ]
    }
   ],
   "source": [
    "training_datagen = ImageDataGenerator(rescale = 1./255,\n",
    "                                       horizontal_flip = True,\n",
    "                                       vertical_flip = True,\n",
    "                                       width_shift_range = 0.1,\n",
    "                                       height_shift_range = 0.1,\n",
    "                                       rotation_range = 90,\n",
    "                                       validation_split = 0.3)\n",
    "\n",
    "training_set = training_datagen.flow_from_directory(DATASET_PATH,\n",
    "                                                     target_size=IMAGE_SIZE,\n",
    "                                                     batch_size=32,\n",
    "                                                     seed=11,\n",
    "                                                     class_mode = 'sparse',\n",
    "                                                     subset = \"training\",\n",
    "                                                     color_mode=\"grayscale\")\n",
    "test_set = training_datagen.flow_from_directory(DATASET_PATH,\n",
    "                                                     target_size=IMAGE_SIZE,\n",
    "                                                     batch_size=32,\n",
    "                                                     seed=11,\n",
    "                                                     class_mode = 'sparse',\n",
    "                                                     subset = \"validation\",\n",
    "                                                     color_mode=\"grayscale\")"
   ]
  },
  {
   "cell_type": "code",
   "execution_count": 5,
   "metadata": {},
   "outputs": [
    {
     "data": {
      "text/plain": [
       "{'9V': 0, 'AA': 1, 'AAA': 2, 'D': 3, 'Unknown': 4}"
      ]
     },
     "execution_count": 5,
     "metadata": {},
     "output_type": "execute_result"
    }
   ],
   "source": [
    "class_indices = training_set.class_indices\n",
    "num_classes = len(class_indices)\n",
    "train_labels = training_set.classes\n",
    "train_labels = to_categorical(train_labels, num_classes=len(class_indices))\n",
    "class_indices"
   ]
  },
  {
   "cell_type": "markdown",
   "metadata": {
    "id": "UeHB9v3mdKXd"
   },
   "source": [
    "# Building the CNN\n"
   ]
  },
  {
   "cell_type": "code",
   "execution_count": 6,
   "metadata": {
    "id": "MSNdJrKDdknx"
   },
   "outputs": [
    {
     "name": "stderr",
     "output_type": "stream",
     "text": [
      "2023-05-26 03:55:29.802678: I tensorflow/compiler/xla/stream_executor/cuda/cuda_gpu_executor.cc:996] successful NUMA node read from SysFS had negative value (-1), but there must be at least one NUMA node, so returning NUMA node zero. See more at https://github.com/torvalds/linux/blob/v6.0/Documentation/ABI/testing/sysfs-bus-pci#L344-L355\n",
      "2023-05-26 03:55:29.808934: I tensorflow/compiler/xla/stream_executor/cuda/cuda_gpu_executor.cc:996] successful NUMA node read from SysFS had negative value (-1), but there must be at least one NUMA node, so returning NUMA node zero. See more at https://github.com/torvalds/linux/blob/v6.0/Documentation/ABI/testing/sysfs-bus-pci#L344-L355\n",
      "2023-05-26 03:55:29.812857: I tensorflow/compiler/xla/stream_executor/cuda/cuda_gpu_executor.cc:996] successful NUMA node read from SysFS had negative value (-1), but there must be at least one NUMA node, so returning NUMA node zero. See more at https://github.com/torvalds/linux/blob/v6.0/Documentation/ABI/testing/sysfs-bus-pci#L344-L355\n",
      "2023-05-26 03:55:30.336931: I tensorflow/compiler/xla/stream_executor/cuda/cuda_gpu_executor.cc:996] successful NUMA node read from SysFS had negative value (-1), but there must be at least one NUMA node, so returning NUMA node zero. See more at https://github.com/torvalds/linux/blob/v6.0/Documentation/ABI/testing/sysfs-bus-pci#L344-L355\n",
      "2023-05-26 03:55:30.337915: I tensorflow/compiler/xla/stream_executor/cuda/cuda_gpu_executor.cc:996] successful NUMA node read from SysFS had negative value (-1), but there must be at least one NUMA node, so returning NUMA node zero. See more at https://github.com/torvalds/linux/blob/v6.0/Documentation/ABI/testing/sysfs-bus-pci#L344-L355\n",
      "2023-05-26 03:55:30.338738: I tensorflow/compiler/xla/stream_executor/cuda/cuda_gpu_executor.cc:996] successful NUMA node read from SysFS had negative value (-1), but there must be at least one NUMA node, so returning NUMA node zero. See more at https://github.com/torvalds/linux/blob/v6.0/Documentation/ABI/testing/sysfs-bus-pci#L344-L355\n",
      "2023-05-26 03:55:30.339545: I tensorflow/core/common_runtime/gpu/gpu_device.cc:1635] Created device /job:localhost/replica:0/task:0/device:GPU:0 with 5710 MB memory:  -> device: 0, name: NVIDIA GeForce RTX 2060 SUPER, pci bus id: 0000:01:00.0, compute capability: 7.5\n"
     ]
    }
   ],
   "source": [
    "model = Sequential()\n",
    "model.add(RandomRotation(0.1))\n",
    "model.add(Conv2D(32, (3, 3), activation='relu', input_shape=(HEIGHT, WIDTH, DEPTH)))\n",
    "model.add(MaxPooling2D((2, 2)))\n",
    "model.add(Conv2D(64, (3, 3), activation='relu'))\n",
    "model.add(MaxPooling2D((2, 2)))\n",
    "model.add(Conv2D(64, (3, 3), activation='relu'))\n",
    "\n",
    "model.add(Flatten())\n",
    "model.add(Dropout(0.2))\n",
    "model.add(Dense(64, activation='relu'))\n",
    "model.add(Dense(num_classes))"
   ]
  },
  {
   "cell_type": "code",
   "execution_count": 7,
   "metadata": {
    "id": "CGwuFI48axNp"
   },
   "outputs": [],
   "source": [
    "model.compile(optimizer='adam',\n",
    "              loss=tf.keras.losses.SparseCategoricalCrossentropy(from_logits=True),\n",
    "              metrics=['accuracy'])"
   ]
  },
  {
   "cell_type": "markdown",
   "metadata": {
    "id": "BaB4EIsgedCH"
   },
   "source": [
    "# Part 3 - Training the CNN"
   ]
  },
  {
   "cell_type": "markdown",
   "metadata": {
    "id": "sAZJMiJ0ejRt"
   },
   "source": [
    "### Compiling the CNN"
   ]
  },
  {
   "cell_type": "markdown",
   "metadata": {
    "id": "BmAbjcN9ekDe"
   },
   "source": [
    "### Training the CNN on the Training set and evaluating it on the Test set"
   ]
  },
  {
   "cell_type": "code",
   "execution_count": 8,
   "metadata": {
    "id": "GIINmpWVa7WM"
   },
   "outputs": [
    {
     "name": "stderr",
     "output_type": "stream",
     "text": [
      "2023-05-26 03:55:31.158313: I tensorflow/compiler/xla/stream_executor/cuda/cuda_dnn.cc:424] Loaded cuDNN version 8600\n"
     ]
    },
    {
     "name": "stdout",
     "output_type": "stream",
     "text": [
      "Epoch 1/100\n"
     ]
    },
    {
     "name": "stderr",
     "output_type": "stream",
     "text": [
      "2023-05-26 03:55:31.848333: I tensorflow/core/common_runtime/executor.cc:1197] [/device:CPU:0] (DEBUG INFO) Executor start aborting (this does not indicate an error and you can ignore this message): INVALID_ARGUMENT: You must feed a value for placeholder tensor 'Placeholder/_0' with dtype int32\n",
      "\t [[{{node Placeholder/_0}}]]\n",
      "2023-05-26 03:55:32.921697: I tensorflow/compiler/xla/service/service.cc:169] XLA service 0x7f929c40c4b0 initialized for platform CUDA (this does not guarantee that XLA will be used). Devices:\n",
      "2023-05-26 03:55:32.921738: I tensorflow/compiler/xla/service/service.cc:177]   StreamExecutor device (0): NVIDIA GeForce RTX 2060 SUPER, Compute Capability 7.5\n",
      "2023-05-26 03:55:32.924817: I tensorflow/compiler/mlir/tensorflow/utils/dump_mlir_util.cc:269] disabling MLIR crash reproducer, set env var `MLIR_CRASH_REPRODUCER_DIRECTORY` to enable.\n",
      "2023-05-26 03:55:33.010516: I ./tensorflow/compiler/jit/device_compiler.h:180] Compiled cluster using XLA!  This line is logged at most once for the lifetime of the process.\n"
     ]
    },
    {
     "name": "stdout",
     "output_type": "stream",
     "text": [
      "8/8 [==============================] - ETA: 0s - loss: 1.7711 - accuracy: 0.2124"
     ]
    },
    {
     "name": "stderr",
     "output_type": "stream",
     "text": [
      "2023-05-26 03:55:35.535241: I tensorflow/core/common_runtime/executor.cc:1197] [/device:CPU:0] (DEBUG INFO) Executor start aborting (this does not indicate an error and you can ignore this message): INVALID_ARGUMENT: You must feed a value for placeholder tensor 'Placeholder/_0' with dtype int32\n",
      "\t [[{{node Placeholder/_0}}]]\n"
     ]
    },
    {
     "name": "stdout",
     "output_type": "stream",
     "text": [
      "8/8 [==============================] - 4s 264ms/step - loss: 1.7711 - accuracy: 0.2124 - val_loss: 1.5508 - val_accuracy: 0.2935\n",
      "Epoch 2/100\n",
      "8/8 [==============================] - 1s 186ms/step - loss: 1.5707 - accuracy: 0.2832 - val_loss: 1.5540 - val_accuracy: 0.2935\n",
      "Epoch 3/100\n",
      "8/8 [==============================] - 1s 207ms/step - loss: 1.5551 - accuracy: 0.2876 - val_loss: 1.5328 - val_accuracy: 0.3043\n",
      "Epoch 4/100\n",
      "8/8 [==============================] - 1s 186ms/step - loss: 1.5483 - accuracy: 0.2743 - val_loss: 1.5711 - val_accuracy: 0.2935\n",
      "Epoch 5/100\n",
      "8/8 [==============================] - 1s 186ms/step - loss: 1.5720 - accuracy: 0.2965 - val_loss: 1.5325 - val_accuracy: 0.3043\n",
      "Epoch 6/100\n",
      "8/8 [==============================] - 1s 202ms/step - loss: 1.5392 - accuracy: 0.2876 - val_loss: 1.5276 - val_accuracy: 0.2609\n",
      "Epoch 7/100\n",
      "8/8 [==============================] - 1s 182ms/step - loss: 1.5355 - accuracy: 0.3009 - val_loss: 1.5712 - val_accuracy: 0.3261\n",
      "Epoch 8/100\n",
      "8/8 [==============================] - 1s 178ms/step - loss: 1.5623 - accuracy: 0.3009 - val_loss: 1.5719 - val_accuracy: 0.2935\n",
      "Epoch 9/100\n",
      "8/8 [==============================] - 1s 183ms/step - loss: 1.5864 - accuracy: 0.2876 - val_loss: 1.5842 - val_accuracy: 0.2935\n",
      "Epoch 10/100\n",
      "8/8 [==============================] - 1s 183ms/step - loss: 1.5669 - accuracy: 0.2876 - val_loss: 1.5461 - val_accuracy: 0.2935\n",
      "Epoch 11/100\n",
      "8/8 [==============================] - 1s 180ms/step - loss: 1.5789 - accuracy: 0.3009 - val_loss: 1.5569 - val_accuracy: 0.2935\n",
      "Epoch 12/100\n",
      "8/8 [==============================] - 1s 182ms/step - loss: 1.5395 - accuracy: 0.2832 - val_loss: 1.5318 - val_accuracy: 0.3043\n",
      "Epoch 13/100\n",
      "8/8 [==============================] - 1s 184ms/step - loss: 1.5359 - accuracy: 0.3009 - val_loss: 1.5443 - val_accuracy: 0.3043\n",
      "Epoch 14/100\n",
      "8/8 [==============================] - 1s 187ms/step - loss: 1.5382 - accuracy: 0.3009 - val_loss: 1.5332 - val_accuracy: 0.3043\n",
      "Epoch 15/100\n",
      "8/8 [==============================] - 1s 184ms/step - loss: 1.5378 - accuracy: 0.3009 - val_loss: 1.5314 - val_accuracy: 0.3696\n",
      "Epoch 16/100\n",
      "8/8 [==============================] - 1s 182ms/step - loss: 1.5288 - accuracy: 0.3097 - val_loss: 1.5301 - val_accuracy: 0.2826\n",
      "Epoch 17/100\n",
      "8/8 [==============================] - 1s 181ms/step - loss: 1.5300 - accuracy: 0.2876 - val_loss: 1.5322 - val_accuracy: 0.2935\n",
      "Epoch 18/100\n",
      "8/8 [==============================] - 1s 178ms/step - loss: 1.5251 - accuracy: 0.2876 - val_loss: 1.5394 - val_accuracy: 0.2717\n",
      "Epoch 19/100\n",
      "8/8 [==============================] - 1s 202ms/step - loss: 1.5357 - accuracy: 0.2876 - val_loss: 1.5273 - val_accuracy: 0.3261\n",
      "Epoch 20/100\n",
      "8/8 [==============================] - 1s 203ms/step - loss: 1.5231 - accuracy: 0.3142 - val_loss: 1.5337 - val_accuracy: 0.3043\n",
      "Epoch 21/100\n",
      "8/8 [==============================] - 1s 201ms/step - loss: 1.5220 - accuracy: 0.3097 - val_loss: 1.5272 - val_accuracy: 0.3152\n",
      "Epoch 22/100\n",
      "8/8 [==============================] - 1s 184ms/step - loss: 1.5348 - accuracy: 0.3496 - val_loss: 1.5421 - val_accuracy: 0.2935\n",
      "Epoch 23/100\n",
      "8/8 [==============================] - 1s 182ms/step - loss: 1.5648 - accuracy: 0.2920 - val_loss: 1.5459 - val_accuracy: 0.2935\n",
      "Epoch 24/100\n",
      "8/8 [==============================] - 1s 181ms/step - loss: 1.5430 - accuracy: 0.2920 - val_loss: 1.5310 - val_accuracy: 0.2935\n",
      "Epoch 25/100\n",
      "8/8 [==============================] - 1s 181ms/step - loss: 1.5054 - accuracy: 0.3540 - val_loss: 1.5403 - val_accuracy: 0.3043\n",
      "Epoch 26/100\n",
      "8/8 [==============================] - 1s 204ms/step - loss: 1.5485 - accuracy: 0.2965 - val_loss: 1.5559 - val_accuracy: 0.3043\n",
      "Epoch 27/100\n",
      "8/8 [==============================] - 1s 179ms/step - loss: 1.5207 - accuracy: 0.3274 - val_loss: 1.5242 - val_accuracy: 0.3152\n",
      "Epoch 28/100\n",
      "8/8 [==============================] - 1s 184ms/step - loss: 1.5128 - accuracy: 0.3053 - val_loss: 1.5334 - val_accuracy: 0.2935\n",
      "Epoch 29/100\n",
      "8/8 [==============================] - 1s 184ms/step - loss: 1.5134 - accuracy: 0.3097 - val_loss: 1.5249 - val_accuracy: 0.3370\n",
      "Epoch 30/100\n",
      "8/8 [==============================] - 1s 180ms/step - loss: 1.5301 - accuracy: 0.3319 - val_loss: 1.5173 - val_accuracy: 0.3152\n",
      "Epoch 31/100\n",
      "8/8 [==============================] - 1s 185ms/step - loss: 1.5864 - accuracy: 0.3009 - val_loss: 1.5674 - val_accuracy: 0.3261\n",
      "Epoch 32/100\n",
      "8/8 [==============================] - 1s 181ms/step - loss: 1.5480 - accuracy: 0.2965 - val_loss: 1.5438 - val_accuracy: 0.2500\n",
      "Epoch 33/100\n",
      "8/8 [==============================] - 1s 184ms/step - loss: 1.5293 - accuracy: 0.3274 - val_loss: 1.5251 - val_accuracy: 0.2935\n",
      "Epoch 34/100\n",
      "8/8 [==============================] - 1s 184ms/step - loss: 1.5668 - accuracy: 0.2920 - val_loss: 1.5635 - val_accuracy: 0.2935\n",
      "Epoch 35/100\n",
      "8/8 [==============================] - 1s 183ms/step - loss: 1.5446 - accuracy: 0.3274 - val_loss: 1.5391 - val_accuracy: 0.3043\n",
      "Epoch 36/100\n",
      "8/8 [==============================] - 1s 179ms/step - loss: 1.5398 - accuracy: 0.3053 - val_loss: 1.5456 - val_accuracy: 0.3043\n",
      "Epoch 37/100\n",
      "8/8 [==============================] - 1s 203ms/step - loss: 1.5377 - accuracy: 0.3097 - val_loss: 1.5394 - val_accuracy: 0.3043\n",
      "Epoch 38/100\n",
      "8/8 [==============================] - 1s 201ms/step - loss: 1.5381 - accuracy: 0.3097 - val_loss: 1.5388 - val_accuracy: 0.3043\n",
      "Epoch 39/100\n",
      "8/8 [==============================] - 1s 185ms/step - loss: 1.5112 - accuracy: 0.3097 - val_loss: 1.5241 - val_accuracy: 0.3261\n",
      "Epoch 40/100\n",
      "8/8 [==============================] - 1s 200ms/step - loss: 1.5684 - accuracy: 0.2832 - val_loss: 1.6016 - val_accuracy: 0.3043\n",
      "Epoch 41/100\n",
      "8/8 [==============================] - 1s 187ms/step - loss: 1.5271 - accuracy: 0.2876 - val_loss: 1.5300 - val_accuracy: 0.2935\n",
      "Epoch 42/100\n",
      "8/8 [==============================] - 1s 187ms/step - loss: 1.5132 - accuracy: 0.2920 - val_loss: 1.5275 - val_accuracy: 0.2935\n",
      "Epoch 43/100\n",
      "8/8 [==============================] - 1s 183ms/step - loss: 1.5184 - accuracy: 0.3009 - val_loss: 1.5449 - val_accuracy: 0.2826\n",
      "Epoch 44/100\n",
      "8/8 [==============================] - 1s 185ms/step - loss: 1.5239 - accuracy: 0.3053 - val_loss: 1.5500 - val_accuracy: 0.3043\n",
      "Epoch 45/100\n",
      "8/8 [==============================] - 1s 187ms/step - loss: 1.5382 - accuracy: 0.3142 - val_loss: 1.5504 - val_accuracy: 0.3043\n",
      "Epoch 46/100\n",
      "8/8 [==============================] - 1s 183ms/step - loss: 1.5263 - accuracy: 0.3142 - val_loss: 1.5190 - val_accuracy: 0.3152\n",
      "Epoch 47/100\n",
      "8/8 [==============================] - 1s 207ms/step - loss: 1.5287 - accuracy: 0.3319 - val_loss: 1.5241 - val_accuracy: 0.3043\n",
      "Epoch 48/100\n",
      "8/8 [==============================] - 1s 187ms/step - loss: 1.4953 - accuracy: 0.3186 - val_loss: 1.5246 - val_accuracy: 0.3043\n",
      "Epoch 49/100\n",
      "8/8 [==============================] - 1s 185ms/step - loss: 1.5039 - accuracy: 0.3186 - val_loss: 1.5253 - val_accuracy: 0.3152\n",
      "Epoch 50/100\n",
      "8/8 [==============================] - 2s 191ms/step - loss: 1.5023 - accuracy: 0.3186 - val_loss: 1.5418 - val_accuracy: 0.3043\n",
      "Epoch 51/100\n",
      "8/8 [==============================] - 1s 185ms/step - loss: 1.5081 - accuracy: 0.3319 - val_loss: 1.5251 - val_accuracy: 0.2826\n",
      "Epoch 52/100\n",
      "8/8 [==============================] - 1s 186ms/step - loss: 1.5080 - accuracy: 0.2876 - val_loss: 1.5459 - val_accuracy: 0.2935\n",
      "Epoch 53/100\n",
      "8/8 [==============================] - 1s 184ms/step - loss: 1.4930 - accuracy: 0.3009 - val_loss: 1.5505 - val_accuracy: 0.2826\n",
      "Epoch 54/100\n",
      "8/8 [==============================] - 1s 184ms/step - loss: 1.4807 - accuracy: 0.3097 - val_loss: 1.5200 - val_accuracy: 0.2935\n",
      "Epoch 55/100\n",
      "8/8 [==============================] - 1s 187ms/step - loss: 1.4802 - accuracy: 0.3584 - val_loss: 1.5367 - val_accuracy: 0.3152\n",
      "Epoch 56/100\n",
      "8/8 [==============================] - 1s 204ms/step - loss: 1.5040 - accuracy: 0.3230 - val_loss: 1.5054 - val_accuracy: 0.3370\n",
      "Epoch 57/100\n",
      "8/8 [==============================] - 1s 184ms/step - loss: 1.4436 - accuracy: 0.3319 - val_loss: 1.6236 - val_accuracy: 0.1957\n",
      "Epoch 58/100\n",
      "8/8 [==============================] - 2s 189ms/step - loss: 1.5874 - accuracy: 0.3053 - val_loss: 1.5219 - val_accuracy: 0.3152\n"
     ]
    },
    {
     "name": "stdout",
     "output_type": "stream",
     "text": [
      "Epoch 59/100\n",
      "8/8 [==============================] - 1s 186ms/step - loss: 1.4896 - accuracy: 0.3186 - val_loss: 1.5526 - val_accuracy: 0.3152\n",
      "Epoch 60/100\n",
      "8/8 [==============================] - 1s 186ms/step - loss: 1.5003 - accuracy: 0.3230 - val_loss: 1.5222 - val_accuracy: 0.3043\n",
      "Epoch 61/100\n",
      "8/8 [==============================] - 1s 185ms/step - loss: 1.4595 - accuracy: 0.3407 - val_loss: 1.5535 - val_accuracy: 0.2826\n",
      "Epoch 62/100\n",
      "8/8 [==============================] - 1s 182ms/step - loss: 1.4711 - accuracy: 0.3540 - val_loss: 1.5386 - val_accuracy: 0.2826\n",
      "Epoch 63/100\n",
      "8/8 [==============================] - 1s 182ms/step - loss: 1.4732 - accuracy: 0.3142 - val_loss: 1.5155 - val_accuracy: 0.3152\n",
      "Epoch 64/100\n",
      "8/8 [==============================] - 1s 186ms/step - loss: 1.4776 - accuracy: 0.3319 - val_loss: 1.5036 - val_accuracy: 0.3152\n",
      "Epoch 65/100\n",
      "8/8 [==============================] - 1s 183ms/step - loss: 1.4700 - accuracy: 0.3363 - val_loss: 1.6960 - val_accuracy: 0.1957\n",
      "Epoch 66/100\n",
      "8/8 [==============================] - 1s 187ms/step - loss: 1.4978 - accuracy: 0.3274 - val_loss: 1.4967 - val_accuracy: 0.3152\n",
      "Epoch 67/100\n",
      "8/8 [==============================] - 1s 185ms/step - loss: 1.4838 - accuracy: 0.3407 - val_loss: 1.5270 - val_accuracy: 0.3261\n",
      "Epoch 68/100\n",
      "8/8 [==============================] - 1s 188ms/step - loss: 1.4849 - accuracy: 0.3319 - val_loss: 1.6009 - val_accuracy: 0.2609\n",
      "Epoch 69/100\n",
      "8/8 [==============================] - 1s 184ms/step - loss: 1.4315 - accuracy: 0.3673 - val_loss: 1.6730 - val_accuracy: 0.1522\n",
      "Epoch 70/100\n",
      "8/8 [==============================] - 1s 188ms/step - loss: 1.5039 - accuracy: 0.3274 - val_loss: 1.5181 - val_accuracy: 0.3043\n",
      "Epoch 71/100\n",
      "8/8 [==============================] - 1s 210ms/step - loss: 1.5104 - accuracy: 0.3230 - val_loss: 1.5210 - val_accuracy: 0.3043\n",
      "Epoch 72/100\n",
      "8/8 [==============================] - 1s 188ms/step - loss: 1.4851 - accuracy: 0.3274 - val_loss: 1.5159 - val_accuracy: 0.3043\n",
      "Epoch 73/100\n",
      "8/8 [==============================] - 1s 187ms/step - loss: 1.4790 - accuracy: 0.3451 - val_loss: 1.5332 - val_accuracy: 0.2935\n",
      "Epoch 74/100\n",
      "8/8 [==============================] - 1s 185ms/step - loss: 1.5144 - accuracy: 0.3540 - val_loss: 1.5379 - val_accuracy: 0.3152\n",
      "Epoch 75/100\n",
      "8/8 [==============================] - 1s 182ms/step - loss: 1.4906 - accuracy: 0.3230 - val_loss: 1.5129 - val_accuracy: 0.3152\n",
      "Epoch 76/100\n",
      "8/8 [==============================] - 1s 184ms/step - loss: 1.4756 - accuracy: 0.3407 - val_loss: 1.5690 - val_accuracy: 0.3152\n",
      "Epoch 77/100\n",
      "8/8 [==============================] - 1s 181ms/step - loss: 1.4871 - accuracy: 0.3451 - val_loss: 1.6299 - val_accuracy: 0.2283\n",
      "Epoch 78/100\n",
      "8/8 [==============================] - 1s 182ms/step - loss: 1.4236 - accuracy: 0.3717 - val_loss: 1.5053 - val_accuracy: 0.3043\n",
      "Epoch 79/100\n",
      "8/8 [==============================] - 1s 182ms/step - loss: 1.4866 - accuracy: 0.3274 - val_loss: 1.5169 - val_accuracy: 0.3043\n",
      "Epoch 80/100\n",
      "8/8 [==============================] - 1s 184ms/step - loss: 1.5197 - accuracy: 0.3053 - val_loss: 1.5105 - val_accuracy: 0.3152\n",
      "Epoch 81/100\n",
      "8/8 [==============================] - 1s 186ms/step - loss: 1.5233 - accuracy: 0.2965 - val_loss: 1.5201 - val_accuracy: 0.3043\n",
      "Epoch 82/100\n",
      "8/8 [==============================] - 2s 188ms/step - loss: 1.5632 - accuracy: 0.3009 - val_loss: 1.5720 - val_accuracy: 0.3043\n",
      "Epoch 83/100\n",
      "8/8 [==============================] - 1s 187ms/step - loss: 1.5617 - accuracy: 0.3053 - val_loss: 1.5700 - val_accuracy: 0.3043\n",
      "Epoch 84/100\n",
      "8/8 [==============================] - 1s 185ms/step - loss: 1.5662 - accuracy: 0.3009 - val_loss: 1.6048 - val_accuracy: 0.3043\n",
      "Epoch 85/100\n",
      "8/8 [==============================] - 1s 184ms/step - loss: 1.5643 - accuracy: 0.3053 - val_loss: 1.5646 - val_accuracy: 0.3043\n",
      "Epoch 86/100\n",
      "8/8 [==============================] - 1s 184ms/step - loss: 1.5560 - accuracy: 0.3097 - val_loss: 1.5614 - val_accuracy: 0.3043\n",
      "Epoch 87/100\n",
      "8/8 [==============================] - 1s 183ms/step - loss: 1.5492 - accuracy: 0.3097 - val_loss: 1.5576 - val_accuracy: 0.3043\n",
      "Epoch 88/100\n",
      "8/8 [==============================] - 1s 184ms/step - loss: 1.5432 - accuracy: 0.3142 - val_loss: 1.5543 - val_accuracy: 0.3043\n",
      "Epoch 89/100\n",
      "8/8 [==============================] - 1s 184ms/step - loss: 1.5405 - accuracy: 0.3097 - val_loss: 1.5514 - val_accuracy: 0.3043\n",
      "Epoch 90/100\n",
      "8/8 [==============================] - 1s 188ms/step - loss: 1.5354 - accuracy: 0.3142 - val_loss: 1.5487 - val_accuracy: 0.3043\n",
      "Epoch 91/100\n",
      "8/8 [==============================] - 1s 203ms/step - loss: 1.5348 - accuracy: 0.3097 - val_loss: 1.5464 - val_accuracy: 0.3043\n",
      "Epoch 92/100\n",
      "8/8 [==============================] - 1s 185ms/step - loss: 1.5305 - accuracy: 0.3142 - val_loss: 1.5435 - val_accuracy: 0.3043\n",
      "Epoch 93/100\n",
      "8/8 [==============================] - 1s 185ms/step - loss: 1.5277 - accuracy: 0.3097 - val_loss: 1.5406 - val_accuracy: 0.3043\n",
      "Epoch 94/100\n",
      "8/8 [==============================] - 1s 183ms/step - loss: 1.5244 - accuracy: 0.3142 - val_loss: 1.5383 - val_accuracy: 0.3043\n",
      "Epoch 95/100\n",
      "8/8 [==============================] - 1s 204ms/step - loss: 1.5214 - accuracy: 0.3142 - val_loss: 1.5363 - val_accuracy: 0.3043\n",
      "Epoch 96/100\n",
      "8/8 [==============================] - 1s 183ms/step - loss: 1.5164 - accuracy: 0.3142 - val_loss: 1.5347 - val_accuracy: 0.3043\n",
      "Epoch 97/100\n",
      "8/8 [==============================] - 1s 179ms/step - loss: 1.5164 - accuracy: 0.3142 - val_loss: 1.5333 - val_accuracy: 0.3043\n",
      "Epoch 98/100\n",
      "8/8 [==============================] - 1s 199ms/step - loss: 1.5093 - accuracy: 0.3186 - val_loss: 1.5325 - val_accuracy: 0.3043\n",
      "Epoch 99/100\n",
      "8/8 [==============================] - 1s 205ms/step - loss: 1.5044 - accuracy: 0.3186 - val_loss: 1.5309 - val_accuracy: 0.3043\n",
      "Epoch 100/100\n",
      "8/8 [==============================] - 1s 184ms/step - loss: 1.5019 - accuracy: 0.3230 - val_loss: 1.5296 - val_accuracy: 0.3043\n"
     ]
    }
   ],
   "source": [
    "history = model.fit(x = training_set, validation_data = test_set, epochs = EPOCS)"
   ]
  },
  {
   "cell_type": "code",
   "execution_count": 9,
   "metadata": {},
   "outputs": [
    {
     "name": "stderr",
     "output_type": "stream",
     "text": [
      "2023-05-26 03:58:02.379263: I tensorflow/core/common_runtime/executor.cc:1197] [/device:CPU:0] (DEBUG INFO) Executor start aborting (this does not indicate an error and you can ignore this message): INVALID_ARGUMENT: You must feed a value for placeholder tensor 'Placeholder/_0' with dtype int32\n",
      "\t [[{{node Placeholder/_0}}]]\n"
     ]
    },
    {
     "name": "stdout",
     "output_type": "stream",
     "text": [
      "3/3 - 0s - loss: 1.5295 - accuracy: 0.3043 - 420ms/epoch - 140ms/step\n"
     ]
    },
    {
     "data": {
      "image/png": "[encoded data removed]",
      "text/plain": [
       "<Figure size 640x480 with 1 Axes>"
      ]
     },
     "metadata": {},
     "output_type": "display_data"
    }
   ],
   "source": [
    "plt.plot(history.history['accuracy'], label='accuracy')\n",
    "plt.plot(history.history['val_accuracy'], label = 'val_accuracy')\n",
    "plt.xlabel('Epoch')\n",
    "plt.ylabel('Accuracy')\n",
    "plt.ylim([0.5, 1])\n",
    "plt.legend(loc='lower right')\n",
    "\n",
    "test_loss, test_acc = model.evaluate(test_set, verbose=2)"
   ]
  },
  {
   "cell_type": "code",
   "execution_count": 10,
   "metadata": {},
   "outputs": [
    {
     "name": "stdout",
     "output_type": "stream",
     "text": [
      "0.30434781312942505\n"
     ]
    }
   ],
   "source": [
    "print(test_acc)"
   ]
  },
  {
   "cell_type": "markdown",
   "metadata": {},
   "source": [
    "# Saving the model"
   ]
  },
  {
   "cell_type": "code",
   "execution_count": 11,
   "metadata": {},
   "outputs": [
    {
     "name": "stderr",
     "output_type": "stream",
     "text": [
      "2023-05-26 03:58:03.039413: I tensorflow/core/common_runtime/executor.cc:1197] [/device:CPU:0] (DEBUG INFO) Executor start aborting (this does not indicate an error and you can ignore this message): INVALID_ARGUMENT: You must feed a value for placeholder tensor 'random_rotation_input' with dtype float and shape [?,256,256,1]\n",
      "\t [[{{node random_rotation_input}}]]\n",
      "2023-05-26 03:58:03.101265: I tensorflow/core/common_runtime/executor.cc:1197] [/device:CPU:0] (DEBUG INFO) Executor start aborting (this does not indicate an error and you can ignore this message): INVALID_ARGUMENT: You must feed a value for placeholder tensor 'inputs' with dtype float and shape [?,256,256,1]\n",
      "\t [[{{node inputs}}]]\n",
      "2023-05-26 03:58:03.118425: I tensorflow/core/common_runtime/executor.cc:1197] [/device:CPU:0] (DEBUG INFO) Executor start aborting (this does not indicate an error and you can ignore this message): INVALID_ARGUMENT: You must feed a value for placeholder tensor 'random_rotation_input' with dtype float and shape [?,256,256,1]\n",
      "\t [[{{node random_rotation_input}}]]\n",
      "2023-05-26 03:58:03.144034: I tensorflow/core/common_runtime/executor.cc:1197] [/device:CPU:0] (DEBUG INFO) Executor start aborting (this does not indicate an error and you can ignore this message): INVALID_ARGUMENT: You must feed a value for placeholder tensor 'inputs' with dtype float and shape [?,256,256,1]\n",
      "\t [[{{node inputs}}]]\n",
      "2023-05-26 03:58:03.162362: I tensorflow/core/common_runtime/executor.cc:1197] [/device:CPU:0] (DEBUG INFO) Executor start aborting (this does not indicate an error and you can ignore this message): INVALID_ARGUMENT: You must feed a value for placeholder tensor 'inputs' with dtype float and shape [?,230400]\n",
      "\t [[{{node inputs}}]]\n",
      "2023-05-26 03:58:03.181816: I tensorflow/core/common_runtime/executor.cc:1197] [/device:CPU:0] (DEBUG INFO) Executor start aborting (this does not indicate an error and you can ignore this message): INVALID_ARGUMENT: You must feed a value for placeholder tensor 'inputs' with dtype float and shape [?,256,256,1]\n",
      "\t [[{{node inputs}}]]\n",
      "2023-05-26 03:58:03.250640: I tensorflow/core/common_runtime/executor.cc:1197] [/device:CPU:0] (DEBUG INFO) Executor start aborting (this does not indicate an error and you can ignore this message): INVALID_ARGUMENT: You must feed a value for placeholder tensor 'inputs' with dtype float and shape [?,256,256,1]\n",
      "\t [[{{node inputs}}]]\n",
      "2023-05-26 03:58:03.357371: I tensorflow/core/common_runtime/executor.cc:1197] [/device:CPU:0] (DEBUG INFO) Executor start aborting (this does not indicate an error and you can ignore this message): INVALID_ARGUMENT: You must feed a value for placeholder tensor 'inputs' with dtype float and shape [?,256,256,1]\n",
      "\t [[{{node inputs}}]]\n",
      "2023-05-26 03:58:03.444191: I tensorflow/core/common_runtime/executor.cc:1197] [/device:CPU:0] (DEBUG INFO) Executor start aborting (this does not indicate an error and you can ignore this message): INVALID_ARGUMENT: You must feed a value for placeholder tensor 'inputs' with dtype float and shape [?,230400]\n",
      "\t [[{{node inputs}}]]\n",
      "WARNING:absl:Found untraced functions such as _jit_compiled_convolution_op, _jit_compiled_convolution_op, _jit_compiled_convolution_op while saving (showing 3 of 3). These functions will not be directly callable after loading.\n"
     ]
    },
    {
     "name": "stdout",
     "output_type": "stream",
     "text": [
      "INFO:tensorflow:Assets written to: models/model_w256_acc0.30434781312942505_2023-05-26T03:58:02.924688/assets\n"
     ]
    },
    {
     "name": "stderr",
     "output_type": "stream",
     "text": [
      "INFO:tensorflow:Assets written to: models/model_w256_acc0.30434781312942505_2023-05-26T03:58:02.924688/assets\n"
     ]
    }
   ],
   "source": [
    "MODEL = f'models/model_w{WIDTH}_acc{test_acc}_{datetime.now().isoformat()}'\n",
    "model.save(MODEL)"
   ]
  },
  {
   "cell_type": "markdown",
   "metadata": {},
   "source": [
    "## Converting to TF Lite"
   ]
  },
  {
   "cell_type": "code",
   "execution_count": 12,
   "metadata": {},
   "outputs": [],
   "source": [
    "converter = tf.lite.TFLiteConverter.from_keras_model(model)"
   ]
  },
  {
   "cell_type": "code",
   "execution_count": 13,
   "metadata": {},
   "outputs": [
    {
     "name": "stderr",
     "output_type": "stream",
     "text": [
      "2023-05-26 03:58:04.006515: I tensorflow/core/common_runtime/executor.cc:1197] [/device:CPU:0] (DEBUG INFO) Executor start aborting (this does not indicate an error and you can ignore this message): INVALID_ARGUMENT: You must feed a value for placeholder tensor 'random_rotation_input' with dtype float and shape [?,256,256,1]\n",
      "\t [[{{node random_rotation_input}}]]\n",
      "2023-05-26 03:58:04.065752: I tensorflow/core/common_runtime/executor.cc:1197] [/device:CPU:0] (DEBUG INFO) Executor start aborting (this does not indicate an error and you can ignore this message): INVALID_ARGUMENT: You must feed a value for placeholder tensor 'inputs' with dtype float and shape [?,256,256,1]\n",
      "\t [[{{node inputs}}]]\n",
      "2023-05-26 03:58:04.082838: I tensorflow/core/common_runtime/executor.cc:1197] [/device:CPU:0] (DEBUG INFO) Executor start aborting (this does not indicate an error and you can ignore this message): INVALID_ARGUMENT: You must feed a value for placeholder tensor 'random_rotation_input' with dtype float and shape [?,256,256,1]\n",
      "\t [[{{node random_rotation_input}}]]\n",
      "2023-05-26 03:58:04.230548: I tensorflow/core/common_runtime/executor.cc:1197] [/device:CPU:0] (DEBUG INFO) Executor start aborting (this does not indicate an error and you can ignore this message): INVALID_ARGUMENT: You must feed a value for placeholder tensor 'inputs' with dtype float and shape [?,256,256,1]\n",
      "\t [[{{node inputs}}]]\n",
      "2023-05-26 03:58:04.249924: I tensorflow/core/common_runtime/executor.cc:1197] [/device:CPU:0] (DEBUG INFO) Executor start aborting (this does not indicate an error and you can ignore this message): INVALID_ARGUMENT: You must feed a value for placeholder tensor 'inputs' with dtype float and shape [?,230400]\n",
      "\t [[{{node inputs}}]]\n",
      "2023-05-26 03:58:04.268800: I tensorflow/core/common_runtime/executor.cc:1197] [/device:CPU:0] (DEBUG INFO) Executor start aborting (this does not indicate an error and you can ignore this message): INVALID_ARGUMENT: You must feed a value for placeholder tensor 'inputs' with dtype float and shape [?,256,256,1]\n",
      "\t [[{{node inputs}}]]\n",
      "2023-05-26 03:58:04.320207: I tensorflow/core/common_runtime/executor.cc:1197] [/device:CPU:0] (DEBUG INFO) Executor start aborting (this does not indicate an error and you can ignore this message): INVALID_ARGUMENT: You must feed a value for placeholder tensor 'inputs' with dtype float and shape [?,256,256,1]\n",
      "\t [[{{node inputs}}]]\n",
      "2023-05-26 03:58:04.407533: I tensorflow/core/common_runtime/executor.cc:1197] [/device:CPU:0] (DEBUG INFO) Executor start aborting (this does not indicate an error and you can ignore this message): INVALID_ARGUMENT: You must feed a value for placeholder tensor 'inputs' with dtype float and shape [?,256,256,1]\n",
      "\t [[{{node inputs}}]]\n",
      "2023-05-26 03:58:04.494771: I tensorflow/core/common_runtime/executor.cc:1197] [/device:CPU:0] (DEBUG INFO) Executor start aborting (this does not indicate an error and you can ignore this message): INVALID_ARGUMENT: You must feed a value for placeholder tensor 'inputs' with dtype float and shape [?,230400]\n",
      "\t [[{{node inputs}}]]\n",
      "WARNING:absl:Found untraced functions such as _jit_compiled_convolution_op, _jit_compiled_convolution_op, _jit_compiled_convolution_op while saving (showing 3 of 3). These functions will not be directly callable after loading.\n"
     ]
    },
    {
     "name": "stdout",
     "output_type": "stream",
     "text": [
      "INFO:tensorflow:Assets written to: /tmp/tmpw1tj22u8/assets\n"
     ]
    },
    {
     "name": "stderr",
     "output_type": "stream",
     "text": [
      "INFO:tensorflow:Assets written to: /tmp/tmpw1tj22u8/assets\n",
      "2023-05-26 03:58:05.480589: W tensorflow/compiler/mlir/lite/python/tf_tfl_flatbuffer_helpers.cc:364] Ignored output_format.\n",
      "2023-05-26 03:58:05.480618: W tensorflow/compiler/mlir/lite/python/tf_tfl_flatbuffer_helpers.cc:367] Ignored drop_control_dependency.\n",
      "2023-05-26 03:58:05.480882: I tensorflow/cc/saved_model/reader.cc:45] Reading SavedModel from: /tmp/tmpw1tj22u8\n",
      "2023-05-26 03:58:05.482168: I tensorflow/cc/saved_model/reader.cc:89] Reading meta graph with tags { serve }\n",
      "2023-05-26 03:58:05.482178: I tensorflow/cc/saved_model/reader.cc:130] Reading SavedModel debug info (if present) from: /tmp/tmpw1tj22u8\n",
      "2023-05-26 03:58:05.487296: I tensorflow/compiler/mlir/mlir_graph_optimization_pass.cc:353] MLIR V1 optimization pass is not enabled\n",
      "2023-05-26 03:58:05.488360: I tensorflow/cc/saved_model/loader.cc:231] Restoring SavedModel bundle.\n",
      "2023-05-26 03:58:05.559096: I tensorflow/cc/saved_model/loader.cc:215] Running initialization op on SavedModel bundle at path: /tmp/tmpw1tj22u8\n",
      "2023-05-26 03:58:05.569566: I tensorflow/cc/saved_model/loader.cc:314] SavedModel load for tags { serve }; Status: success: OK. Took 88680 microseconds.\n"
     ]
    }
   ],
   "source": [
    "tfmodel = converter.convert()"
   ]
  },
  {
   "cell_type": "code",
   "execution_count": 14,
   "metadata": {},
   "outputs": [],
   "source": [
    "f = tf.io.gfile.GFile(f'{MODEL}.tflite', 'wb')\n",
    "f.write(tfmodel)\n",
    "f.close()"
   ]
  },
  {
   "cell_type": "code",
   "execution_count": 15,
   "metadata": {},
   "outputs": [
    {
     "data": {
      "text/plain": [
       "'models/model_w256_acc0.30434781312942505_2023-05-26T03:58:02.924688.tflite'"
      ]
     },
     "execution_count": 15,
     "metadata": {},
     "output_type": "execute_result"
    }
   ],
   "source": [
    "f'{MODEL}.tflite'"
   ]
  },
  {
   "cell_type": "code",
   "execution_count": null,
   "metadata": {},
   "outputs": [],
   "source": []
  },
  {
   "cell_type": "code",
   "execution_count": 22,
   "metadata": {},
   "outputs": [],
   "source": []
  },
  {
   "cell_type": "code",
   "execution_count": null,
   "metadata": {},
   "outputs": [],
   "source": []
  }
 ],
 "metadata": {
  "colab": {
   "collapsed_sections": [],
   "name": "Processador.ipynb",
   "provenance": []
  },
  "kernelspec": {
   "display_name": "Python 3 (ipykernel)",
   "language": "python",
   "name": "python3"
  },
  "language_info": {
   "codemirror_mode": {
    "name": "ipython",
    "version": 3
   },
   "file_extension": ".py",
   "mimetype": "text/x-python",
   "name": "python",
   "nbconvert_exporter": "python",
   "pygments_lexer": "ipython3",
   "version": "3.8.10"
  }
 },
 "nbformat": 4,
 "nbformat_minor": 4
}
