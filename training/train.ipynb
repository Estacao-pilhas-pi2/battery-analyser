{
 "cells": [
  {
   "cell_type": "code",
   "execution_count": 1,
   "metadata": {},
   "outputs": [
    {
     "name": "stderr",
     "output_type": "stream",
     "text": [
      "2023-05-25 22:49:55.947384: I tensorflow/core/platform/cpu_feature_guard.cc:182] This TensorFlow binary is optimized to use available CPU instructions in performance-critical operations.\n",
      "To enable the following instructions: AVX2 FMA, in other operations, rebuild TensorFlow with the appropriate compiler flags.\n"
     ]
    }
   ],
   "source": [
    "from keras.preprocessing.image import ImageDataGenerator\n",
    "from keras.utils.np_utils import to_categorical \n",
    "from keras.layers import Conv2D, MaxPool2D, MaxPooling2D, Flatten, Dense, Dropout, LeakyReLU, RandomRotation\n",
    "from keras.models import Sequential\n",
    "from keras.preprocessing import image\n",
    "from keras.layers import BatchNormalization\n",
    "import numpy as np\n",
    "import matplotlib.pyplot as plt\n",
    "\n",
    "from datetime import datetime\n",
    "\n",
    "import tensorflow as tf"
   ]
  },
  {
   "cell_type": "code",
   "execution_count": 2,
   "metadata": {},
   "outputs": [
    {
     "name": "stdout",
     "output_type": "stream",
     "text": [
      "Num GPUs Available:  1\n"
     ]
    },
    {
     "name": "stderr",
     "output_type": "stream",
     "text": [
      "2023-05-25 22:49:57.294789: I tensorflow/compiler/xla/stream_executor/cuda/cuda_gpu_executor.cc:996] successful NUMA node read from SysFS had negative value (-1), but there must be at least one NUMA node, so returning NUMA node zero. See more at https://github.com/torvalds/linux/blob/v6.0/Documentation/ABI/testing/sysfs-bus-pci#L344-L355\n",
      "2023-05-25 22:49:57.299165: I tensorflow/compiler/xla/stream_executor/cuda/cuda_gpu_executor.cc:996] successful NUMA node read from SysFS had negative value (-1), but there must be at least one NUMA node, so returning NUMA node zero. See more at https://github.com/torvalds/linux/blob/v6.0/Documentation/ABI/testing/sysfs-bus-pci#L344-L355\n",
      "2023-05-25 22:49:57.300478: I tensorflow/compiler/xla/stream_executor/cuda/cuda_gpu_executor.cc:996] successful NUMA node read from SysFS had negative value (-1), but there must be at least one NUMA node, so returning NUMA node zero. See more at https://github.com/torvalds/linux/blob/v6.0/Documentation/ABI/testing/sysfs-bus-pci#L344-L355\n"
     ]
    }
   ],
   "source": [
    "print(\"Num GPUs Available: \", len(tf.config.list_physical_devices('GPU')))"
   ]
  },
  {
   "cell_type": "markdown",
   "metadata": {},
   "source": [
    "# Definitions"
   ]
  },
  {
   "cell_type": "code",
   "execution_count": 3,
   "metadata": {},
   "outputs": [],
   "source": [
    "WIDTH, HEIGHT = IMAGE_SIZE = (256, 256)\n",
    "DEPTH = 3\n",
    "DATASET_PATH = \"dataset\"\n",
    "EPOCS = 300"
   ]
  },
  {
   "cell_type": "markdown",
   "metadata": {
    "id": "NL7VXYyecFtH"
   },
   "source": [
    "# Data Preprocessing"
   ]
  },
  {
   "cell_type": "markdown",
   "metadata": {
    "id": "anu1oI8RcJfE"
   },
   "source": [
    "### Preprocessing the Training set"
   ]
  },
  {
   "cell_type": "code",
   "execution_count": 4,
   "metadata": {
    "id": "Ts-KG1fSX2wr"
   },
   "outputs": [
    {
     "name": "stdout",
     "output_type": "stream",
     "text": [
      "Found 141 images belonging to 5 classes.\n",
      "Found 32 images belonging to 5 classes.\n"
     ]
    }
   ],
   "source": [
    "training_datagen = ImageDataGenerator(rescale = 1./255,\n",
    "                                       shear_range = 0.3,\n",
    "                                       horizontal_flip = True,\n",
    "                                       vertical_flip = True,\n",
    "                                       width_shift_range = 0.2,\n",
    "                                       height_shift_range = 0.2,\n",
    "                                       rotation_range = 50,\n",
    "                                       validation_split = 0.2)\n",
    "\n",
    "training_set = training_datagen.flow_from_directory(DATASET_PATH,\n",
    "                                                     target_size=IMAGE_SIZE,\n",
    "                                                     batch_size=32,\n",
    "                                                     seed=11,\n",
    "                                                     class_mode = 'sparse',\n",
    "                                                     subset = \"training\")\n",
    "test_set = training_datagen.flow_from_directory(DATASET_PATH,\n",
    "                                                     target_size=IMAGE_SIZE,\n",
    "                                                     batch_size=32,\n",
    "                                                     seed=11,\n",
    "                                                     class_mode = 'sparse',\n",
    "                                                     subset = \"validation\")"
   ]
  },
  {
   "cell_type": "code",
   "execution_count": 5,
   "metadata": {},
   "outputs": [
    {
     "data": {
      "text/plain": [
       "{'9V': 0, 'AA': 1, 'AAA': 2, 'D': 3, 'Unknown': 4}"
      ]
     },
     "execution_count": 5,
     "metadata": {},
     "output_type": "execute_result"
    }
   ],
   "source": [
    "class_indices = training_set.class_indices\n",
    "num_classes = len(class_indices)\n",
    "train_labels = training_set.classes\n",
    "train_labels = to_categorical(train_labels, num_classes=len(class_indices))\n",
    "class_indices"
   ]
  },
  {
   "cell_type": "markdown",
   "metadata": {
    "id": "UeHB9v3mdKXd"
   },
   "source": [
    "# Building the CNN\n"
   ]
  },
  {
   "cell_type": "code",
   "execution_count": 6,
   "metadata": {
    "id": "MSNdJrKDdknx"
   },
   "outputs": [
    {
     "name": "stderr",
     "output_type": "stream",
     "text": [
      "2023-05-25 22:49:57.388442: I tensorflow/compiler/xla/stream_executor/cuda/cuda_gpu_executor.cc:996] successful NUMA node read from SysFS had negative value (-1), but there must be at least one NUMA node, so returning NUMA node zero. See more at https://github.com/torvalds/linux/blob/v6.0/Documentation/ABI/testing/sysfs-bus-pci#L344-L355\n",
      "2023-05-25 22:49:57.392286: I tensorflow/compiler/xla/stream_executor/cuda/cuda_gpu_executor.cc:996] successful NUMA node read from SysFS had negative value (-1), but there must be at least one NUMA node, so returning NUMA node zero. See more at https://github.com/torvalds/linux/blob/v6.0/Documentation/ABI/testing/sysfs-bus-pci#L344-L355\n",
      "2023-05-25 22:49:57.394438: I tensorflow/compiler/xla/stream_executor/cuda/cuda_gpu_executor.cc:996] successful NUMA node read from SysFS had negative value (-1), but there must be at least one NUMA node, so returning NUMA node zero. See more at https://github.com/torvalds/linux/blob/v6.0/Documentation/ABI/testing/sysfs-bus-pci#L344-L355\n",
      "2023-05-25 22:49:57.913734: I tensorflow/compiler/xla/stream_executor/cuda/cuda_gpu_executor.cc:996] successful NUMA node read from SysFS had negative value (-1), but there must be at least one NUMA node, so returning NUMA node zero. See more at https://github.com/torvalds/linux/blob/v6.0/Documentation/ABI/testing/sysfs-bus-pci#L344-L355\n",
      "2023-05-25 22:49:57.914601: I tensorflow/compiler/xla/stream_executor/cuda/cuda_gpu_executor.cc:996] successful NUMA node read from SysFS had negative value (-1), but there must be at least one NUMA node, so returning NUMA node zero. See more at https://github.com/torvalds/linux/blob/v6.0/Documentation/ABI/testing/sysfs-bus-pci#L344-L355\n",
      "2023-05-25 22:49:57.915349: I tensorflow/compiler/xla/stream_executor/cuda/cuda_gpu_executor.cc:996] successful NUMA node read from SysFS had negative value (-1), but there must be at least one NUMA node, so returning NUMA node zero. See more at https://github.com/torvalds/linux/blob/v6.0/Documentation/ABI/testing/sysfs-bus-pci#L344-L355\n",
      "2023-05-25 22:49:57.916053: I tensorflow/core/common_runtime/gpu/gpu_device.cc:1635] Created device /job:localhost/replica:0/task:0/device:GPU:0 with 5993 MB memory:  -> device: 0, name: NVIDIA GeForce RTX 2060 SUPER, pci bus id: 0000:01:00.0, compute capability: 7.5\n"
     ]
    }
   ],
   "source": [
    "model = Sequential()\n",
    "model.add(RandomRotation(0.1))\n",
    "model.add(Conv2D(32, (3, 3), activation='relu', input_shape=(HEIGHT, WIDTH, DEPTH)))\n",
    "model.add(MaxPooling2D((2, 2)))\n",
    "model.add(Conv2D(64, (3, 3), activation='relu'))\n",
    "model.add(MaxPooling2D((2, 2)))\n",
    "model.add(Conv2D(64, (3, 3), activation='relu'))\n",
    "\n",
    "model.add(Flatten())\n",
    "model.add(Dropout(0.2))\n",
    "model.add(Dense(64, activation='relu'))\n",
    "model.add(Dense(num_classes))"
   ]
  },
  {
   "cell_type": "code",
   "execution_count": 7,
   "metadata": {
    "id": "CGwuFI48axNp"
   },
   "outputs": [],
   "source": [
    "model.compile(optimizer='adam',\n",
    "              loss=tf.keras.losses.SparseCategoricalCrossentropy(from_logits=True),\n",
    "              metrics=['accuracy'])"
   ]
  },
  {
   "cell_type": "markdown",
   "metadata": {
    "id": "BaB4EIsgedCH"
   },
   "source": [
    "# Part 3 - Training the CNN"
   ]
  },
  {
   "cell_type": "markdown",
   "metadata": {
    "id": "sAZJMiJ0ejRt"
   },
   "source": [
    "### Compiling the CNN"
   ]
  },
  {
   "cell_type": "markdown",
   "metadata": {
    "id": "BmAbjcN9ekDe"
   },
   "source": [
    "### Training the CNN on the Training set and evaluating it on the Test set"
   ]
  },
  {
   "cell_type": "code",
   "execution_count": null,
   "metadata": {
    "id": "GIINmpWVa7WM"
   },
   "outputs": [
    {
     "name": "stderr",
     "output_type": "stream",
     "text": [
      "2023-05-25 22:49:58.890664: I tensorflow/compiler/xla/stream_executor/cuda/cuda_dnn.cc:424] Loaded cuDNN version 8600\n"
     ]
    },
    {
     "name": "stdout",
     "output_type": "stream",
     "text": [
      "Epoch 1/300\n"
     ]
    },
    {
     "name": "stderr",
     "output_type": "stream",
     "text": [
      "2023-05-25 22:49:59.639990: I tensorflow/core/common_runtime/executor.cc:1197] [/device:CPU:0] (DEBUG INFO) Executor start aborting (this does not indicate an error and you can ignore this message): INVALID_ARGUMENT: You must feed a value for placeholder tensor 'Placeholder/_0' with dtype int32\n",
      "\t [[{{node Placeholder/_0}}]]\n",
      "2023-05-25 22:50:00.584996: I tensorflow/compiler/xla/service/service.cc:169] XLA service 0x341af210 initialized for platform CUDA (this does not guarantee that XLA will be used). Devices:\n",
      "2023-05-25 22:50:00.585022: I tensorflow/compiler/xla/service/service.cc:177]   StreamExecutor device (0): NVIDIA GeForce RTX 2060 SUPER, Compute Capability 7.5\n",
      "2023-05-25 22:50:00.589567: I tensorflow/compiler/mlir/tensorflow/utils/dump_mlir_util.cc:269] disabling MLIR crash reproducer, set env var `MLIR_CRASH_REPRODUCER_DIRECTORY` to enable.\n",
      "2023-05-25 22:50:00.685385: I ./tensorflow/compiler/jit/device_compiler.h:180] Compiled cluster using XLA!  This line is logged at most once for the lifetime of the process.\n"
     ]
    },
    {
     "name": "stdout",
     "output_type": "stream",
     "text": [
      "5/5 [==============================] - ETA: 0s - loss: 3.6256 - accuracy: 0.2908"
     ]
    },
    {
     "name": "stderr",
     "output_type": "stream",
     "text": [
      "2023-05-25 22:50:03.735314: I tensorflow/core/common_runtime/executor.cc:1197] [/device:CPU:0] (DEBUG INFO) Executor start aborting (this does not indicate an error and you can ignore this message): INVALID_ARGUMENT: You must feed a value for placeholder tensor 'Placeholder/_0' with dtype int32\n",
      "\t [[{{node Placeholder/_0}}]]\n"
     ]
    },
    {
     "name": "stdout",
     "output_type": "stream",
     "text": [
      "5/5 [==============================] - 4s 560ms/step - loss: 3.6256 - accuracy: 0.2908 - val_loss: 1.5033 - val_accuracy: 0.3438\n",
      "Epoch 2/300\n",
      "5/5 [==============================] - 2s 326ms/step - loss: 1.5320 - accuracy: 0.3688 - val_loss: 1.4875 - val_accuracy: 0.3438\n",
      "Epoch 3/300\n",
      "5/5 [==============================] - 2s 333ms/step - loss: 1.4603 - accuracy: 0.3404 - val_loss: 1.4459 - val_accuracy: 0.3438\n",
      "Epoch 4/300\n",
      "5/5 [==============================] - 2s 324ms/step - loss: 1.4683 - accuracy: 0.3191 - val_loss: 1.4375 - val_accuracy: 0.5625\n",
      "Epoch 5/300\n",
      "5/5 [==============================] - 2s 329ms/step - loss: 1.4535 - accuracy: 0.3688 - val_loss: 1.4162 - val_accuracy: 0.3125\n",
      "Epoch 6/300\n",
      "5/5 [==============================] - 2s 368ms/step - loss: 1.3670 - accuracy: 0.4184 - val_loss: 1.4019 - val_accuracy: 0.3438\n",
      "Epoch 7/300\n",
      "5/5 [==============================] - 2s 321ms/step - loss: 1.3216 - accuracy: 0.4681 - val_loss: 1.2427 - val_accuracy: 0.5000\n",
      "Epoch 8/300\n",
      "5/5 [==============================] - 2s 318ms/step - loss: 1.3320 - accuracy: 0.4326 - val_loss: 1.4098 - val_accuracy: 0.2812\n",
      "Epoch 9/300\n",
      "5/5 [==============================] - 2s 340ms/step - loss: 1.2518 - accuracy: 0.4043 - val_loss: 1.3013 - val_accuracy: 0.4375\n",
      "Epoch 10/300\n",
      "5/5 [==============================] - 2s 375ms/step - loss: 1.2442 - accuracy: 0.4823 - val_loss: 1.2799 - val_accuracy: 0.3750\n",
      "Epoch 11/300\n",
      "5/5 [==============================] - 2s 320ms/step - loss: 1.2090 - accuracy: 0.5035 - val_loss: 1.2847 - val_accuracy: 0.3125\n",
      "Epoch 12/300\n",
      "5/5 [==============================] - 2s 337ms/step - loss: 1.1614 - accuracy: 0.4965 - val_loss: 1.0596 - val_accuracy: 0.6250\n",
      "Epoch 13/300\n",
      "5/5 [==============================] - 2s 324ms/step - loss: 1.0667 - accuracy: 0.5532 - val_loss: 1.0164 - val_accuracy: 0.6250\n",
      "Epoch 14/300\n",
      "5/5 [==============================] - 2s 387ms/step - loss: 1.0348 - accuracy: 0.4965 - val_loss: 0.9791 - val_accuracy: 0.6250\n",
      "Epoch 15/300\n",
      "5/5 [==============================] - 2s 322ms/step - loss: 0.9379 - accuracy: 0.5957 - val_loss: 0.9183 - val_accuracy: 0.6250\n",
      "Epoch 16/300\n",
      "5/5 [==============================] - 2s 324ms/step - loss: 0.9063 - accuracy: 0.6241 - val_loss: 0.8774 - val_accuracy: 0.5312\n",
      "Epoch 17/300\n",
      "5/5 [==============================] - 2s 376ms/step - loss: 0.8633 - accuracy: 0.6383 - val_loss: 0.7575 - val_accuracy: 0.6562\n",
      "Epoch 18/300\n",
      "5/5 [==============================] - 2s 377ms/step - loss: 0.9269 - accuracy: 0.6028 - val_loss: 0.8558 - val_accuracy: 0.5625\n",
      "Epoch 19/300\n",
      "5/5 [==============================] - 2s 320ms/step - loss: 0.8391 - accuracy: 0.5957 - val_loss: 0.7603 - val_accuracy: 0.6562\n",
      "Epoch 20/300\n",
      "5/5 [==============================] - 2s 327ms/step - loss: 0.7835 - accuracy: 0.6383 - val_loss: 0.7749 - val_accuracy: 0.6875\n",
      "Epoch 21/300\n",
      "5/5 [==============================] - 2s 370ms/step - loss: 0.7731 - accuracy: 0.6879 - val_loss: 0.7797 - val_accuracy: 0.5938\n",
      "Epoch 22/300\n",
      "5/5 [==============================] - 2s 369ms/step - loss: 0.7610 - accuracy: 0.6667 - val_loss: 0.5516 - val_accuracy: 0.8125\n",
      "Epoch 23/300\n",
      "5/5 [==============================] - 2s 329ms/step - loss: 0.8044 - accuracy: 0.6596 - val_loss: 1.0330 - val_accuracy: 0.4688\n",
      "Epoch 24/300\n",
      "5/5 [==============================] - 2s 328ms/step - loss: 1.0965 - accuracy: 0.5603 - val_loss: 1.5402 - val_accuracy: 0.3750\n",
      "Epoch 25/300\n",
      "5/5 [==============================] - 2s 367ms/step - loss: 0.9029 - accuracy: 0.6241 - val_loss: 0.7901 - val_accuracy: 0.6875\n",
      "Epoch 26/300\n",
      "5/5 [==============================] - 2s 317ms/step - loss: 0.8187 - accuracy: 0.7234 - val_loss: 1.1221 - val_accuracy: 0.5000\n",
      "Epoch 27/300\n",
      "5/5 [==============================] - 2s 337ms/step - loss: 0.7800 - accuracy: 0.6879 - val_loss: 0.6796 - val_accuracy: 0.7188\n",
      "Epoch 28/300\n",
      "5/5 [==============================] - 2s 331ms/step - loss: 0.7672 - accuracy: 0.6596 - val_loss: 0.7389 - val_accuracy: 0.6250\n",
      "Epoch 29/300\n",
      "5/5 [==============================] - 2s 328ms/step - loss: 0.8077 - accuracy: 0.6312 - val_loss: 0.6628 - val_accuracy: 0.7500\n",
      "Epoch 30/300\n",
      "5/5 [==============================] - 2s 329ms/step - loss: 0.6678 - accuracy: 0.7021 - val_loss: 0.7367 - val_accuracy: 0.5625\n",
      "Epoch 31/300\n",
      "5/5 [==============================] - 2s 320ms/step - loss: 0.7497 - accuracy: 0.6525 - val_loss: 0.6108 - val_accuracy: 0.7500\n",
      "Epoch 32/300\n",
      "5/5 [==============================] - 2s 327ms/step - loss: 0.7205 - accuracy: 0.6879 - val_loss: 0.8216 - val_accuracy: 0.6562\n",
      "Epoch 33/300\n",
      "5/5 [==============================] - 2s 321ms/step - loss: 0.6384 - accuracy: 0.7092 - val_loss: 0.5361 - val_accuracy: 0.8125\n",
      "Epoch 34/300\n",
      "5/5 [==============================] - 2s 321ms/step - loss: 0.6108 - accuracy: 0.7518 - val_loss: 0.4850 - val_accuracy: 0.7500\n",
      "Epoch 35/300\n",
      "5/5 [==============================] - 2s 320ms/step - loss: 0.6890 - accuracy: 0.7234 - val_loss: 0.7192 - val_accuracy: 0.7188\n",
      "Epoch 36/300\n",
      "5/5 [==============================] - 2s 340ms/step - loss: 0.8014 - accuracy: 0.6454 - val_loss: 0.6132 - val_accuracy: 0.6875\n",
      "Epoch 37/300\n",
      "5/5 [==============================] - 2s 325ms/step - loss: 0.7894 - accuracy: 0.6525 - val_loss: 0.8044 - val_accuracy: 0.6875\n",
      "Epoch 38/300\n",
      "5/5 [==============================] - 2s 328ms/step - loss: 0.7160 - accuracy: 0.7163 - val_loss: 0.6384 - val_accuracy: 0.7500\n",
      "Epoch 39/300\n",
      "5/5 [==============================] - 2s 381ms/step - loss: 0.6307 - accuracy: 0.7234 - val_loss: 0.5868 - val_accuracy: 0.7500\n",
      "Epoch 40/300\n",
      "5/5 [==============================] - 2s 330ms/step - loss: 0.6437 - accuracy: 0.7376 - val_loss: 0.4817 - val_accuracy: 0.7188\n",
      "Epoch 41/300\n",
      "5/5 [==============================] - 2s 315ms/step - loss: 0.5855 - accuracy: 0.7092 - val_loss: 0.5217 - val_accuracy: 0.7500\n",
      "Epoch 42/300\n",
      "5/5 [==============================] - 2s 335ms/step - loss: 0.5613 - accuracy: 0.7801 - val_loss: 0.5276 - val_accuracy: 0.7188\n",
      "Epoch 43/300\n",
      "5/5 [==============================] - 2s 385ms/step - loss: 0.6254 - accuracy: 0.7376 - val_loss: 0.5122 - val_accuracy: 0.7500\n",
      "Epoch 44/300\n",
      "5/5 [==============================] - 2s 322ms/step - loss: 0.5799 - accuracy: 0.7801 - val_loss: 0.5208 - val_accuracy: 0.7812\n",
      "Epoch 45/300\n",
      "5/5 [==============================] - 2s 324ms/step - loss: 0.6243 - accuracy: 0.7447 - val_loss: 0.7321 - val_accuracy: 0.6562\n",
      "Epoch 46/300\n",
      "5/5 [==============================] - 2s 372ms/step - loss: 0.6348 - accuracy: 0.7730 - val_loss: 0.5469 - val_accuracy: 0.7500\n",
      "Epoch 47/300\n",
      "5/5 [==============================] - 2s 328ms/step - loss: 0.5390 - accuracy: 0.7730 - val_loss: 0.4010 - val_accuracy: 0.8125\n",
      "Epoch 48/300\n",
      "5/5 [==============================] - 2s 334ms/step - loss: 0.5260 - accuracy: 0.8369 - val_loss: 0.4088 - val_accuracy: 0.8438\n",
      "Epoch 49/300\n",
      "5/5 [==============================] - 2s 324ms/step - loss: 0.4627 - accuracy: 0.8156 - val_loss: 0.4153 - val_accuracy: 0.8438\n",
      "Epoch 50/300\n",
      "5/5 [==============================] - 2s 329ms/step - loss: 0.4750 - accuracy: 0.8156 - val_loss: 0.4173 - val_accuracy: 0.7812\n",
      "Epoch 51/300\n",
      "5/5 [==============================] - 2s 331ms/step - loss: 0.5023 - accuracy: 0.7518 - val_loss: 0.4223 - val_accuracy: 0.7500\n",
      "Epoch 52/300\n",
      "5/5 [==============================] - 2s 367ms/step - loss: 0.5177 - accuracy: 0.7801 - val_loss: 0.4949 - val_accuracy: 0.8125\n",
      "Epoch 53/300\n",
      "5/5 [==============================] - 2s 371ms/step - loss: 0.4027 - accuracy: 0.8369 - val_loss: 0.3556 - val_accuracy: 0.8125\n",
      "Epoch 54/300\n",
      "5/5 [==============================] - 2s 327ms/step - loss: 0.3483 - accuracy: 0.8298 - val_loss: 0.4364 - val_accuracy: 0.7188\n",
      "Epoch 55/300\n",
      "5/5 [==============================] - 2s 329ms/step - loss: 0.4126 - accuracy: 0.8014 - val_loss: 0.3105 - val_accuracy: 0.8438\n",
      "Epoch 56/300\n",
      "5/5 [==============================] - 2s 325ms/step - loss: 0.5222 - accuracy: 0.7801 - val_loss: 0.5128 - val_accuracy: 0.7500\n",
      "Epoch 57/300\n",
      "5/5 [==============================] - 2s 326ms/step - loss: 0.5759 - accuracy: 0.7021 - val_loss: 0.4344 - val_accuracy: 0.7812\n",
      "Epoch 58/300\n",
      "5/5 [==============================] - 2s 325ms/step - loss: 0.4841 - accuracy: 0.8014 - val_loss: 0.5779 - val_accuracy: 0.6250\n"
     ]
    },
    {
     "name": "stdout",
     "output_type": "stream",
     "text": [
      "Epoch 59/300\n",
      "5/5 [==============================] - 2s 369ms/step - loss: 0.5505 - accuracy: 0.7163 - val_loss: 0.7129 - val_accuracy: 0.6250\n",
      "Epoch 60/300\n",
      "5/5 [==============================] - 2s 328ms/step - loss: 0.4579 - accuracy: 0.8369 - val_loss: 0.3669 - val_accuracy: 0.7812\n",
      "Epoch 61/300\n",
      "5/5 [==============================] - 2s 377ms/step - loss: 0.4588 - accuracy: 0.8440 - val_loss: 0.3055 - val_accuracy: 0.8438\n",
      "Epoch 62/300\n",
      "5/5 [==============================] - 2s 318ms/step - loss: 0.5095 - accuracy: 0.7518 - val_loss: 0.3985 - val_accuracy: 0.7812\n",
      "Epoch 63/300\n",
      "5/5 [==============================] - 2s 319ms/step - loss: 0.5740 - accuracy: 0.7589 - val_loss: 0.8015 - val_accuracy: 0.5312\n",
      "Epoch 64/300\n",
      "5/5 [==============================] - 2s 319ms/step - loss: 0.6623 - accuracy: 0.6809 - val_loss: 0.4488 - val_accuracy: 0.7500\n",
      "Epoch 65/300\n",
      "5/5 [==============================] - 2s 325ms/step - loss: 0.5109 - accuracy: 0.7872 - val_loss: 0.4182 - val_accuracy: 0.7500\n",
      "Epoch 66/300\n",
      "5/5 [==============================] - 2s 319ms/step - loss: 0.4877 - accuracy: 0.8156 - val_loss: 0.4453 - val_accuracy: 0.9375\n",
      "Epoch 67/300\n",
      "5/5 [==============================] - 2s 323ms/step - loss: 0.4282 - accuracy: 0.8014 - val_loss: 0.5377 - val_accuracy: 0.7812\n",
      "Epoch 68/300\n",
      "5/5 [==============================] - 2s 321ms/step - loss: 0.4426 - accuracy: 0.8156 - val_loss: 0.3685 - val_accuracy: 0.9062\n",
      "Epoch 69/300\n",
      "5/5 [==============================] - 2s 319ms/step - loss: 0.4461 - accuracy: 0.7943 - val_loss: 0.4287 - val_accuracy: 0.7500\n",
      "Epoch 70/300\n",
      "5/5 [==============================] - 2s 312ms/step - loss: 0.3893 - accuracy: 0.8511 - val_loss: 0.4969 - val_accuracy: 0.8125\n",
      "Epoch 71/300\n",
      "5/5 [==============================] - 2s 322ms/step - loss: 0.4102 - accuracy: 0.8156 - val_loss: 0.5602 - val_accuracy: 0.7188\n",
      "Epoch 72/300\n",
      "5/5 [==============================] - 2s 321ms/step - loss: 0.3936 - accuracy: 0.8794 - val_loss: 0.4008 - val_accuracy: 0.8438\n",
      "Epoch 73/300\n",
      "5/5 [==============================] - 2s 318ms/step - loss: 0.3233 - accuracy: 0.8582 - val_loss: 0.3267 - val_accuracy: 0.8750\n",
      "Epoch 74/300\n",
      "5/5 [==============================] - 2s 325ms/step - loss: 0.3927 - accuracy: 0.8511 - val_loss: 0.2980 - val_accuracy: 0.8125\n",
      "Epoch 75/300\n",
      "5/5 [==============================] - 2s 327ms/step - loss: 0.2863 - accuracy: 0.9007 - val_loss: 0.4244 - val_accuracy: 0.7812\n",
      "Epoch 76/300\n",
      "5/5 [==============================] - 2s 324ms/step - loss: 0.3670 - accuracy: 0.8794 - val_loss: 0.3858 - val_accuracy: 0.7812\n",
      "Epoch 77/300\n",
      "5/5 [==============================] - 2s 328ms/step - loss: 0.3578 - accuracy: 0.8582 - val_loss: 0.4044 - val_accuracy: 0.7812\n",
      "Epoch 78/300\n",
      "5/5 [==============================] - 2s 317ms/step - loss: 0.4767 - accuracy: 0.8723 - val_loss: 0.2559 - val_accuracy: 0.9062\n",
      "Epoch 79/300\n",
      "5/5 [==============================] - 2s 336ms/step - loss: 0.3372 - accuracy: 0.8298 - val_loss: 0.5508 - val_accuracy: 0.7500\n",
      "Epoch 80/300\n",
      "5/5 [==============================] - 2s 322ms/step - loss: 0.4925 - accuracy: 0.8298 - val_loss: 0.5153 - val_accuracy: 0.8125\n",
      "Epoch 81/300\n",
      "5/5 [==============================] - 2s 324ms/step - loss: 0.3515 - accuracy: 0.8723 - val_loss: 0.4426 - val_accuracy: 0.7812\n",
      "Epoch 82/300\n",
      "5/5 [==============================] - 2s 321ms/step - loss: 0.3342 - accuracy: 0.8298 - val_loss: 0.3301 - val_accuracy: 0.8125\n",
      "Epoch 83/300\n",
      "5/5 [==============================] - 2s 325ms/step - loss: 0.2954 - accuracy: 0.8582 - val_loss: 0.3233 - val_accuracy: 0.8750\n",
      "Epoch 84/300\n",
      "5/5 [==============================] - 2s 321ms/step - loss: 0.2832 - accuracy: 0.8723 - val_loss: 0.2400 - val_accuracy: 0.9375\n",
      "Epoch 85/300\n",
      "5/5 [==============================] - 2s 318ms/step - loss: 0.3318 - accuracy: 0.8865 - val_loss: 0.3911 - val_accuracy: 0.8438\n",
      "Epoch 86/300\n",
      "5/5 [==============================] - 2s 320ms/step - loss: 0.2689 - accuracy: 0.9220 - val_loss: 0.4329 - val_accuracy: 0.7812\n",
      "Epoch 87/300\n",
      "5/5 [==============================] - 2s 377ms/step - loss: 0.3215 - accuracy: 0.8865 - val_loss: 0.2712 - val_accuracy: 0.8750\n",
      "Epoch 88/300\n",
      "5/5 [==============================] - 2s 328ms/step - loss: 0.2880 - accuracy: 0.8936 - val_loss: 0.4484 - val_accuracy: 0.8125\n",
      "Epoch 89/300\n",
      "5/5 [==============================] - 2s 370ms/step - loss: 0.2937 - accuracy: 0.8936 - val_loss: 0.3287 - val_accuracy: 0.8750\n",
      "Epoch 90/300\n",
      "5/5 [==============================] - 2s 321ms/step - loss: 0.2588 - accuracy: 0.8723 - val_loss: 0.4038 - val_accuracy: 0.7812\n",
      "Epoch 91/300\n",
      "5/5 [==============================] - 2s 328ms/step - loss: 0.2263 - accuracy: 0.9007 - val_loss: 0.3053 - val_accuracy: 0.8438\n",
      "Epoch 92/300\n",
      "5/5 [==============================] - 2s 327ms/step - loss: 0.3327 - accuracy: 0.8794 - val_loss: 0.4796 - val_accuracy: 0.8125\n",
      "Epoch 93/300\n",
      "5/5 [==============================] - 2s 380ms/step - loss: 0.4346 - accuracy: 0.8652 - val_loss: 0.4105 - val_accuracy: 0.8438\n",
      "Epoch 94/300\n",
      "5/5 [==============================] - 2s 382ms/step - loss: 0.3443 - accuracy: 0.8652 - val_loss: 0.4000 - val_accuracy: 0.7812\n",
      "Epoch 95/300\n",
      "5/5 [==============================] - 2s 311ms/step - loss: 0.4197 - accuracy: 0.8369 - val_loss: 0.3419 - val_accuracy: 0.8750\n",
      "Epoch 96/300\n",
      "5/5 [==============================] - 2s 331ms/step - loss: 0.3526 - accuracy: 0.8582 - val_loss: 0.2711 - val_accuracy: 0.9375\n",
      "Epoch 97/300\n",
      "5/5 [==============================] - 2s 335ms/step - loss: 0.2594 - accuracy: 0.9078 - val_loss: 0.2404 - val_accuracy: 0.9375\n",
      "Epoch 98/300\n",
      "5/5 [==============================] - 2s 371ms/step - loss: 0.2412 - accuracy: 0.9078 - val_loss: 0.2420 - val_accuracy: 0.8750\n",
      "Epoch 99/300\n",
      "5/5 [==============================] - 2s 316ms/step - loss: 0.2513 - accuracy: 0.9291 - val_loss: 0.3643 - val_accuracy: 0.8438\n",
      "Epoch 100/300\n",
      "5/5 [==============================] - 2s 332ms/step - loss: 0.2855 - accuracy: 0.9149 - val_loss: 0.4539 - val_accuracy: 0.8125\n",
      "Epoch 101/300\n",
      "5/5 [==============================] - 2s 321ms/step - loss: 0.3702 - accuracy: 0.8440 - val_loss: 0.4012 - val_accuracy: 0.8438\n",
      "Epoch 102/300\n",
      "5/5 [==============================] - 2s 324ms/step - loss: 0.3677 - accuracy: 0.8511 - val_loss: 0.4778 - val_accuracy: 0.7812\n",
      "Epoch 103/300\n",
      "5/5 [==============================] - 2s 316ms/step - loss: 0.3943 - accuracy: 0.8652 - val_loss: 0.3128 - val_accuracy: 0.8750\n",
      "Epoch 104/300\n",
      "5/5 [==============================] - 2s 316ms/step - loss: 0.3244 - accuracy: 0.8582 - val_loss: 0.4776 - val_accuracy: 0.7500\n",
      "Epoch 105/300\n",
      "5/5 [==============================] - 2s 328ms/step - loss: 0.4044 - accuracy: 0.8156 - val_loss: 0.2986 - val_accuracy: 0.7812\n",
      "Epoch 106/300\n",
      "5/5 [==============================] - 2s 324ms/step - loss: 0.4056 - accuracy: 0.8369 - val_loss: 0.2783 - val_accuracy: 0.8438\n",
      "Epoch 107/300\n",
      "5/5 [==============================] - 2s 367ms/step - loss: 0.4006 - accuracy: 0.8440 - val_loss: 0.2659 - val_accuracy: 0.8125\n",
      "Epoch 108/300\n",
      "5/5 [==============================] - 2s 320ms/step - loss: 0.3002 - accuracy: 0.8794 - val_loss: 0.3136 - val_accuracy: 0.8438\n",
      "Epoch 109/300\n",
      "5/5 [==============================] - 2s 371ms/step - loss: 0.2709 - accuracy: 0.9291 - val_loss: 0.3372 - val_accuracy: 0.8438\n",
      "Epoch 110/300\n",
      "5/5 [==============================] - 2s 330ms/step - loss: 0.2415 - accuracy: 0.9291 - val_loss: 0.2722 - val_accuracy: 0.9062\n",
      "Epoch 111/300\n",
      "5/5 [==============================] - 2s 329ms/step - loss: 0.1764 - accuracy: 0.9504 - val_loss: 0.3671 - val_accuracy: 0.8750\n",
      "Epoch 112/300\n",
      "5/5 [==============================] - 2s 325ms/step - loss: 0.2138 - accuracy: 0.9362 - val_loss: 0.2203 - val_accuracy: 0.9062\n",
      "Epoch 113/300\n",
      "5/5 [==============================] - 2s 323ms/step - loss: 0.2769 - accuracy: 0.9007 - val_loss: 0.2269 - val_accuracy: 0.9062\n",
      "Epoch 114/300\n",
      "5/5 [==============================] - 2s 367ms/step - loss: 0.3743 - accuracy: 0.8723 - val_loss: 0.2991 - val_accuracy: 0.8750\n",
      "Epoch 115/300\n",
      "5/5 [==============================] - 2s 322ms/step - loss: 0.2160 - accuracy: 0.9078 - val_loss: 0.4467 - val_accuracy: 0.8125\n",
      "Epoch 116/300\n"
     ]
    },
    {
     "name": "stdout",
     "output_type": "stream",
     "text": [
      "5/5 [==============================] - 2s 324ms/step - loss: 0.3768 - accuracy: 0.8652 - val_loss: 0.5746 - val_accuracy: 0.7500\n",
      "Epoch 117/300\n",
      "5/5 [==============================] - 2s 321ms/step - loss: 0.2894 - accuracy: 0.8723 - val_loss: 0.3268 - val_accuracy: 0.7500\n",
      "Epoch 118/300\n",
      "5/5 [==============================] - 2s 321ms/step - loss: 0.4064 - accuracy: 0.8014 - val_loss: 0.3920 - val_accuracy: 0.7500\n",
      "Epoch 119/300\n",
      "5/5 [==============================] - 2s 325ms/step - loss: 0.2820 - accuracy: 0.9007 - val_loss: 0.3041 - val_accuracy: 0.8750\n",
      "Epoch 120/300\n",
      "2/5 [===========>..................] - ETA: 0s - loss: 0.4417 - accuracy: 0.8444"
     ]
    }
   ],
   "source": [
    "history = model.fit(x = training_set, validation_data = test_set, epochs = EPOCS)"
   ]
  },
  {
   "cell_type": "code",
   "execution_count": null,
   "metadata": {},
   "outputs": [],
   "source": [
    "plt.plot(history.history['accuracy'], label='accuracy')\n",
    "plt.plot(history.history['val_accuracy'], label = 'val_accuracy')\n",
    "plt.xlabel('Epoch')\n",
    "plt.ylabel('Accuracy')\n",
    "plt.ylim([0.5, 1])\n",
    "plt.legend(loc='lower right')\n",
    "\n",
    "test_loss, test_acc = model.evaluate(test_set, verbose=2)"
   ]
  },
  {
   "cell_type": "code",
   "execution_count": null,
   "metadata": {},
   "outputs": [],
   "source": [
    "print(test_acc)"
   ]
  },
  {
   "cell_type": "markdown",
   "metadata": {},
   "source": [
    "# Saving the model"
   ]
  },
  {
   "cell_type": "code",
   "execution_count": null,
   "metadata": {},
   "outputs": [],
   "source": [
    "MODEL = f'models/model_w{WIDTH}_e{EPOCS}_{datetime.now().isoformat()}'\n",
    "model.save(f'models/model_w{WIDTH}_e{EPOCS}_{datetime.now().isoformat()}')"
   ]
  },
  {
   "cell_type": "markdown",
   "metadata": {},
   "source": [
    "## Converting to TF Lite"
   ]
  },
  {
   "cell_type": "code",
   "execution_count": null,
   "metadata": {},
   "outputs": [],
   "source": [
    "converter = tf.lite.TFLiteConverter.from_keras_model(model)"
   ]
  },
  {
   "cell_type": "code",
   "execution_count": null,
   "metadata": {},
   "outputs": [],
   "source": [
    "tfmodel = converter.convert()"
   ]
  },
  {
   "cell_type": "code",
   "execution_count": null,
   "metadata": {},
   "outputs": [],
   "source": [
    "f = tf.io.gfile.GFile(f'{MODEL}.tflite', 'wb')\n",
    "f.write(tfmodel)\n",
    "f.close()"
   ]
  },
  {
   "cell_type": "code",
   "execution_count": 21,
   "metadata": {},
   "outputs": [],
   "source": []
  },
  {
   "cell_type": "code",
   "execution_count": 22,
   "metadata": {},
   "outputs": [],
   "source": []
  },
  {
   "cell_type": "code",
   "execution_count": null,
   "metadata": {},
   "outputs": [],
   "source": []
  }
 ],
 "metadata": {
  "colab": {
   "collapsed_sections": [],
   "name": "Processador.ipynb",
   "provenance": []
  },
  "kernelspec": {
   "display_name": "Python 3 (ipykernel)",
   "language": "python",
   "name": "python3"
  },
  "language_info": {
   "codemirror_mode": {
    "name": "ipython",
    "version": 3
   },
   "file_extension": ".py",
   "mimetype": "text/x-python",
   "name": "python",
   "nbconvert_exporter": "python",
   "pygments_lexer": "ipython3",
   "version": "3.8.10"
  }
 },
 "nbformat": 4,
 "nbformat_minor": 4
}
