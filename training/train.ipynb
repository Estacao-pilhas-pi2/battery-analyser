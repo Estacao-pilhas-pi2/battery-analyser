{
 "cells": [
  {
   "cell_type": "code",
   "execution_count": 1,
   "metadata": {},
   "outputs": [
    {
     "name": "stderr",
     "output_type": "stream",
     "text": [
      "2023-07-16 17:06:34.825563: I tensorflow/core/platform/cpu_feature_guard.cc:182] This TensorFlow binary is optimized to use available CPU instructions in performance-critical operations.\n",
      "To enable the following instructions: AVX2 FMA, in other operations, rebuild TensorFlow with the appropriate compiler flags.\n"
     ]
    }
   ],
   "source": [
    "from keras.preprocessing.image import ImageDataGenerator\n",
    "from keras.utils.np_utils import to_categorical \n",
    "from keras.layers import Conv2D, MaxPool2D, MaxPooling2D, Flatten, Dense, Dropout, LeakyReLU, RandomRotation, RandomContrast, RandomBrightness\n",
    "from keras.models import Sequential\n",
    "from keras.preprocessing import image\n",
    "from keras.layers import BatchNormalization\n",
    "import numpy as np\n",
    "import matplotlib.pyplot as plt\n",
    "\n",
    "from datetime import datetime\n",
    "\n",
    "import tensorflow as tf"
   ]
  },
  {
   "cell_type": "code",
   "execution_count": 2,
   "metadata": {},
   "outputs": [
    {
     "name": "stdout",
     "output_type": "stream",
     "text": [
      "Num GPUs Available:  1\n"
     ]
    },
    {
     "name": "stderr",
     "output_type": "stream",
     "text": [
      "2023-07-16 17:06:36.145921: I tensorflow/compiler/xla/stream_executor/cuda/cuda_gpu_executor.cc:996] successful NUMA node read from SysFS had negative value (-1), but there must be at least one NUMA node, so returning NUMA node zero. See more at https://github.com/torvalds/linux/blob/v6.0/Documentation/ABI/testing/sysfs-bus-pci#L344-L355\n",
      "2023-07-16 17:06:36.150802: I tensorflow/compiler/xla/stream_executor/cuda/cuda_gpu_executor.cc:996] successful NUMA node read from SysFS had negative value (-1), but there must be at least one NUMA node, so returning NUMA node zero. See more at https://github.com/torvalds/linux/blob/v6.0/Documentation/ABI/testing/sysfs-bus-pci#L344-L355\n",
      "2023-07-16 17:06:36.152728: I tensorflow/compiler/xla/stream_executor/cuda/cuda_gpu_executor.cc:996] successful NUMA node read from SysFS had negative value (-1), but there must be at least one NUMA node, so returning NUMA node zero. See more at https://github.com/torvalds/linux/blob/v6.0/Documentation/ABI/testing/sysfs-bus-pci#L344-L355\n"
     ]
    }
   ],
   "source": [
    "print(\"Num GPUs Available: \", len(tf.config.list_physical_devices('GPU')))"
   ]
  },
  {
   "cell_type": "markdown",
   "metadata": {},
   "source": [
    "# Definitions"
   ]
  },
  {
   "cell_type": "code",
   "execution_count": 3,
   "metadata": {},
   "outputs": [],
   "source": [
    "WIDTH, HEIGHT = IMAGE_SIZE = (256, 256)\n",
    "DEPTH = 3\n",
    "DATASET_PATH = \"dataset\"\n",
    "EPOCS = 200"
   ]
  },
  {
   "cell_type": "markdown",
   "metadata": {
    "id": "NL7VXYyecFtH"
   },
   "source": [
    "# Data Preprocessing"
   ]
  },
  {
   "cell_type": "markdown",
   "metadata": {
    "id": "anu1oI8RcJfE"
   },
   "source": [
    "### Preprocessing the Training set"
   ]
  },
  {
   "cell_type": "code",
   "execution_count": 4,
   "metadata": {
    "id": "Ts-KG1fSX2wr"
   },
   "outputs": [
    {
     "name": "stdout",
     "output_type": "stream",
     "text": [
      "Found 548 images belonging to 5 classes.\n",
      "Found 134 images belonging to 5 classes.\n"
     ]
    }
   ],
   "source": [
    "training_datagen = ImageDataGenerator(rescale = 1./255,\n",
    "                                       horizontal_flip = True,\n",
    "                                       vertical_flip = True,\n",
    "                                       validation_split = 0.2, brightness_range=(.3, .7))\n",
    "\n",
    "training_set = training_datagen.flow_from_directory(DATASET_PATH,\n",
    "                                                     target_size=IMAGE_SIZE,\n",
    "                                                     batch_size=16,\n",
    "                                                     seed=11,\n",
    "                                                     class_mode = 'sparse',\n",
    "                                                     subset = \"training\")\n",
    "test_set = training_datagen.flow_from_directory(DATASET_PATH,\n",
    "                                                     target_size=IMAGE_SIZE,\n",
    "                                                     batch_size=16,\n",
    "                                                     seed=17,\n",
    "                                                     class_mode = 'sparse',\n",
    "                                                     subset = \"validation\")\n",
    "\n",
    "# save_to_dir='/home/resized',save_prefix='N',save_format='jpeg'\n",
    "# rotation_range = 75,"
   ]
  },
  {
   "cell_type": "code",
   "execution_count": 5,
   "metadata": {},
   "outputs": [
    {
     "data": {
      "text/plain": [
       "{'9V': 0, 'AA': 1, 'AAA': 2, 'C': 3, 'D': 4}"
      ]
     },
     "execution_count": 5,
     "metadata": {},
     "output_type": "execute_result"
    }
   ],
   "source": [
    "class_indices = training_set.class_indices\n",
    "num_classes = len(class_indices)\n",
    "train_labels = training_set.classes\n",
    "train_labels = to_categorical(train_labels, num_classes=len(class_indices))\n",
    "class_indices"
   ]
  },
  {
   "cell_type": "markdown",
   "metadata": {
    "id": "UeHB9v3mdKXd"
   },
   "source": [
    "# Building the CNN\n"
   ]
  },
  {
   "cell_type": "code",
   "execution_count": 6,
   "metadata": {
    "id": "MSNdJrKDdknx"
   },
   "outputs": [
    {
     "name": "stderr",
     "output_type": "stream",
     "text": [
      "2023-07-16 17:06:36.240688: I tensorflow/compiler/xla/stream_executor/cuda/cuda_gpu_executor.cc:996] successful NUMA node read from SysFS had negative value (-1), but there must be at least one NUMA node, so returning NUMA node zero. See more at https://github.com/torvalds/linux/blob/v6.0/Documentation/ABI/testing/sysfs-bus-pci#L344-L355\n",
      "2023-07-16 17:06:36.242748: I tensorflow/compiler/xla/stream_executor/cuda/cuda_gpu_executor.cc:996] successful NUMA node read from SysFS had negative value (-1), but there must be at least one NUMA node, so returning NUMA node zero. See more at https://github.com/torvalds/linux/blob/v6.0/Documentation/ABI/testing/sysfs-bus-pci#L344-L355\n",
      "2023-07-16 17:06:36.244627: I tensorflow/compiler/xla/stream_executor/cuda/cuda_gpu_executor.cc:996] successful NUMA node read from SysFS had negative value (-1), but there must be at least one NUMA node, so returning NUMA node zero. See more at https://github.com/torvalds/linux/blob/v6.0/Documentation/ABI/testing/sysfs-bus-pci#L344-L355\n",
      "2023-07-16 17:06:36.384316: I tensorflow/compiler/xla/stream_executor/cuda/cuda_gpu_executor.cc:996] successful NUMA node read from SysFS had negative value (-1), but there must be at least one NUMA node, so returning NUMA node zero. See more at https://github.com/torvalds/linux/blob/v6.0/Documentation/ABI/testing/sysfs-bus-pci#L344-L355\n",
      "2023-07-16 17:06:36.385465: I tensorflow/compiler/xla/stream_executor/cuda/cuda_gpu_executor.cc:996] successful NUMA node read from SysFS had negative value (-1), but there must be at least one NUMA node, so returning NUMA node zero. See more at https://github.com/torvalds/linux/blob/v6.0/Documentation/ABI/testing/sysfs-bus-pci#L344-L355\n",
      "2023-07-16 17:06:36.387606: I tensorflow/compiler/xla/stream_executor/cuda/cuda_gpu_executor.cc:996] successful NUMA node read from SysFS had negative value (-1), but there must be at least one NUMA node, so returning NUMA node zero. See more at https://github.com/torvalds/linux/blob/v6.0/Documentation/ABI/testing/sysfs-bus-pci#L344-L355\n",
      "2023-07-16 17:06:36.388895: I tensorflow/core/common_runtime/gpu/gpu_device.cc:1635] Created device /job:localhost/replica:0/task:0/device:GPU:0 with 6327 MB memory:  -> device: 0, name: NVIDIA GeForce RTX 2060 SUPER, pci bus id: 0000:01:00.0, compute capability: 7.5\n"
     ]
    }
   ],
   "source": [
    "model = Sequential()\n",
    "# model.add(RandomRotation(0.1))\n",
    "model.add(Conv2D(32, 3, activation='relu', input_shape=(HEIGHT, WIDTH, DEPTH)))\n",
    "model.add(Dropout(0.2))\n",
    "model.add(MaxPooling2D())\n",
    "model.add(Conv2D(64, 3, activation='relu'))\n",
    "model.add(MaxPooling2D())\n",
    "model.add(Conv2D(128, 3, activation='relu'))\n",
    "model.add(MaxPooling2D())\n",
    "model.add(Flatten())\n",
    "model.add(Dense(128, activation='relu'))\n",
    "model.add(Dropout(0.2))\n",
    "model.add(Dense(num_classes))"
   ]
  },
  {
   "cell_type": "code",
   "execution_count": 7,
   "metadata": {
    "id": "CGwuFI48axNp"
   },
   "outputs": [],
   "source": [
    "model.compile(optimizer='adam',\n",
    "              loss=tf.keras.losses.SparseCategoricalCrossentropy(from_logits=True),\n",
    "              metrics=['accuracy'])"
   ]
  },
  {
   "cell_type": "markdown",
   "metadata": {
    "id": "BaB4EIsgedCH"
   },
   "source": [
    "# Part 3 - Training the CNN"
   ]
  },
  {
   "cell_type": "markdown",
   "metadata": {
    "id": "sAZJMiJ0ejRt"
   },
   "source": [
    "### Compiling the CNN"
   ]
  },
  {
   "cell_type": "markdown",
   "metadata": {
    "id": "BmAbjcN9ekDe"
   },
   "source": [
    "### Training the CNN on the Training set and evaluating it on the Test set"
   ]
  },
  {
   "cell_type": "code",
   "execution_count": 8,
   "metadata": {
    "id": "GIINmpWVa7WM"
   },
   "outputs": [
    {
     "name": "stdout",
     "output_type": "stream",
     "text": [
      "Epoch 1/200\n"
     ]
    },
    {
     "name": "stderr",
     "output_type": "stream",
     "text": [
      "2023-07-16 17:06:36.671229: I tensorflow/core/common_runtime/executor.cc:1197] [/device:CPU:0] (DEBUG INFO) Executor start aborting (this does not indicate an error and you can ignore this message): INVALID_ARGUMENT: You must feed a value for placeholder tensor 'Placeholder/_0' with dtype int32\n",
      "\t [[{{node Placeholder/_0}}]]\n",
      "2023-07-16 17:06:37.091136: E tensorflow/core/grappler/optimizers/meta_optimizer.cc:954] layout failed: INVALID_ARGUMENT: Size of values 0 does not match size of permutation 4 @ fanin shape insequential/dropout/dropout/SelectV2-2-TransposeNHWCToNCHW-LayoutOptimizer\n",
      "2023-07-16 17:06:37.211118: I tensorflow/compiler/xla/stream_executor/cuda/cuda_dnn.cc:424] Loaded cuDNN version 8600\n",
      "2023-07-16 17:06:37.525838: I tensorflow/compiler/xla/service/service.cc:169] XLA service 0x6b45d40 initialized for platform CUDA (this does not guarantee that XLA will be used). Devices:\n",
      "2023-07-16 17:06:37.525870: I tensorflow/compiler/xla/service/service.cc:177]   StreamExecutor device (0): NVIDIA GeForce RTX 2060 SUPER, Compute Capability 7.5\n",
      "2023-07-16 17:06:37.529500: I tensorflow/compiler/mlir/tensorflow/utils/dump_mlir_util.cc:269] disabling MLIR crash reproducer, set env var `MLIR_CRASH_REPRODUCER_DIRECTORY` to enable.\n",
      "2023-07-16 17:06:37.616348: I ./tensorflow/compiler/jit/device_compiler.h:180] Compiled cluster using XLA!  This line is logged at most once for the lifetime of the process.\n"
     ]
    },
    {
     "name": "stdout",
     "output_type": "stream",
     "text": [
      "35/35 [==============================] - ETA: 0s - loss: 1.5600 - accuracy: 0.4142"
     ]
    },
    {
     "name": "stderr",
     "output_type": "stream",
     "text": [
      "2023-07-16 17:06:40.331106: I tensorflow/core/common_runtime/executor.cc:1197] [/device:CPU:0] (DEBUG INFO) Executor start aborting (this does not indicate an error and you can ignore this message): INVALID_ARGUMENT: You must feed a value for placeholder tensor 'Placeholder/_0' with dtype int32\n",
      "\t [[{{node Placeholder/_0}}]]\n"
     ]
    },
    {
     "name": "stdout",
     "output_type": "stream",
     "text": [
      "35/35 [==============================] - 4s 60ms/step - loss: 1.5600 - accuracy: 0.4142 - val_loss: 1.3134 - val_accuracy: 0.4552\n",
      "Epoch 2/200\n",
      "35/35 [==============================] - 2s 44ms/step - loss: 1.1841 - accuracy: 0.4872 - val_loss: 0.9750 - val_accuracy: 0.5000\n",
      "Epoch 3/200\n",
      "35/35 [==============================] - 2s 44ms/step - loss: 1.0279 - accuracy: 0.5803 - val_loss: 0.9691 - val_accuracy: 0.6418\n",
      "Epoch 4/200\n",
      "35/35 [==============================] - 2s 45ms/step - loss: 0.8937 - accuracy: 0.6168 - val_loss: 0.9145 - val_accuracy: 0.6269\n",
      "Epoch 5/200\n",
      "35/35 [==============================] - 2s 45ms/step - loss: 0.7479 - accuracy: 0.6679 - val_loss: 0.7568 - val_accuracy: 0.6567\n",
      "Epoch 6/200\n",
      "35/35 [==============================] - 2s 45ms/step - loss: 0.6946 - accuracy: 0.7226 - val_loss: 0.8587 - val_accuracy: 0.6045\n",
      "Epoch 7/200\n",
      "35/35 [==============================] - 2s 44ms/step - loss: 0.5963 - accuracy: 0.7518 - val_loss: 0.7578 - val_accuracy: 0.6940\n",
      "Epoch 8/200\n",
      "35/35 [==============================] - 2s 45ms/step - loss: 0.5792 - accuracy: 0.7847 - val_loss: 0.6160 - val_accuracy: 0.7313\n",
      "Epoch 9/200\n",
      "35/35 [==============================] - 2s 44ms/step - loss: 0.5893 - accuracy: 0.7956 - val_loss: 0.7078 - val_accuracy: 0.6716\n",
      "Epoch 10/200\n",
      "35/35 [==============================] - 2s 44ms/step - loss: 0.5300 - accuracy: 0.7920 - val_loss: 0.7442 - val_accuracy: 0.6642\n",
      "Epoch 11/200\n",
      "35/35 [==============================] - 2s 44ms/step - loss: 0.4479 - accuracy: 0.8339 - val_loss: 0.6945 - val_accuracy: 0.6343\n",
      "Epoch 12/200\n",
      "35/35 [==============================] - 2s 44ms/step - loss: 0.4246 - accuracy: 0.8230 - val_loss: 0.5850 - val_accuracy: 0.7463\n",
      "Epoch 13/200\n",
      "35/35 [==============================] - 2s 44ms/step - loss: 0.3171 - accuracy: 0.8723 - val_loss: 0.6750 - val_accuracy: 0.6940\n",
      "Epoch 14/200\n",
      "35/35 [==============================] - 2s 44ms/step - loss: 0.2966 - accuracy: 0.8942 - val_loss: 0.4693 - val_accuracy: 0.7761\n",
      "Epoch 15/200\n",
      "35/35 [==============================] - 2s 44ms/step - loss: 0.2346 - accuracy: 0.9179 - val_loss: 0.5376 - val_accuracy: 0.7761\n",
      "Epoch 16/200\n",
      "35/35 [==============================] - 2s 45ms/step - loss: 0.2285 - accuracy: 0.9179 - val_loss: 0.6419 - val_accuracy: 0.7463\n",
      "Epoch 17/200\n",
      "35/35 [==============================] - 2s 45ms/step - loss: 0.2625 - accuracy: 0.9088 - val_loss: 0.5066 - val_accuracy: 0.7612\n",
      "Epoch 18/200\n",
      "35/35 [==============================] - 2s 43ms/step - loss: 0.2423 - accuracy: 0.9088 - val_loss: 0.5307 - val_accuracy: 0.7910\n",
      "Epoch 19/200\n",
      "35/35 [==============================] - 2s 44ms/step - loss: 0.2058 - accuracy: 0.9270 - val_loss: 0.7856 - val_accuracy: 0.6567\n",
      "Epoch 20/200\n",
      "35/35 [==============================] - 2s 44ms/step - loss: 0.2625 - accuracy: 0.8942 - val_loss: 0.6233 - val_accuracy: 0.7463\n",
      "Epoch 21/200\n",
      "35/35 [==============================] - 2s 44ms/step - loss: 0.1645 - accuracy: 0.9434 - val_loss: 0.5180 - val_accuracy: 0.7910\n",
      "Epoch 22/200\n",
      "35/35 [==============================] - 2s 44ms/step - loss: 0.1682 - accuracy: 0.9434 - val_loss: 0.6545 - val_accuracy: 0.7090\n",
      "Epoch 23/200\n",
      "35/35 [==============================] - 2s 44ms/step - loss: 0.1817 - accuracy: 0.9325 - val_loss: 0.7853 - val_accuracy: 0.6940\n",
      "Epoch 24/200\n",
      "35/35 [==============================] - 2s 45ms/step - loss: 0.1390 - accuracy: 0.9507 - val_loss: 0.6421 - val_accuracy: 0.7687\n",
      "Epoch 25/200\n",
      "35/35 [==============================] - 2s 44ms/step - loss: 0.1245 - accuracy: 0.9526 - val_loss: 0.8036 - val_accuracy: 0.7612\n",
      "Epoch 26/200\n",
      "35/35 [==============================] - 2s 45ms/step - loss: 0.1291 - accuracy: 0.9489 - val_loss: 0.9822 - val_accuracy: 0.6418\n",
      "Epoch 27/200\n",
      "35/35 [==============================] - 2s 45ms/step - loss: 0.1014 - accuracy: 0.9635 - val_loss: 0.6944 - val_accuracy: 0.7761\n",
      "Epoch 28/200\n",
      "35/35 [==============================] - 2s 44ms/step - loss: 0.1405 - accuracy: 0.9562 - val_loss: 0.8429 - val_accuracy: 0.7388\n",
      "Epoch 29/200\n",
      "35/35 [==============================] - 2s 44ms/step - loss: 0.1780 - accuracy: 0.9361 - val_loss: 0.7925 - val_accuracy: 0.7164\n",
      "Epoch 30/200\n",
      "35/35 [==============================] - 2s 44ms/step - loss: 0.1696 - accuracy: 0.9361 - val_loss: 0.7152 - val_accuracy: 0.7239\n",
      "Epoch 31/200\n",
      "35/35 [==============================] - 2s 44ms/step - loss: 0.1224 - accuracy: 0.9562 - val_loss: 0.6448 - val_accuracy: 0.7537\n",
      "Epoch 32/200\n",
      "35/35 [==============================] - 2s 45ms/step - loss: 0.0767 - accuracy: 0.9672 - val_loss: 0.6282 - val_accuracy: 0.8060\n",
      "Epoch 33/200\n",
      "35/35 [==============================] - 2s 44ms/step - loss: 0.0689 - accuracy: 0.9781 - val_loss: 0.6558 - val_accuracy: 0.7761\n",
      "Epoch 34/200\n",
      "35/35 [==============================] - 2s 45ms/step - loss: 0.0547 - accuracy: 0.9799 - val_loss: 0.5747 - val_accuracy: 0.8433\n",
      "Epoch 35/200\n",
      "35/35 [==============================] - 2s 45ms/step - loss: 0.0420 - accuracy: 0.9836 - val_loss: 0.6384 - val_accuracy: 0.8060\n",
      "Epoch 36/200\n",
      "35/35 [==============================] - 2s 44ms/step - loss: 0.0609 - accuracy: 0.9781 - val_loss: 0.6338 - val_accuracy: 0.8060\n",
      "Epoch 37/200\n",
      "35/35 [==============================] - 2s 45ms/step - loss: 0.1234 - accuracy: 0.9580 - val_loss: 0.6829 - val_accuracy: 0.7910\n",
      "Epoch 38/200\n",
      "35/35 [==============================] - 2s 44ms/step - loss: 0.0724 - accuracy: 0.9763 - val_loss: 0.8500 - val_accuracy: 0.7313\n",
      "Epoch 39/200\n",
      "35/35 [==============================] - 2s 44ms/step - loss: 0.0778 - accuracy: 0.9745 - val_loss: 0.6951 - val_accuracy: 0.7388\n",
      "Epoch 40/200\n",
      "35/35 [==============================] - 2s 44ms/step - loss: 0.0481 - accuracy: 0.9763 - val_loss: 0.9476 - val_accuracy: 0.7313\n",
      "Epoch 41/200\n",
      "35/35 [==============================] - 2s 44ms/step - loss: 0.0563 - accuracy: 0.9799 - val_loss: 0.6708 - val_accuracy: 0.7612\n",
      "Epoch 42/200\n",
      "35/35 [==============================] - 2s 44ms/step - loss: 0.1227 - accuracy: 0.9617 - val_loss: 0.8611 - val_accuracy: 0.7463\n",
      "Epoch 43/200\n",
      "35/35 [==============================] - 2s 45ms/step - loss: 0.0668 - accuracy: 0.9799 - val_loss: 1.0565 - val_accuracy: 0.6716\n",
      "Epoch 44/200\n",
      "35/35 [==============================] - 2s 45ms/step - loss: 0.0713 - accuracy: 0.9726 - val_loss: 0.9409 - val_accuracy: 0.7239\n",
      "Epoch 45/200\n",
      "35/35 [==============================] - 2s 44ms/step - loss: 0.1083 - accuracy: 0.9617 - val_loss: 0.8267 - val_accuracy: 0.7239\n",
      "Epoch 46/200\n",
      "35/35 [==============================] - 2s 44ms/step - loss: 0.1236 - accuracy: 0.9690 - val_loss: 0.8039 - val_accuracy: 0.7537\n",
      "Epoch 47/200\n",
      "35/35 [==============================] - 2s 45ms/step - loss: 0.2596 - accuracy: 0.9215 - val_loss: 0.7828 - val_accuracy: 0.6343\n",
      "Epoch 48/200\n",
      "35/35 [==============================] - 2s 44ms/step - loss: 0.1166 - accuracy: 0.9562 - val_loss: 0.7137 - val_accuracy: 0.7612\n",
      "Epoch 49/200\n",
      "35/35 [==============================] - 2s 45ms/step - loss: 0.1358 - accuracy: 0.9489 - val_loss: 1.0129 - val_accuracy: 0.7388\n",
      "Epoch 50/200\n",
      "35/35 [==============================] - 2s 44ms/step - loss: 0.0549 - accuracy: 0.9818 - val_loss: 0.8693 - val_accuracy: 0.7463\n",
      "Epoch 51/200\n",
      "35/35 [==============================] - 2s 44ms/step - loss: 0.0768 - accuracy: 0.9708 - val_loss: 0.9194 - val_accuracy: 0.6866\n",
      "Epoch 52/200\n",
      "35/35 [==============================] - 2s 45ms/step - loss: 0.0763 - accuracy: 0.9781 - val_loss: 0.9482 - val_accuracy: 0.7239\n",
      "Epoch 53/200\n",
      "35/35 [==============================] - 2s 44ms/step - loss: 0.0666 - accuracy: 0.9745 - val_loss: 0.7057 - val_accuracy: 0.8209\n",
      "Epoch 54/200\n",
      "35/35 [==============================] - 2s 44ms/step - loss: 0.1208 - accuracy: 0.9653 - val_loss: 0.9874 - val_accuracy: 0.6866\n",
      "Epoch 55/200\n",
      "35/35 [==============================] - 2s 45ms/step - loss: 0.1075 - accuracy: 0.9690 - val_loss: 0.8301 - val_accuracy: 0.7239\n",
      "Epoch 56/200\n",
      "35/35 [==============================] - 2s 45ms/step - loss: 0.0243 - accuracy: 0.9927 - val_loss: 0.7697 - val_accuracy: 0.7612\n",
      "Epoch 57/200\n",
      "35/35 [==============================] - 2s 44ms/step - loss: 0.0157 - accuracy: 0.9964 - val_loss: 0.8893 - val_accuracy: 0.7015\n",
      "Epoch 58/200\n"
     ]
    },
    {
     "name": "stdout",
     "output_type": "stream",
     "text": [
      "35/35 [==============================] - 2s 44ms/step - loss: 0.0296 - accuracy: 0.9872 - val_loss: 1.1159 - val_accuracy: 0.7090\n",
      "Epoch 59/200\n",
      "35/35 [==============================] - 2s 44ms/step - loss: 0.1079 - accuracy: 0.9708 - val_loss: 1.1309 - val_accuracy: 0.6418\n",
      "Epoch 60/200\n",
      "35/35 [==============================] - 2s 44ms/step - loss: 0.1574 - accuracy: 0.9343 - val_loss: 0.8892 - val_accuracy: 0.7164\n",
      "Epoch 61/200\n",
      "35/35 [==============================] - 2s 44ms/step - loss: 0.0931 - accuracy: 0.9562 - val_loss: 0.7137 - val_accuracy: 0.7836\n",
      "Epoch 62/200\n",
      "35/35 [==============================] - 2s 44ms/step - loss: 0.0999 - accuracy: 0.9708 - val_loss: 0.7516 - val_accuracy: 0.7313\n",
      "Epoch 63/200\n",
      "35/35 [==============================] - 2s 44ms/step - loss: 0.0784 - accuracy: 0.9745 - val_loss: 0.6321 - val_accuracy: 0.7388\n",
      "Epoch 64/200\n",
      "35/35 [==============================] - 2s 44ms/step - loss: 0.0501 - accuracy: 0.9854 - val_loss: 0.5536 - val_accuracy: 0.7687\n",
      "Epoch 65/200\n",
      "35/35 [==============================] - 2s 44ms/step - loss: 0.0509 - accuracy: 0.9836 - val_loss: 0.8169 - val_accuracy: 0.7239\n",
      "Epoch 66/200\n",
      "35/35 [==============================] - 2s 44ms/step - loss: 0.0308 - accuracy: 0.9872 - val_loss: 0.7840 - val_accuracy: 0.7836\n",
      "Epoch 67/200\n",
      "35/35 [==============================] - 2s 44ms/step - loss: 0.0393 - accuracy: 0.9927 - val_loss: 0.6501 - val_accuracy: 0.7612\n",
      "Epoch 68/200\n",
      "35/35 [==============================] - 2s 44ms/step - loss: 0.0400 - accuracy: 0.9909 - val_loss: 1.0925 - val_accuracy: 0.6791\n",
      "Epoch 69/200\n",
      "35/35 [==============================] - 2s 44ms/step - loss: 0.1187 - accuracy: 0.9745 - val_loss: 0.9761 - val_accuracy: 0.7313\n",
      "Epoch 70/200\n",
      "35/35 [==============================] - 2s 43ms/step - loss: 0.0527 - accuracy: 0.9818 - val_loss: 0.6528 - val_accuracy: 0.7687\n",
      "Epoch 71/200\n",
      "35/35 [==============================] - 2s 44ms/step - loss: 0.0531 - accuracy: 0.9799 - val_loss: 0.8392 - val_accuracy: 0.7090\n",
      "Epoch 72/200\n",
      "35/35 [==============================] - 2s 43ms/step - loss: 0.1583 - accuracy: 0.9562 - val_loss: 0.9270 - val_accuracy: 0.6791\n",
      "Epoch 73/200\n",
      "35/35 [==============================] - 2s 43ms/step - loss: 0.0749 - accuracy: 0.9708 - val_loss: 0.7231 - val_accuracy: 0.7388\n",
      "Epoch 74/200\n",
      "35/35 [==============================] - 2s 43ms/step - loss: 0.0271 - accuracy: 0.9891 - val_loss: 0.7700 - val_accuracy: 0.7313\n",
      "Epoch 75/200\n",
      "35/35 [==============================] - 2s 43ms/step - loss: 0.0245 - accuracy: 0.9927 - val_loss: 0.6555 - val_accuracy: 0.7687\n",
      "Epoch 76/200\n",
      "35/35 [==============================] - 2s 43ms/step - loss: 0.0350 - accuracy: 0.9927 - val_loss: 0.9562 - val_accuracy: 0.6940\n",
      "Epoch 77/200\n",
      "35/35 [==============================] - 2s 43ms/step - loss: 0.0122 - accuracy: 0.9964 - val_loss: 0.8613 - val_accuracy: 0.7239\n",
      "Epoch 78/200\n",
      "35/35 [==============================] - 2s 43ms/step - loss: 0.0227 - accuracy: 0.9872 - val_loss: 0.9185 - val_accuracy: 0.7463\n",
      "Epoch 79/200\n",
      "35/35 [==============================] - 2s 43ms/step - loss: 0.0170 - accuracy: 0.9945 - val_loss: 0.6884 - val_accuracy: 0.7910\n",
      "Epoch 80/200\n",
      "35/35 [==============================] - 2s 43ms/step - loss: 0.0326 - accuracy: 0.9945 - val_loss: 0.7765 - val_accuracy: 0.7463\n",
      "Epoch 81/200\n",
      "35/35 [==============================] - 2s 44ms/step - loss: 0.0174 - accuracy: 0.9909 - val_loss: 1.0989 - val_accuracy: 0.7164\n",
      "Epoch 82/200\n",
      "35/35 [==============================] - 2s 44ms/step - loss: 0.0755 - accuracy: 0.9836 - val_loss: 1.1210 - val_accuracy: 0.7090\n",
      "Epoch 83/200\n",
      "35/35 [==============================] - 2s 44ms/step - loss: 0.0691 - accuracy: 0.9708 - val_loss: 0.6563 - val_accuracy: 0.7761\n",
      "Epoch 84/200\n",
      "35/35 [==============================] - 2s 44ms/step - loss: 0.0234 - accuracy: 0.9927 - val_loss: 0.8345 - val_accuracy: 0.7463\n",
      "Epoch 85/200\n",
      "35/35 [==============================] - 2s 43ms/step - loss: 0.0279 - accuracy: 0.9909 - val_loss: 0.9086 - val_accuracy: 0.7463\n",
      "Epoch 86/200\n",
      "35/35 [==============================] - 2s 44ms/step - loss: 0.0129 - accuracy: 0.9964 - val_loss: 1.0718 - val_accuracy: 0.6940\n",
      "Epoch 87/200\n",
      "35/35 [==============================] - 2s 45ms/step - loss: 0.0200 - accuracy: 0.9945 - val_loss: 0.7312 - val_accuracy: 0.7910\n",
      "Epoch 88/200\n",
      "35/35 [==============================] - 2s 44ms/step - loss: 0.0146 - accuracy: 0.9945 - val_loss: 0.9192 - val_accuracy: 0.7687\n",
      "Epoch 89/200\n",
      "35/35 [==============================] - 2s 46ms/step - loss: 0.0214 - accuracy: 0.9945 - val_loss: 1.0696 - val_accuracy: 0.7090\n",
      "Epoch 90/200\n",
      "35/35 [==============================] - 2s 44ms/step - loss: 0.0106 - accuracy: 0.9982 - val_loss: 0.7511 - val_accuracy: 0.7313\n",
      "Epoch 91/200\n",
      "35/35 [==============================] - 2s 44ms/step - loss: 0.0288 - accuracy: 0.9909 - val_loss: 0.9115 - val_accuracy: 0.7463\n",
      "Epoch 92/200\n",
      "35/35 [==============================] - 2s 44ms/step - loss: 0.0463 - accuracy: 0.9909 - val_loss: 0.7997 - val_accuracy: 0.7836\n",
      "Epoch 93/200\n",
      "35/35 [==============================] - 2s 44ms/step - loss: 0.0266 - accuracy: 0.9909 - val_loss: 0.6854 - val_accuracy: 0.7836\n",
      "Epoch 94/200\n",
      "35/35 [==============================] - 2s 45ms/step - loss: 0.0265 - accuracy: 0.9891 - val_loss: 0.6927 - val_accuracy: 0.7910\n",
      "Epoch 95/200\n",
      "35/35 [==============================] - 2s 44ms/step - loss: 0.0123 - accuracy: 0.9945 - val_loss: 1.2145 - val_accuracy: 0.7239\n",
      "Epoch 96/200\n",
      "35/35 [==============================] - 2s 43ms/step - loss: 0.0479 - accuracy: 0.9854 - val_loss: 1.1019 - val_accuracy: 0.7090\n",
      "Epoch 97/200\n",
      "35/35 [==============================] - 2s 44ms/step - loss: 0.0300 - accuracy: 0.9872 - val_loss: 1.0931 - val_accuracy: 0.7612\n",
      "Epoch 98/200\n",
      "35/35 [==============================] - 2s 44ms/step - loss: 0.0199 - accuracy: 0.9909 - val_loss: 1.1657 - val_accuracy: 0.6716\n",
      "Epoch 99/200\n",
      "35/35 [==============================] - 2s 44ms/step - loss: 0.0256 - accuracy: 0.9909 - val_loss: 0.8974 - val_accuracy: 0.7836\n",
      "Epoch 100/200\n",
      "35/35 [==============================] - 2s 44ms/step - loss: 0.0188 - accuracy: 0.9927 - val_loss: 0.7361 - val_accuracy: 0.7910\n",
      "Epoch 101/200\n",
      "35/35 [==============================] - 2s 44ms/step - loss: 0.0386 - accuracy: 0.9909 - val_loss: 0.8867 - val_accuracy: 0.7313\n",
      "Epoch 102/200\n",
      "35/35 [==============================] - 2s 44ms/step - loss: 0.0177 - accuracy: 0.9909 - val_loss: 0.8718 - val_accuracy: 0.7836\n",
      "Epoch 103/200\n",
      "35/35 [==============================] - 2s 43ms/step - loss: 0.0096 - accuracy: 0.9982 - val_loss: 1.2009 - val_accuracy: 0.7239\n",
      "Epoch 104/200\n",
      "35/35 [==============================] - 2s 44ms/step - loss: 0.0303 - accuracy: 0.9964 - val_loss: 1.2196 - val_accuracy: 0.7463\n",
      "Epoch 105/200\n",
      "35/35 [==============================] - 2s 44ms/step - loss: 0.0153 - accuracy: 0.9945 - val_loss: 1.1780 - val_accuracy: 0.7164\n",
      "Epoch 106/200\n",
      "35/35 [==============================] - 2s 44ms/step - loss: 0.0301 - accuracy: 0.9872 - val_loss: 1.2365 - val_accuracy: 0.6940\n",
      "Epoch 107/200\n",
      "35/35 [==============================] - 2s 44ms/step - loss: 0.0181 - accuracy: 0.9945 - val_loss: 1.8764 - val_accuracy: 0.6493\n",
      "Epoch 108/200\n",
      "35/35 [==============================] - 2s 43ms/step - loss: 0.0305 - accuracy: 0.9872 - val_loss: 0.9036 - val_accuracy: 0.7463\n",
      "Epoch 109/200\n",
      "35/35 [==============================] - 2s 44ms/step - loss: 0.0136 - accuracy: 0.9927 - val_loss: 0.9623 - val_accuracy: 0.7612\n",
      "Epoch 110/200\n",
      "35/35 [==============================] - 2s 44ms/step - loss: 0.0747 - accuracy: 0.9927 - val_loss: 1.1043 - val_accuracy: 0.6940\n",
      "Epoch 111/200\n",
      "35/35 [==============================] - 2s 44ms/step - loss: 0.0187 - accuracy: 0.9964 - val_loss: 0.9095 - val_accuracy: 0.7313\n",
      "Epoch 112/200\n",
      "35/35 [==============================] - 2s 43ms/step - loss: 0.0232 - accuracy: 0.9945 - val_loss: 0.7316 - val_accuracy: 0.7612\n",
      "Epoch 113/200\n",
      "35/35 [==============================] - 2s 43ms/step - loss: 0.0306 - accuracy: 0.9909 - val_loss: 1.0789 - val_accuracy: 0.7612\n",
      "Epoch 114/200\n",
      "35/35 [==============================] - 2s 43ms/step - loss: 0.2536 - accuracy: 0.9288 - val_loss: 1.1261 - val_accuracy: 0.6716\n",
      "Epoch 115/200\n"
     ]
    },
    {
     "name": "stdout",
     "output_type": "stream",
     "text": [
      "35/35 [==============================] - 2s 44ms/step - loss: 0.1116 - accuracy: 0.9599 - val_loss: 1.2957 - val_accuracy: 0.7164\n",
      "Epoch 116/200\n",
      "35/35 [==============================] - 2s 43ms/step - loss: 0.1299 - accuracy: 0.9544 - val_loss: 1.1680 - val_accuracy: 0.7015\n",
      "Epoch 117/200\n",
      "35/35 [==============================] - 2s 44ms/step - loss: 0.1639 - accuracy: 0.9434 - val_loss: 0.7508 - val_accuracy: 0.7761\n",
      "Epoch 118/200\n",
      "35/35 [==============================] - 2s 43ms/step - loss: 0.0748 - accuracy: 0.9708 - val_loss: 1.1671 - val_accuracy: 0.6940\n",
      "Epoch 119/200\n",
      "35/35 [==============================] - 2s 43ms/step - loss: 0.0473 - accuracy: 0.9872 - val_loss: 0.8026 - val_accuracy: 0.7388\n",
      "Epoch 120/200\n",
      "35/35 [==============================] - 2s 43ms/step - loss: 0.0345 - accuracy: 0.9891 - val_loss: 0.8142 - val_accuracy: 0.7612\n",
      "Epoch 121/200\n",
      "35/35 [==============================] - 2s 43ms/step - loss: 0.0268 - accuracy: 0.9909 - val_loss: 0.7169 - val_accuracy: 0.7463\n",
      "Epoch 122/200\n",
      "35/35 [==============================] - 2s 43ms/step - loss: 0.0269 - accuracy: 0.9891 - val_loss: 0.8697 - val_accuracy: 0.7463\n",
      "Epoch 123/200\n",
      "35/35 [==============================] - 2s 44ms/step - loss: 0.0324 - accuracy: 0.9891 - val_loss: 0.8128 - val_accuracy: 0.7463\n",
      "Epoch 124/200\n",
      "35/35 [==============================] - 2s 44ms/step - loss: 0.0371 - accuracy: 0.9872 - val_loss: 1.4007 - val_accuracy: 0.6493\n",
      "Epoch 125/200\n",
      "35/35 [==============================] - 2s 43ms/step - loss: 0.0280 - accuracy: 0.9909 - val_loss: 0.9100 - val_accuracy: 0.6642\n",
      "Epoch 126/200\n",
      "35/35 [==============================] - 2s 43ms/step - loss: 0.0137 - accuracy: 0.9945 - val_loss: 0.9473 - val_accuracy: 0.7313\n",
      "Epoch 127/200\n",
      "35/35 [==============================] - 2s 43ms/step - loss: 0.0282 - accuracy: 0.9909 - val_loss: 0.9163 - val_accuracy: 0.7612\n",
      "Epoch 128/200\n",
      "35/35 [==============================] - 2s 43ms/step - loss: 0.0041 - accuracy: 1.0000 - val_loss: 0.6998 - val_accuracy: 0.7687\n",
      "Epoch 129/200\n",
      "35/35 [==============================] - 2s 43ms/step - loss: 0.0045 - accuracy: 1.0000 - val_loss: 1.1695 - val_accuracy: 0.7463\n",
      "Epoch 130/200\n",
      "35/35 [==============================] - 2s 43ms/step - loss: 0.0287 - accuracy: 0.9891 - val_loss: 1.0611 - val_accuracy: 0.7388\n",
      "Epoch 131/200\n",
      "35/35 [==============================] - 2s 42ms/step - loss: 0.0337 - accuracy: 0.9891 - val_loss: 1.0351 - val_accuracy: 0.7313\n",
      "Epoch 132/200\n",
      "35/35 [==============================] - 2s 43ms/step - loss: 0.0081 - accuracy: 1.0000 - val_loss: 0.8167 - val_accuracy: 0.7761\n",
      "Epoch 133/200\n",
      "35/35 [==============================] - 2s 44ms/step - loss: 0.0039 - accuracy: 1.0000 - val_loss: 0.8540 - val_accuracy: 0.7164\n",
      "Epoch 134/200\n",
      "35/35 [==============================] - 2s 43ms/step - loss: 0.0094 - accuracy: 0.9945 - val_loss: 0.6938 - val_accuracy: 0.7985\n",
      "Epoch 135/200\n",
      "35/35 [==============================] - 2s 44ms/step - loss: 0.0027 - accuracy: 1.0000 - val_loss: 0.9174 - val_accuracy: 0.7761\n",
      "Epoch 136/200\n",
      "35/35 [==============================] - 2s 44ms/step - loss: 0.0122 - accuracy: 0.9964 - val_loss: 0.9476 - val_accuracy: 0.7239\n",
      "Epoch 137/200\n",
      "35/35 [==============================] - 2s 44ms/step - loss: 0.0148 - accuracy: 0.9964 - val_loss: 0.9455 - val_accuracy: 0.7239\n",
      "Epoch 138/200\n",
      "35/35 [==============================] - 2s 43ms/step - loss: 0.0075 - accuracy: 0.9982 - val_loss: 0.8394 - val_accuracy: 0.7313\n",
      "Epoch 139/200\n",
      "35/35 [==============================] - 2s 44ms/step - loss: 0.0122 - accuracy: 0.9964 - val_loss: 0.9685 - val_accuracy: 0.7537\n",
      "Epoch 140/200\n",
      "35/35 [==============================] - 2s 43ms/step - loss: 0.0206 - accuracy: 0.9964 - val_loss: 1.1140 - val_accuracy: 0.7463\n",
      "Epoch 141/200\n",
      "35/35 [==============================] - 2s 43ms/step - loss: 0.0076 - accuracy: 0.9945 - val_loss: 1.1133 - val_accuracy: 0.7239\n",
      "Epoch 142/200\n",
      "35/35 [==============================] - 2s 43ms/step - loss: 0.0226 - accuracy: 0.9891 - val_loss: 0.9832 - val_accuracy: 0.7761\n",
      "Epoch 143/200\n",
      "35/35 [==============================] - 2s 43ms/step - loss: 0.0078 - accuracy: 0.9964 - val_loss: 0.8246 - val_accuracy: 0.7910\n",
      "Epoch 144/200\n",
      "35/35 [==============================] - 2s 43ms/step - loss: 0.0035 - accuracy: 1.0000 - val_loss: 0.8347 - val_accuracy: 0.7910\n",
      "Epoch 145/200\n",
      "35/35 [==============================] - 2s 44ms/step - loss: 0.0041 - accuracy: 0.9982 - val_loss: 1.0290 - val_accuracy: 0.7463\n",
      "Epoch 146/200\n",
      "35/35 [==============================] - 2s 43ms/step - loss: 0.0019 - accuracy: 1.0000 - val_loss: 1.0230 - val_accuracy: 0.7164\n",
      "Epoch 147/200\n",
      "35/35 [==============================] - 2s 44ms/step - loss: 0.0593 - accuracy: 0.9854 - val_loss: 1.3623 - val_accuracy: 0.6567\n",
      "Epoch 148/200\n",
      "35/35 [==============================] - 2s 43ms/step - loss: 0.0312 - accuracy: 0.9872 - val_loss: 0.8872 - val_accuracy: 0.7388\n",
      "Epoch 149/200\n",
      "35/35 [==============================] - 2s 43ms/step - loss: 0.0104 - accuracy: 0.9982 - val_loss: 1.1502 - val_accuracy: 0.7313\n",
      "Epoch 150/200\n",
      "35/35 [==============================] - 2s 43ms/step - loss: 0.0067 - accuracy: 0.9982 - val_loss: 0.8653 - val_accuracy: 0.7239\n",
      "Epoch 151/200\n",
      "35/35 [==============================] - 2s 43ms/step - loss: 0.0025 - accuracy: 1.0000 - val_loss: 1.0597 - val_accuracy: 0.7463\n",
      "Epoch 152/200\n",
      "35/35 [==============================] - 2s 44ms/step - loss: 0.0095 - accuracy: 0.9982 - val_loss: 0.9799 - val_accuracy: 0.7463\n",
      "Epoch 153/200\n",
      "35/35 [==============================] - 2s 43ms/step - loss: 0.0045 - accuracy: 0.9982 - val_loss: 1.0769 - val_accuracy: 0.7239\n",
      "Epoch 154/200\n",
      "35/35 [==============================] - 2s 43ms/step - loss: 0.0031 - accuracy: 1.0000 - val_loss: 0.7984 - val_accuracy: 0.7910\n",
      "Epoch 155/200\n",
      "35/35 [==============================] - 2s 42ms/step - loss: 0.0089 - accuracy: 0.9945 - val_loss: 0.8535 - val_accuracy: 0.7537\n",
      "Epoch 156/200\n",
      "35/35 [==============================] - 2s 42ms/step - loss: 0.0111 - accuracy: 0.9945 - val_loss: 1.1162 - val_accuracy: 0.7537\n",
      "Epoch 157/200\n",
      "35/35 [==============================] - 2s 43ms/step - loss: 0.0379 - accuracy: 0.9909 - val_loss: 1.1961 - val_accuracy: 0.7910\n",
      "Epoch 158/200\n",
      "35/35 [==============================] - 2s 44ms/step - loss: 0.0433 - accuracy: 0.9872 - val_loss: 0.8972 - val_accuracy: 0.7313\n",
      "Epoch 159/200\n",
      "35/35 [==============================] - 2s 43ms/step - loss: 0.0408 - accuracy: 0.9854 - val_loss: 1.2642 - val_accuracy: 0.7388\n",
      "Epoch 160/200\n",
      "35/35 [==============================] - 2s 43ms/step - loss: 0.0134 - accuracy: 0.9945 - val_loss: 1.0990 - val_accuracy: 0.7388\n",
      "Epoch 161/200\n",
      "35/35 [==============================] - 2s 43ms/step - loss: 0.0128 - accuracy: 0.9964 - val_loss: 1.0607 - val_accuracy: 0.7239\n",
      "Epoch 162/200\n",
      "35/35 [==============================] - 2s 43ms/step - loss: 0.0088 - accuracy: 0.9964 - val_loss: 0.9557 - val_accuracy: 0.7836\n",
      "Epoch 163/200\n",
      "35/35 [==============================] - 2s 43ms/step - loss: 0.0045 - accuracy: 0.9982 - val_loss: 0.7713 - val_accuracy: 0.7985\n",
      "Epoch 164/200\n",
      "35/35 [==============================] - 2s 43ms/step - loss: 0.0117 - accuracy: 0.9964 - val_loss: 0.7140 - val_accuracy: 0.7761\n",
      "Epoch 165/200\n",
      "35/35 [==============================] - 2s 43ms/step - loss: 0.0106 - accuracy: 0.9982 - val_loss: 0.9784 - val_accuracy: 0.7313\n",
      "Epoch 166/200\n",
      "35/35 [==============================] - 2s 43ms/step - loss: 0.0707 - accuracy: 0.9818 - val_loss: 1.4100 - val_accuracy: 0.7388\n",
      "Epoch 167/200\n",
      "35/35 [==============================] - 2s 43ms/step - loss: 0.1217 - accuracy: 0.9726 - val_loss: 1.6465 - val_accuracy: 0.6791\n",
      "Epoch 168/200\n",
      "35/35 [==============================] - 1s 42ms/step - loss: 0.1325 - accuracy: 0.9672 - val_loss: 1.2620 - val_accuracy: 0.7239\n",
      "Epoch 169/200\n",
      "35/35 [==============================] - 2s 43ms/step - loss: 0.0498 - accuracy: 0.9818 - val_loss: 1.1639 - val_accuracy: 0.6642\n",
      "Epoch 170/200\n",
      "35/35 [==============================] - 2s 43ms/step - loss: 0.0214 - accuracy: 0.9945 - val_loss: 1.3899 - val_accuracy: 0.6716\n",
      "Epoch 171/200\n",
      "35/35 [==============================] - 2s 43ms/step - loss: 0.0772 - accuracy: 0.9818 - val_loss: 1.4404 - val_accuracy: 0.7015\n"
     ]
    },
    {
     "name": "stdout",
     "output_type": "stream",
     "text": [
      "Epoch 172/200\n",
      "35/35 [==============================] - 2s 43ms/step - loss: 0.0467 - accuracy: 0.9872 - val_loss: 0.9280 - val_accuracy: 0.7761\n",
      "Epoch 173/200\n",
      "35/35 [==============================] - 2s 43ms/step - loss: 0.0163 - accuracy: 0.9964 - val_loss: 0.9670 - val_accuracy: 0.7090\n",
      "Epoch 174/200\n",
      "35/35 [==============================] - 2s 43ms/step - loss: 0.0182 - accuracy: 0.9945 - val_loss: 0.8588 - val_accuracy: 0.7761\n",
      "Epoch 175/200\n",
      "35/35 [==============================] - 2s 43ms/step - loss: 0.0075 - accuracy: 0.9964 - val_loss: 0.9002 - val_accuracy: 0.7687\n",
      "Epoch 176/200\n",
      "35/35 [==============================] - 2s 43ms/step - loss: 0.0042 - accuracy: 0.9982 - val_loss: 0.9971 - val_accuracy: 0.7239\n",
      "Epoch 177/200\n",
      "35/35 [==============================] - 2s 44ms/step - loss: 0.0281 - accuracy: 0.9872 - val_loss: 1.0659 - val_accuracy: 0.6791\n",
      "Epoch 178/200\n",
      "35/35 [==============================] - 2s 42ms/step - loss: 0.0298 - accuracy: 0.9872 - val_loss: 1.0131 - val_accuracy: 0.7239\n",
      "Epoch 179/200\n",
      "35/35 [==============================] - 2s 43ms/step - loss: 0.0068 - accuracy: 0.9982 - val_loss: 1.3972 - val_accuracy: 0.6418\n",
      "Epoch 180/200\n",
      "35/35 [==============================] - 2s 44ms/step - loss: 0.0127 - accuracy: 0.9945 - val_loss: 1.0252 - val_accuracy: 0.7612\n",
      "Epoch 181/200\n",
      "35/35 [==============================] - 2s 43ms/step - loss: 0.0087 - accuracy: 0.9964 - val_loss: 1.2914 - val_accuracy: 0.7388\n",
      "Epoch 182/200\n",
      "35/35 [==============================] - 2s 43ms/step - loss: 0.0034 - accuracy: 0.9982 - val_loss: 1.1603 - val_accuracy: 0.7239\n",
      "Epoch 183/200\n",
      "35/35 [==============================] - 2s 44ms/step - loss: 0.0029 - accuracy: 1.0000 - val_loss: 1.0960 - val_accuracy: 0.6791\n",
      "Epoch 184/200\n",
      "35/35 [==============================] - 2s 43ms/step - loss: 0.0049 - accuracy: 0.9964 - val_loss: 1.2826 - val_accuracy: 0.6940\n",
      "Epoch 185/200\n",
      "35/35 [==============================] - 2s 43ms/step - loss: 0.0060 - accuracy: 0.9982 - val_loss: 1.0009 - val_accuracy: 0.7463\n",
      "Epoch 186/200\n",
      "35/35 [==============================] - 2s 43ms/step - loss: 0.0082 - accuracy: 0.9982 - val_loss: 1.0638 - val_accuracy: 0.7239\n",
      "Epoch 187/200\n",
      "35/35 [==============================] - 2s 43ms/step - loss: 3.9630e-04 - accuracy: 1.0000 - val_loss: 1.1319 - val_accuracy: 0.7164\n",
      "Epoch 188/200\n",
      "35/35 [==============================] - 2s 43ms/step - loss: 0.0030 - accuracy: 1.0000 - val_loss: 1.2271 - val_accuracy: 0.7239\n",
      "Epoch 189/200\n",
      "35/35 [==============================] - 2s 44ms/step - loss: 0.0034 - accuracy: 0.9982 - val_loss: 1.0453 - val_accuracy: 0.7463\n",
      "Epoch 190/200\n",
      "35/35 [==============================] - 2s 44ms/step - loss: 0.0035 - accuracy: 0.9982 - val_loss: 1.0431 - val_accuracy: 0.7537\n",
      "Epoch 191/200\n",
      "35/35 [==============================] - 2s 43ms/step - loss: 0.0050 - accuracy: 0.9982 - val_loss: 1.4783 - val_accuracy: 0.7015\n",
      "Epoch 192/200\n",
      "35/35 [==============================] - 2s 45ms/step - loss: 0.0061 - accuracy: 0.9982 - val_loss: 1.2760 - val_accuracy: 0.7388\n",
      "Epoch 193/200\n",
      "35/35 [==============================] - 2s 43ms/step - loss: 0.0126 - accuracy: 0.9945 - val_loss: 1.4229 - val_accuracy: 0.7015\n",
      "Epoch 194/200\n",
      "35/35 [==============================] - 2s 43ms/step - loss: 0.0059 - accuracy: 0.9945 - val_loss: 1.0748 - val_accuracy: 0.7388\n",
      "Epoch 195/200\n",
      "35/35 [==============================] - 2s 43ms/step - loss: 0.0087 - accuracy: 0.9982 - val_loss: 1.2012 - val_accuracy: 0.7164\n",
      "Epoch 196/200\n",
      "35/35 [==============================] - 2s 43ms/step - loss: 0.0039 - accuracy: 1.0000 - val_loss: 1.1620 - val_accuracy: 0.7537\n",
      "Epoch 197/200\n",
      "35/35 [==============================] - 2s 43ms/step - loss: 0.0014 - accuracy: 1.0000 - val_loss: 1.2813 - val_accuracy: 0.7687\n",
      "Epoch 198/200\n",
      "35/35 [==============================] - 2s 43ms/step - loss: 5.5630e-04 - accuracy: 1.0000 - val_loss: 1.2152 - val_accuracy: 0.7388\n",
      "Epoch 199/200\n",
      "35/35 [==============================] - 2s 42ms/step - loss: 0.0141 - accuracy: 0.9945 - val_loss: 1.4792 - val_accuracy: 0.6866\n",
      "Epoch 200/200\n",
      "35/35 [==============================] - 2s 43ms/step - loss: 0.0266 - accuracy: 0.9909 - val_loss: 1.0818 - val_accuracy: 0.7313\n"
     ]
    }
   ],
   "source": [
    "history = model.fit(x = training_set, validation_data = test_set, epochs = EPOCS)"
   ]
  },
  {
   "cell_type": "code",
   "execution_count": 9,
   "metadata": {
    "scrolled": false
   },
   "outputs": [
    {
     "data": {
      "image/png": "[encoded data removed]",
      "text/plain": [
       "<Figure size 800x800 with 2 Axes>"
      ]
     },
     "metadata": {},
     "output_type": "display_data"
    }
   ],
   "source": [
    "acc = history.history['accuracy']\n",
    "val_acc = history.history['val_accuracy']\n",
    "\n",
    "loss = history.history['loss']\n",
    "val_loss = history.history['val_loss']\n",
    "\n",
    "epochs_range = range(EPOCS)\n",
    "\n",
    "plt.figure(figsize=(8, 8))\n",
    "plt.subplot(1, 2, 1)\n",
    "plt.plot(epochs_range, acc, label='Training Accuracy')\n",
    "plt.plot(epochs_range, val_acc, label='Validation Accuracy')\n",
    "plt.legend(loc='lower right')\n",
    "plt.title('Training and Validation Accuracy')\n",
    "\n",
    "plt.subplot(1, 2, 2)\n",
    "plt.plot(epochs_range, loss, label='Training Loss')\n",
    "plt.plot(epochs_range, val_loss, label='Validation Loss')\n",
    "plt.legend(loc='upper right')\n",
    "plt.title('Training and Validation Loss')\n",
    "plt.show()"
   ]
  },
  {
   "cell_type": "code",
   "execution_count": 10,
   "metadata": {},
   "outputs": [
    {
     "name": "stderr",
     "output_type": "stream",
     "text": [
      "2023-07-16 17:11:52.336571: I tensorflow/core/common_runtime/executor.cc:1197] [/device:CPU:0] (DEBUG INFO) Executor start aborting (this does not indicate an error and you can ignore this message): INVALID_ARGUMENT: You must feed a value for placeholder tensor 'Placeholder/_0' with dtype int32\n",
      "\t [[{{node Placeholder/_0}}]]\n"
     ]
    },
    {
     "name": "stdout",
     "output_type": "stream",
     "text": [
      "9/9 - 0s - loss: 1.3014 - accuracy: 0.7015 - 287ms/epoch - 32ms/step\n",
      "test_acc=0.7014925479888916\n",
      "test_loss=1.3014460802078247\n"
     ]
    }
   ],
   "source": [
    "test_loss, test_acc = model.evaluate(test_set, verbose=2)\n",
    "\n",
    "print(f\"{test_acc=}\")\n",
    "print(f\"{test_loss=}\")"
   ]
  },
  {
   "cell_type": "markdown",
   "metadata": {},
   "source": [
    "# Saving the model"
   ]
  },
  {
   "cell_type": "code",
   "execution_count": 11,
   "metadata": {},
   "outputs": [
    {
     "name": "stderr",
     "output_type": "stream",
     "text": [
      "2023-07-16 17:11:52.807778: I tensorflow/core/common_runtime/executor.cc:1197] [/device:CPU:0] (DEBUG INFO) Executor start aborting (this does not indicate an error and you can ignore this message): INVALID_ARGUMENT: You must feed a value for placeholder tensor 'inputs' with dtype float and shape [?,254,254,32]\n",
      "\t [[{{node inputs}}]]\n",
      "2023-07-16 17:11:52.826420: I tensorflow/core/common_runtime/executor.cc:1197] [/device:CPU:0] (DEBUG INFO) Executor start aborting (this does not indicate an error and you can ignore this message): INVALID_ARGUMENT: You must feed a value for placeholder tensor 'inputs' with dtype float and shape [?,128]\n",
      "\t [[{{node inputs}}]]\n",
      "2023-07-16 17:11:52.981976: I tensorflow/core/common_runtime/executor.cc:1197] [/device:CPU:0] (DEBUG INFO) Executor start aborting (this does not indicate an error and you can ignore this message): INVALID_ARGUMENT: You must feed a value for placeholder tensor 'inputs' with dtype float and shape [?,254,254,32]\n",
      "\t [[{{node inputs}}]]\n",
      "2023-07-16 17:11:53.036726: I tensorflow/core/common_runtime/executor.cc:1197] [/device:CPU:0] (DEBUG INFO) Executor start aborting (this does not indicate an error and you can ignore this message): INVALID_ARGUMENT: You must feed a value for placeholder tensor 'inputs' with dtype float and shape [?,128]\n",
      "\t [[{{node inputs}}]]\n",
      "WARNING:absl:Found untraced functions such as _jit_compiled_convolution_op, _jit_compiled_convolution_op, _jit_compiled_convolution_op while saving (showing 3 of 3). These functions will not be directly callable after loading.\n"
     ]
    },
    {
     "name": "stdout",
     "output_type": "stream",
     "text": [
      "INFO:tensorflow:Assets written to: models/model_w256_acc0.7014925479888916_2023-07-16T17:11:52.626733/assets\n"
     ]
    },
    {
     "name": "stderr",
     "output_type": "stream",
     "text": [
      "INFO:tensorflow:Assets written to: models/model_w256_acc0.7014925479888916_2023-07-16T17:11:52.626733/assets\n"
     ]
    }
   ],
   "source": [
    "MODEL = f'models/model_w{WIDTH}_acc{test_acc}_{datetime.now().isoformat()}'\n",
    "model.save(MODEL)"
   ]
  },
  {
   "cell_type": "markdown",
   "metadata": {},
   "source": [
    "## Converting to TF Lite"
   ]
  },
  {
   "cell_type": "code",
   "execution_count": 12,
   "metadata": {},
   "outputs": [],
   "source": [
    "converter = tf.lite.TFLiteConverter.from_keras_model(model)"
   ]
  },
  {
   "cell_type": "code",
   "execution_count": 13,
   "metadata": {
    "scrolled": true
   },
   "outputs": [
    {
     "name": "stderr",
     "output_type": "stream",
     "text": [
      "2023-07-16 17:11:53.725600: I tensorflow/core/common_runtime/executor.cc:1197] [/device:CPU:0] (DEBUG INFO) Executor start aborting (this does not indicate an error and you can ignore this message): INVALID_ARGUMENT: You must feed a value for placeholder tensor 'inputs' with dtype float and shape [?,254,254,32]\n",
      "\t [[{{node inputs}}]]\n",
      "2023-07-16 17:11:53.743981: I tensorflow/core/common_runtime/executor.cc:1197] [/device:CPU:0] (DEBUG INFO) Executor start aborting (this does not indicate an error and you can ignore this message): INVALID_ARGUMENT: You must feed a value for placeholder tensor 'inputs' with dtype float and shape [?,128]\n",
      "\t [[{{node inputs}}]]\n",
      "2023-07-16 17:11:53.861466: I tensorflow/core/common_runtime/executor.cc:1197] [/device:CPU:0] (DEBUG INFO) Executor start aborting (this does not indicate an error and you can ignore this message): INVALID_ARGUMENT: You must feed a value for placeholder tensor 'inputs' with dtype float and shape [?,254,254,32]\n",
      "\t [[{{node inputs}}]]\n",
      "2023-07-16 17:11:53.916528: I tensorflow/core/common_runtime/executor.cc:1197] [/device:CPU:0] (DEBUG INFO) Executor start aborting (this does not indicate an error and you can ignore this message): INVALID_ARGUMENT: You must feed a value for placeholder tensor 'inputs' with dtype float and shape [?,128]\n",
      "\t [[{{node inputs}}]]\n",
      "WARNING:absl:Found untraced functions such as _jit_compiled_convolution_op, _jit_compiled_convolution_op, _jit_compiled_convolution_op while saving (showing 3 of 3). These functions will not be directly callable after loading.\n"
     ]
    },
    {
     "name": "stdout",
     "output_type": "stream",
     "text": [
      "INFO:tensorflow:Assets written to: /tmp/tmpz6do2a4g/assets\n"
     ]
    },
    {
     "name": "stderr",
     "output_type": "stream",
     "text": [
      "INFO:tensorflow:Assets written to: /tmp/tmpz6do2a4g/assets\n",
      "2023-07-16 17:11:54.718606: W tensorflow/compiler/mlir/lite/python/tf_tfl_flatbuffer_helpers.cc:364] Ignored output_format.\n",
      "2023-07-16 17:11:54.718629: W tensorflow/compiler/mlir/lite/python/tf_tfl_flatbuffer_helpers.cc:367] Ignored drop_control_dependency.\n",
      "2023-07-16 17:11:54.718864: I tensorflow/cc/saved_model/reader.cc:45] Reading SavedModel from: /tmp/tmpz6do2a4g\n",
      "2023-07-16 17:11:54.719892: I tensorflow/cc/saved_model/reader.cc:89] Reading meta graph with tags { serve }\n",
      "2023-07-16 17:11:54.719901: I tensorflow/cc/saved_model/reader.cc:130] Reading SavedModel debug info (if present) from: /tmp/tmpz6do2a4g\n",
      "2023-07-16 17:11:54.722841: I tensorflow/compiler/mlir/mlir_graph_optimization_pass.cc:353] MLIR V1 optimization pass is not enabled\n",
      "2023-07-16 17:11:54.723751: I tensorflow/cc/saved_model/loader.cc:231] Restoring SavedModel bundle.\n",
      "2023-07-16 17:11:54.789411: I tensorflow/cc/saved_model/loader.cc:215] Running initialization op on SavedModel bundle at path: /tmp/tmpz6do2a4g\n",
      "2023-07-16 17:11:54.798490: I tensorflow/cc/saved_model/loader.cc:314] SavedModel load for tags { serve }; Status: success: OK. Took 79627 microseconds.\n"
     ]
    }
   ],
   "source": [
    "tfmodel = converter.convert()"
   ]
  },
  {
   "cell_type": "code",
   "execution_count": 14,
   "metadata": {},
   "outputs": [],
   "source": [
    "f = tf.io.gfile.GFile(f'{MODEL}.tflite', 'wb')\n",
    "f.write(tfmodel)\n",
    "f.close()"
   ]
  },
  {
   "cell_type": "code",
   "execution_count": 15,
   "metadata": {},
   "outputs": [
    {
     "data": {
      "text/plain": [
       "'models/model_w256_acc0.7014925479888916_2023-07-16T17:11:52.626733.tflite'"
      ]
     },
     "execution_count": 15,
     "metadata": {},
     "output_type": "execute_result"
    }
   ],
   "source": [
    "f'{MODEL}.tflite'"
   ]
  },
  {
   "cell_type": "code",
   "execution_count": null,
   "metadata": {},
   "outputs": [],
   "source": []
  },
  {
   "cell_type": "code",
   "execution_count": null,
   "metadata": {},
   "outputs": [],
   "source": []
  },
  {
   "cell_type": "code",
   "execution_count": null,
   "metadata": {},
   "outputs": [],
   "source": []
  }
 ],
 "metadata": {
  "colab": {
   "collapsed_sections": [],
   "name": "Processador.ipynb",
   "provenance": []
  },
  "kernelspec": {
   "display_name": "Python 3 (ipykernel)",
   "language": "python",
   "name": "python3"
  },
  "language_info": {
   "codemirror_mode": {
    "name": "ipython",
    "version": 3
   },
   "file_extension": ".py",
   "mimetype": "text/x-python",
   "name": "python",
   "nbconvert_exporter": "python",
   "pygments_lexer": "ipython3",
   "version": "3.8.10"
  }
 },
 "nbformat": 4,
 "nbformat_minor": 4
}
