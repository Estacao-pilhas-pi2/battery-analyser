{
 "cells": [
  {
   "cell_type": "code",
   "execution_count": 1,
   "metadata": {},
   "outputs": [
    {
     "name": "stderr",
     "output_type": "stream",
     "text": [
      "2023-05-17 00:32:05.390834: I tensorflow/core/platform/cpu_feature_guard.cc:182] This TensorFlow binary is optimized to use available CPU instructions in performance-critical operations.\n",
      "To enable the following instructions: AVX2 FMA, in other operations, rebuild TensorFlow with the appropriate compiler flags.\n"
     ]
    }
   ],
   "source": [
    "from keras.preprocessing.image import ImageDataGenerator\n",
    "from keras.utils.np_utils import to_categorical \n",
    "from keras.layers import Conv2D, MaxPool2D, MaxPooling2D, Flatten, Dense, Dropout, LeakyReLU\n",
    "from keras.models import Sequential\n",
    "from keras.preprocessing import image\n",
    "from keras.layers import BatchNormalization\n",
    "import numpy as np\n",
    "import matplotlib.pyplot as plt\n",
    "\n",
    "from datetime import datetime\n",
    "\n",
    "import tensorflow as tf"
   ]
  },
  {
   "cell_type": "code",
   "execution_count": 2,
   "metadata": {},
   "outputs": [
    {
     "name": "stdout",
     "output_type": "stream",
     "text": [
      "Num GPUs Available:  1\n"
     ]
    },
    {
     "name": "stderr",
     "output_type": "stream",
     "text": [
      "2023-05-17 00:32:06.669222: I tensorflow/compiler/xla/stream_executor/cuda/cuda_gpu_executor.cc:996] successful NUMA node read from SysFS had negative value (-1), but there must be at least one NUMA node, so returning NUMA node zero. See more at https://github.com/torvalds/linux/blob/v6.0/Documentation/ABI/testing/sysfs-bus-pci#L344-L355\n",
      "2023-05-17 00:32:06.675300: I tensorflow/compiler/xla/stream_executor/cuda/cuda_gpu_executor.cc:996] successful NUMA node read from SysFS had negative value (-1), but there must be at least one NUMA node, so returning NUMA node zero. See more at https://github.com/torvalds/linux/blob/v6.0/Documentation/ABI/testing/sysfs-bus-pci#L344-L355\n",
      "2023-05-17 00:32:06.677504: I tensorflow/compiler/xla/stream_executor/cuda/cuda_gpu_executor.cc:996] successful NUMA node read from SysFS had negative value (-1), but there must be at least one NUMA node, so returning NUMA node zero. See more at https://github.com/torvalds/linux/blob/v6.0/Documentation/ABI/testing/sysfs-bus-pci#L344-L355\n"
     ]
    }
   ],
   "source": [
    "print(\"Num GPUs Available: \", len(tf.config.list_physical_devices('GPU')))"
   ]
  },
  {
   "cell_type": "markdown",
   "metadata": {},
   "source": [
    "# Definitions"
   ]
  },
  {
   "cell_type": "code",
   "execution_count": 3,
   "metadata": {},
   "outputs": [],
   "source": [
    "WIDTH, HEIGHT = IMAGE_SIZE = (256, 256)\n",
    "DEPTH = 3\n",
    "DATASET_PATH = \"dataset\"\n",
    "EPOCS = 50"
   ]
  },
  {
   "cell_type": "markdown",
   "metadata": {
    "id": "NL7VXYyecFtH"
   },
   "source": [
    "# Data Preprocessing"
   ]
  },
  {
   "cell_type": "markdown",
   "metadata": {
    "id": "anu1oI8RcJfE"
   },
   "source": [
    "### Preprocessing the Training set"
   ]
  },
  {
   "cell_type": "code",
   "execution_count": 4,
   "metadata": {
    "id": "Ts-KG1fSX2wr"
   },
   "outputs": [
    {
     "name": "stdout",
     "output_type": "stream",
     "text": [
      "Found 37 images belonging to 5 classes.\n"
     ]
    }
   ],
   "source": [
    "def image_generator():\n",
    "    return ImageDataGenerator(rescale = 1./255,\n",
    "                               shear_range = 0.2,\n",
    "                               zoom_range = 0.2,\n",
    "                               horizontal_flip = True,\n",
    "                               vertical_flip = True,\n",
    "                               width_shift_range = 0.2,\n",
    "                               height_shift_range = 0.2,\n",
    "                               brightness_range = 0.2,\n",
    "                               rotation_range = 30)\n",
    "\n",
    "training_set = image_generator().flow_from_directory(DATASET_PATH + \"/train\",\n",
    "                                                 target_size=IMAGE_SIZE,\n",
    "                                                 batch_size=10,\n",
    "                                                 class_mode = 'sparse')"
   ]
  },
  {
   "cell_type": "code",
   "execution_count": 5,
   "metadata": {},
   "outputs": [
    {
     "data": {
      "text/plain": [
       "{'9V': 0, 'AA': 1, 'AAA': 2, 'D': 3, 'unknown': 4}"
      ]
     },
     "execution_count": 5,
     "metadata": {},
     "output_type": "execute_result"
    }
   ],
   "source": [
    "class_indices = training_set.class_indices\n",
    "num_classes = len(class_indices)\n",
    "train_labels = training_set.classes\n",
    "train_labels = to_categorical(train_labels, num_classes=len(class_indices))\n",
    "class_indices"
   ]
  },
  {
   "cell_type": "markdown",
   "metadata": {
    "id": "7Sw2PijSc-bt"
   },
   "source": [
    "### Preprocessing the Test set"
   ]
  },
  {
   "cell_type": "code",
   "execution_count": 6,
   "metadata": {
    "id": "uCi3WOYHX3Df"
   },
   "outputs": [
    {
     "name": "stdout",
     "output_type": "stream",
     "text": [
      "Found 17 images belonging to 5 classes.\n"
     ]
    }
   ],
   "source": [
    "test_datagen = ImageDataGenerator(rescale = 1./255,\n",
    "                                  shear_range = 0.2,\n",
    "                                  zoom_range = 0.2,\n",
    "                                  horizontal_flip = True,\n",
    "                                  vertical_flip = True)\n",
    "test_set = test_datagen.flow_from_directory(DATASET_PATH + \"/test\",\n",
    "                                            target_size = IMAGE_SIZE,\n",
    "                                            batch_size = 10,\n",
    "                                            class_mode = 'sparse')"
   ]
  },
  {
   "cell_type": "markdown",
   "metadata": {
    "id": "UeHB9v3mdKXd"
   },
   "source": [
    "# Building the CNN\n"
   ]
  },
  {
   "cell_type": "code",
   "execution_count": 7,
   "metadata": {
    "id": "S2e7wjeeaxLI"
   },
   "outputs": [
    {
     "name": "stderr",
     "output_type": "stream",
     "text": [
      "2023-05-17 00:09:15.834184: I tensorflow/compiler/xla/stream_executor/cuda/cuda_gpu_executor.cc:996] successful NUMA node read from SysFS had negative value (-1), but there must be at least one NUMA node, so returning NUMA node zero. See more at https://github.com/torvalds/linux/blob/v6.0/Documentation/ABI/testing/sysfs-bus-pci#L344-L355\n",
      "2023-05-17 00:09:15.863270: I tensorflow/compiler/xla/stream_executor/cuda/cuda_gpu_executor.cc:996] successful NUMA node read from SysFS had negative value (-1), but there must be at least one NUMA node, so returning NUMA node zero. See more at https://github.com/torvalds/linux/blob/v6.0/Documentation/ABI/testing/sysfs-bus-pci#L344-L355\n",
      "2023-05-17 00:09:15.876483: I tensorflow/compiler/xla/stream_executor/cuda/cuda_gpu_executor.cc:996] successful NUMA node read from SysFS had negative value (-1), but there must be at least one NUMA node, so returning NUMA node zero. See more at https://github.com/torvalds/linux/blob/v6.0/Documentation/ABI/testing/sysfs-bus-pci#L344-L355\n",
      "2023-05-17 00:09:16.745490: I tensorflow/compiler/xla/stream_executor/cuda/cuda_gpu_executor.cc:996] successful NUMA node read from SysFS had negative value (-1), but there must be at least one NUMA node, so returning NUMA node zero. See more at https://github.com/torvalds/linux/blob/v6.0/Documentation/ABI/testing/sysfs-bus-pci#L344-L355\n",
      "2023-05-17 00:09:16.746491: I tensorflow/compiler/xla/stream_executor/cuda/cuda_gpu_executor.cc:996] successful NUMA node read from SysFS had negative value (-1), but there must be at least one NUMA node, so returning NUMA node zero. See more at https://github.com/torvalds/linux/blob/v6.0/Documentation/ABI/testing/sysfs-bus-pci#L344-L355\n",
      "2023-05-17 00:09:16.747339: I tensorflow/compiler/xla/stream_executor/cuda/cuda_gpu_executor.cc:996] successful NUMA node read from SysFS had negative value (-1), but there must be at least one NUMA node, so returning NUMA node zero. See more at https://github.com/torvalds/linux/blob/v6.0/Documentation/ABI/testing/sysfs-bus-pci#L344-L355\n",
      "2023-05-17 00:09:16.748166: I tensorflow/core/common_runtime/gpu/gpu_device.cc:1635] Created device /job:localhost/replica:0/task:0/device:GPU:0 with 5899 MB memory:  -> device: 0, name: NVIDIA GeForce RTX 2060 SUPER, pci bus id: 0000:01:00.0, compute capability: 7.5\n"
     ]
    }
   ],
   "source": [
    "model = Sequential()\n",
    "model.add(Conv2D(filters=64, kernel_size=(3, 3), padding=\"same\", activation='relu', input_shape=(HEIGHT, WIDTH, DEPTH)))\n",
    "model.add(BatchNormalization(axis=-1))\n",
    "model.add(MaxPool2D(pool_size=(3, 3)))\n",
    "model.add(Dropout(0.25))\n",
    "model.add(Conv2D(filters=128, kernel_size=(3, 3), padding=\"same\", activation='relu'))\n",
    "model.add(BatchNormalization(axis=-1))\n",
    "model.add(MaxPool2D(pool_size=(3, 3)))\n",
    "model.add(Dropout(0.2))\n",
    "model.add(Flatten())\n",
    "model.add(Dense(units=256, activation=\"relu\"))\n",
    "model.add(BatchNormalization())\n",
    "model.add(Dropout(0.15))\n",
    "model.add(Dense(units=num_classes, activation='softmax'))\n",
    "\n",
    "model.compile(optimizer='adam', loss='categorical_crossentropy', metrics=['accuracy'])"
   ]
  },
  {
   "cell_type": "code",
   "execution_count": 7,
   "metadata": {
    "id": "MSNdJrKDdknx"
   },
   "outputs": [
    {
     "name": "stderr",
     "output_type": "stream",
     "text": [
      "2023-05-17 00:32:12.353754: I tensorflow/compiler/xla/stream_executor/cuda/cuda_gpu_executor.cc:996] successful NUMA node read from SysFS had negative value (-1), but there must be at least one NUMA node, so returning NUMA node zero. See more at https://github.com/torvalds/linux/blob/v6.0/Documentation/ABI/testing/sysfs-bus-pci#L344-L355\n",
      "2023-05-17 00:32:12.354900: I tensorflow/compiler/xla/stream_executor/cuda/cuda_gpu_executor.cc:996] successful NUMA node read from SysFS had negative value (-1), but there must be at least one NUMA node, so returning NUMA node zero. See more at https://github.com/torvalds/linux/blob/v6.0/Documentation/ABI/testing/sysfs-bus-pci#L344-L355\n",
      "2023-05-17 00:32:12.355793: I tensorflow/compiler/xla/stream_executor/cuda/cuda_gpu_executor.cc:996] successful NUMA node read from SysFS had negative value (-1), but there must be at least one NUMA node, so returning NUMA node zero. See more at https://github.com/torvalds/linux/blob/v6.0/Documentation/ABI/testing/sysfs-bus-pci#L344-L355\n",
      "2023-05-17 00:32:12.863926: I tensorflow/compiler/xla/stream_executor/cuda/cuda_gpu_executor.cc:996] successful NUMA node read from SysFS had negative value (-1), but there must be at least one NUMA node, so returning NUMA node zero. See more at https://github.com/torvalds/linux/blob/v6.0/Documentation/ABI/testing/sysfs-bus-pci#L344-L355\n",
      "2023-05-17 00:32:12.866023: I tensorflow/compiler/xla/stream_executor/cuda/cuda_gpu_executor.cc:996] successful NUMA node read from SysFS had negative value (-1), but there must be at least one NUMA node, so returning NUMA node zero. See more at https://github.com/torvalds/linux/blob/v6.0/Documentation/ABI/testing/sysfs-bus-pci#L344-L355\n",
      "2023-05-17 00:32:12.866892: I tensorflow/compiler/xla/stream_executor/cuda/cuda_gpu_executor.cc:996] successful NUMA node read from SysFS had negative value (-1), but there must be at least one NUMA node, so returning NUMA node zero. See more at https://github.com/torvalds/linux/blob/v6.0/Documentation/ABI/testing/sysfs-bus-pci#L344-L355\n",
      "2023-05-17 00:32:12.868361: I tensorflow/core/common_runtime/gpu/gpu_device.cc:1635] Created device /job:localhost/replica:0/task:0/device:GPU:0 with 6041 MB memory:  -> device: 0, name: NVIDIA GeForce RTX 2060 SUPER, pci bus id: 0000:01:00.0, compute capability: 7.5\n"
     ]
    }
   ],
   "source": [
    "model = Sequential()\n",
    "model.add(Conv2D(32, (3, 3), activation='relu', input_shape=(HEIGHT, WIDTH, DEPTH)))\n",
    "model.add(MaxPooling2D((2, 2)))\n",
    "model.add(Conv2D(64, (3, 3), activation='relu'))\n",
    "model.add(MaxPooling2D((2, 2)))\n",
    "model.add(Conv2D(64, (3, 3), activation='relu'))\n",
    "\n",
    "model.add(Flatten())\n",
    "model.add(Dense(64, activation='relu'))\n",
    "model.add(Dense(10))"
   ]
  },
  {
   "cell_type": "code",
   "execution_count": 8,
   "metadata": {
    "id": "CGwuFI48axNp"
   },
   "outputs": [],
   "source": [
    "model.compile(optimizer='adam',\n",
    "              loss=tf.keras.losses.SparseCategoricalCrossentropy(from_logits=True),\n",
    "              metrics=['accuracy'])"
   ]
  },
  {
   "cell_type": "code",
   "execution_count": 9,
   "metadata": {
    "id": "RCqqfwfhdtHU"
   },
   "outputs": [],
   "source": []
  },
  {
   "cell_type": "markdown",
   "metadata": {
    "id": "McXjHLJhdzPp"
   },
   "source": [
    "### Step 2- Adding a second convolutional layer"
   ]
  },
  {
   "cell_type": "code",
   "execution_count": 10,
   "metadata": {
    "id": "0wuF1e0laxP-"
   },
   "outputs": [],
   "source": []
  },
  {
   "cell_type": "markdown",
   "metadata": {
    "id": "0CJK0-3jd48v"
   },
   "source": [
    "### Step 3 - Flattening"
   ]
  },
  {
   "cell_type": "code",
   "execution_count": 11,
   "metadata": {
    "id": "LCjhqgTYaxSG"
   },
   "outputs": [],
   "source": []
  },
  {
   "cell_type": "markdown",
   "metadata": {
    "id": "UA4CDNRKd-yv"
   },
   "source": [
    "### Step 4 - Full Connection"
   ]
  },
  {
   "cell_type": "code",
   "execution_count": 12,
   "metadata": {
    "id": "OPEMU8DFd6Gg"
   },
   "outputs": [],
   "source": []
  },
  {
   "cell_type": "markdown",
   "metadata": {
    "id": "oV3cb_PJeBNf"
   },
   "source": [
    "### Step 5 - Output Layer"
   ]
  },
  {
   "cell_type": "code",
   "execution_count": 13,
   "metadata": {
    "id": "60ukuOQ1eAJn"
   },
   "outputs": [],
   "source": []
  },
  {
   "cell_type": "markdown",
   "metadata": {
    "id": "BaB4EIsgedCH"
   },
   "source": [
    "# Part 3 - Training the CNN"
   ]
  },
  {
   "cell_type": "markdown",
   "metadata": {
    "id": "sAZJMiJ0ejRt"
   },
   "source": [
    "### Compiling the CNN"
   ]
  },
  {
   "cell_type": "markdown",
   "metadata": {
    "id": "BmAbjcN9ekDe"
   },
   "source": [
    "### Training the CNN on the Training set and evaluating it on the Test set"
   ]
  },
  {
   "cell_type": "code",
   "execution_count": 9,
   "metadata": {
    "id": "GIINmpWVa7WM"
   },
   "outputs": [
    {
     "name": "stdout",
     "output_type": "stream",
     "text": [
      "Epoch 1/50\n"
     ]
    },
    {
     "name": "stderr",
     "output_type": "stream",
     "text": [
      "2023-05-17 00:32:17.008011: I tensorflow/core/common_runtime/executor.cc:1197] [/device:CPU:0] (DEBUG INFO) Executor start aborting (this does not indicate an error and you can ignore this message): INVALID_ARGUMENT: You must feed a value for placeholder tensor 'Placeholder/_0' with dtype int32\n",
      "\t [[{{node Placeholder/_0}}]]\n",
      "2023-05-17 00:32:18.476625: I tensorflow/compiler/xla/stream_executor/cuda/cuda_dnn.cc:424] Loaded cuDNN version 8600\n",
      "2023-05-17 00:32:18.983016: I tensorflow/compiler/xla/service/service.cc:169] XLA service 0x7f572aa924d0 initialized for platform CUDA (this does not guarantee that XLA will be used). Devices:\n",
      "2023-05-17 00:32:18.983051: I tensorflow/compiler/xla/service/service.cc:177]   StreamExecutor device (0): NVIDIA GeForce RTX 2060 SUPER, Compute Capability 7.5\n",
      "2023-05-17 00:32:18.985907: I tensorflow/compiler/mlir/tensorflow/utils/dump_mlir_util.cc:269] disabling MLIR crash reproducer, set env var `MLIR_CRASH_REPRODUCER_DIRECTORY` to enable.\n",
      "2023-05-17 00:32:19.067996: I ./tensorflow/compiler/jit/device_compiler.h:180] Compiled cluster using XLA!  This line is logged at most once for the lifetime of the process.\n"
     ]
    },
    {
     "name": "stdout",
     "output_type": "stream",
     "text": [
      "4/4 [==============================] - ETA: 0s - loss: 7.4657 - accuracy: 0.1622  "
     ]
    },
    {
     "name": "stderr",
     "output_type": "stream",
     "text": [
      "2023-05-17 00:32:22.115843: I tensorflow/core/common_runtime/executor.cc:1197] [/device:CPU:0] (DEBUG INFO) Executor start aborting (this does not indicate an error and you can ignore this message): INVALID_ARGUMENT: You must feed a value for placeholder tensor 'Placeholder/_0' with dtype int32\n",
      "\t [[{{node Placeholder/_0}}]]\n"
     ]
    },
    {
     "name": "stdout",
     "output_type": "stream",
     "text": [
      "4/4 [==============================] - 6s 1s/step - loss: 7.4657 - accuracy: 0.1622 - val_loss: 1.8798 - val_accuracy: 0.3529\n",
      "Epoch 2/50\n",
      "4/4 [==============================] - 3s 886ms/step - loss: 1.8146 - accuracy: 0.1892 - val_loss: 1.5484 - val_accuracy: 0.4118\n",
      "Epoch 3/50\n",
      "4/4 [==============================] - 3s 937ms/step - loss: 1.3714 - accuracy: 0.4054 - val_loss: 1.4176 - val_accuracy: 0.5294\n",
      "Epoch 4/50\n",
      "4/4 [==============================] - 3s 941ms/step - loss: 1.2592 - accuracy: 0.5405 - val_loss: 1.2556 - val_accuracy: 0.5882\n",
      "Epoch 5/50\n",
      "4/4 [==============================] - 3s 884ms/step - loss: 1.0816 - accuracy: 0.6216 - val_loss: 1.0049 - val_accuracy: 0.6471\n",
      "Epoch 6/50\n",
      "4/4 [==============================] - 3s 891ms/step - loss: 0.7956 - accuracy: 0.6757 - val_loss: 0.8875 - val_accuracy: 0.6471\n",
      "Epoch 7/50\n",
      "4/4 [==============================] - 3s 900ms/step - loss: 0.9407 - accuracy: 0.5405 - val_loss: 0.7842 - val_accuracy: 0.7059\n",
      "Epoch 8/50\n",
      "4/4 [==============================] - 3s 893ms/step - loss: 0.9668 - accuracy: 0.5946 - val_loss: 0.7578 - val_accuracy: 0.6471\n",
      "Epoch 9/50\n",
      "4/4 [==============================] - 3s 932ms/step - loss: 0.7121 - accuracy: 0.8108 - val_loss: 0.6992 - val_accuracy: 0.7059\n",
      "Epoch 10/50\n",
      "4/4 [==============================] - 3s 909ms/step - loss: 0.5677 - accuracy: 0.8108 - val_loss: 0.7357 - val_accuracy: 0.7647\n",
      "Epoch 11/50\n",
      "4/4 [==============================] - 3s 889ms/step - loss: 0.5495 - accuracy: 0.8378 - val_loss: 0.8377 - val_accuracy: 0.7647\n",
      "Epoch 12/50\n",
      "4/4 [==============================] - 3s 903ms/step - loss: 0.5408 - accuracy: 0.7838 - val_loss: 0.7259 - val_accuracy: 0.6471\n",
      "Epoch 13/50\n",
      "4/4 [==============================] - 3s 898ms/step - loss: 0.4519 - accuracy: 0.8919 - val_loss: 0.5117 - val_accuracy: 0.8235\n",
      "Epoch 14/50\n",
      "4/4 [==============================] - 3s 891ms/step - loss: 0.3612 - accuracy: 0.8378 - val_loss: 0.5060 - val_accuracy: 0.7059\n",
      "Epoch 15/50\n",
      "4/4 [==============================] - 3s 900ms/step - loss: 0.2619 - accuracy: 0.9189 - val_loss: 0.4341 - val_accuracy: 0.8235\n",
      "Epoch 16/50\n",
      "4/4 [==============================] - 3s 902ms/step - loss: 0.1493 - accuracy: 1.0000 - val_loss: 0.2191 - val_accuracy: 0.9412\n",
      "Epoch 17/50\n",
      "4/4 [==============================] - 3s 955ms/step - loss: 0.3339 - accuracy: 0.8919 - val_loss: 0.4755 - val_accuracy: 0.8824\n",
      "Epoch 18/50\n",
      "4/4 [==============================] - 3s 879ms/step - loss: 0.1251 - accuracy: 0.9459 - val_loss: 0.3802 - val_accuracy: 0.8824\n",
      "Epoch 19/50\n",
      "4/4 [==============================] - 3s 905ms/step - loss: 0.2105 - accuracy: 0.8919 - val_loss: 0.5655 - val_accuracy: 0.8235\n",
      "Epoch 20/50\n",
      "4/4 [==============================] - 3s 891ms/step - loss: 0.3262 - accuracy: 0.8649 - val_loss: 0.2635 - val_accuracy: 0.8824\n",
      "Epoch 21/50\n",
      "4/4 [==============================] - 3s 911ms/step - loss: 0.1265 - accuracy: 0.9730 - val_loss: 0.4921 - val_accuracy: 0.8824\n",
      "Epoch 22/50\n",
      "4/4 [==============================] - 3s 885ms/step - loss: 0.2713 - accuracy: 0.8649 - val_loss: 0.5485 - val_accuracy: 0.8235\n",
      "Epoch 23/50\n",
      "4/4 [==============================] - 3s 879ms/step - loss: 0.1390 - accuracy: 0.9459 - val_loss: 0.5092 - val_accuracy: 0.7647\n",
      "Epoch 24/50\n",
      "4/4 [==============================] - 3s 886ms/step - loss: 0.2114 - accuracy: 0.9730 - val_loss: 0.4088 - val_accuracy: 0.8824\n",
      "Epoch 25/50\n",
      "4/4 [==============================] - 3s 920ms/step - loss: 0.1000 - accuracy: 1.0000 - val_loss: 0.4343 - val_accuracy: 0.8824\n",
      "Epoch 26/50\n",
      "4/4 [==============================] - 3s 946ms/step - loss: 0.0981 - accuracy: 0.9459 - val_loss: 0.2787 - val_accuracy: 0.8824\n",
      "Epoch 27/50\n",
      "4/4 [==============================] - 3s 936ms/step - loss: 0.0599 - accuracy: 1.0000 - val_loss: 0.2545 - val_accuracy: 0.9412\n",
      "Epoch 28/50\n",
      "4/4 [==============================] - 3s 920ms/step - loss: 0.0878 - accuracy: 0.9730 - val_loss: 0.5129 - val_accuracy: 0.8824\n",
      "Epoch 29/50\n",
      "4/4 [==============================] - 3s 953ms/step - loss: 0.0946 - accuracy: 0.9730 - val_loss: 0.4320 - val_accuracy: 0.9412\n",
      "Epoch 30/50\n",
      "4/4 [==============================] - 3s 899ms/step - loss: 0.0661 - accuracy: 0.9730 - val_loss: 0.4167 - val_accuracy: 0.8824\n",
      "Epoch 31/50\n",
      "4/4 [==============================] - 3s 923ms/step - loss: 0.2084 - accuracy: 0.9459 - val_loss: 0.4880 - val_accuracy: 0.8235\n",
      "Epoch 32/50\n",
      "4/4 [==============================] - 3s 914ms/step - loss: 0.1705 - accuracy: 0.9459 - val_loss: 0.5755 - val_accuracy: 0.8235\n",
      "Epoch 33/50\n",
      "4/4 [==============================] - 3s 899ms/step - loss: 0.3455 - accuracy: 0.9189 - val_loss: 0.3979 - val_accuracy: 0.8235\n",
      "Epoch 34/50\n",
      "4/4 [==============================] - 3s 887ms/step - loss: 0.1668 - accuracy: 0.9189 - val_loss: 0.1743 - val_accuracy: 0.9412\n",
      "Epoch 35/50\n",
      "4/4 [==============================] - 3s 887ms/step - loss: 0.0604 - accuracy: 1.0000 - val_loss: 0.4517 - val_accuracy: 0.9412\n",
      "Epoch 36/50\n",
      "4/4 [==============================] - 3s 891ms/step - loss: 0.0678 - accuracy: 0.9730 - val_loss: 0.3482 - val_accuracy: 0.8824\n",
      "Epoch 37/50\n",
      "4/4 [==============================] - 3s 903ms/step - loss: 0.0440 - accuracy: 1.0000 - val_loss: 0.2794 - val_accuracy: 0.8824\n",
      "Epoch 38/50\n",
      "4/4 [==============================] - 3s 924ms/step - loss: 0.0371 - accuracy: 1.0000 - val_loss: 0.2308 - val_accuracy: 0.9412\n",
      "Epoch 39/50\n",
      "4/4 [==============================] - 3s 924ms/step - loss: 0.0172 - accuracy: 1.0000 - val_loss: 0.5135 - val_accuracy: 0.8235\n",
      "Epoch 40/50\n",
      "4/4 [==============================] - 3s 895ms/step - loss: 0.0145 - accuracy: 1.0000 - val_loss: 0.1482 - val_accuracy: 0.9412\n",
      "Epoch 41/50\n",
      "4/4 [==============================] - 3s 936ms/step - loss: 0.0096 - accuracy: 1.0000 - val_loss: 0.5212 - val_accuracy: 0.8824\n",
      "Epoch 42/50\n",
      "4/4 [==============================] - 3s 895ms/step - loss: 0.0073 - accuracy: 1.0000 - val_loss: 0.4046 - val_accuracy: 0.9412\n",
      "Epoch 43/50\n",
      "4/4 [==============================] - 3s 906ms/step - loss: 0.0306 - accuracy: 0.9730 - val_loss: 0.2299 - val_accuracy: 0.9412\n",
      "Epoch 44/50\n",
      "4/4 [==============================] - 3s 882ms/step - loss: 0.0153 - accuracy: 1.0000 - val_loss: 0.8629 - val_accuracy: 0.8235\n",
      "Epoch 45/50\n",
      "4/4 [==============================] - 3s 875ms/step - loss: 0.0222 - accuracy: 1.0000 - val_loss: 0.6519 - val_accuracy: 0.8824\n",
      "Epoch 46/50\n",
      "4/4 [==============================] - 3s 887ms/step - loss: 0.0072 - accuracy: 1.0000 - val_loss: 0.4327 - val_accuracy: 0.9412\n",
      "Epoch 47/50\n",
      "4/4 [==============================] - 3s 938ms/step - loss: 0.0591 - accuracy: 0.9730 - val_loss: 0.3585 - val_accuracy: 0.9412\n",
      "Epoch 48/50\n",
      "4/4 [==============================] - 3s 892ms/step - loss: 0.0160 - accuracy: 1.0000 - val_loss: 0.4594 - val_accuracy: 0.9412\n",
      "Epoch 49/50\n",
      "4/4 [==============================] - 3s 910ms/step - loss: 0.0141 - accuracy: 1.0000 - val_loss: 0.4773 - val_accuracy: 0.9412\n",
      "Epoch 50/50\n",
      "4/4 [==============================] - 3s 889ms/step - loss: 0.0059 - accuracy: 1.0000 - val_loss: 0.5186 - val_accuracy: 0.9412\n"
     ]
    }
   ],
   "source": [
    "history = model.fit(x = training_set, validation_data = test_set, epochs = EPOCS)"
   ]
  },
  {
   "cell_type": "code",
   "execution_count": 10,
   "metadata": {},
   "outputs": [
    {
     "name": "stderr",
     "output_type": "stream",
     "text": [
      "2023-05-17 00:35:06.890063: I tensorflow/core/common_runtime/executor.cc:1197] [/device:CPU:0] (DEBUG INFO) Executor start aborting (this does not indicate an error and you can ignore this message): INVALID_ARGUMENT: You must feed a value for placeholder tensor 'Placeholder/_0' with dtype int32\n",
      "\t [[{{node Placeholder/_0}}]]\n"
     ]
    },
    {
     "name": "stdout",
     "output_type": "stream",
     "text": [
      "2/2 - 1s - loss: 0.5094 - accuracy: 0.8235 - 1s/epoch - 541ms/step\n"
     ]
    },
    {
     "data": {
      "image/png": "[encoded data removed]",
      "text/plain": [
       "<Figure size 640x480 with 1 Axes>"
      ]
     },
     "metadata": {},
     "output_type": "display_data"
    }
   ],
   "source": [
    "plt.plot(history.history['accuracy'], label='accuracy')\n",
    "plt.plot(history.history['val_accuracy'], label = 'val_accuracy')\n",
    "plt.xlabel('Epoch')\n",
    "plt.ylabel('Accuracy')\n",
    "plt.ylim([0.5, 1])\n",
    "plt.legend(loc='lower right')\n",
    "\n",
    "test_loss, test_acc = model.evaluate(test_set, verbose=2)"
   ]
  },
  {
   "cell_type": "code",
   "execution_count": 11,
   "metadata": {},
   "outputs": [
    {
     "name": "stdout",
     "output_type": "stream",
     "text": [
      "0.8235294222831726\n"
     ]
    }
   ],
   "source": [
    "print(test_acc)"
   ]
  },
  {
   "cell_type": "markdown",
   "metadata": {},
   "source": [
    "# Saving the model"
   ]
  },
  {
   "cell_type": "code",
   "execution_count": 12,
   "metadata": {},
   "outputs": [
    {
     "ename": "NameError",
     "evalue": "name 'cnn' is not defined",
     "output_type": "error",
     "traceback": [
      "\u001b[0;31m---------------------------------------------------------------------------\u001b[0m",
      "\u001b[0;31mNameError\u001b[0m                                 Traceback (most recent call last)",
      "Cell \u001b[0;32mIn[12], line 1\u001b[0m\n\u001b[0;32m----> 1\u001b[0m \u001b[43mcnn\u001b[49m\u001b[38;5;241m.\u001b[39msave(\u001b[38;5;124mf\u001b[39m\u001b[38;5;124m'\u001b[39m\u001b[38;5;124mmodels/model_\u001b[39m\u001b[38;5;132;01m{\u001b[39;00mEPOCS\u001b[38;5;132;01m}\u001b[39;00m\u001b[38;5;124m_\u001b[39m\u001b[38;5;132;01m{\u001b[39;00mdatetime\u001b[38;5;241m.\u001b[39mnow()\u001b[38;5;241m.\u001b[39misoformat()\u001b[38;5;132;01m}\u001b[39;00m\u001b[38;5;124m'\u001b[39m)\n",
      "\u001b[0;31mNameError\u001b[0m: name 'cnn' is not defined"
     ]
    }
   ],
   "source": [
    "cnn.save(f'models/model_{EPOCS}_{datetime.now().isoformat()}')"
   ]
  },
  {
   "cell_type": "code",
   "execution_count": null,
   "metadata": {},
   "outputs": [],
   "source": []
  }
 ],
 "metadata": {
  "colab": {
   "collapsed_sections": [],
   "name": "Processador.ipynb",
   "provenance": []
  },
  "kernelspec": {
   "display_name": "Python 3 (ipykernel)",
   "language": "python",
   "name": "python3"
  },
  "language_info": {
   "codemirror_mode": {
    "name": "ipython",
    "version": 3
   },
   "file_extension": ".py",
   "mimetype": "text/x-python",
   "name": "python",
   "nbconvert_exporter": "python",
   "pygments_lexer": "ipython3",
   "version": "3.8.10"
  }
 },
 "nbformat": 4,
 "nbformat_minor": 4
}
