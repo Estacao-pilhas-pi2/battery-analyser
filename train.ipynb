{
 "cells": [
  {
   "cell_type": "code",
   "execution_count": 1,
   "metadata": {},
   "outputs": [
    {
     "name": "stderr",
     "output_type": "stream",
     "text": [
      "2023-05-17 01:03:33.000935: I tensorflow/core/platform/cpu_feature_guard.cc:182] This TensorFlow binary is optimized to use available CPU instructions in performance-critical operations.\n",
      "To enable the following instructions: AVX2 FMA, in other operations, rebuild TensorFlow with the appropriate compiler flags.\n"
     ]
    }
   ],
   "source": [
    "from keras.preprocessing.image import ImageDataGenerator\n",
    "from keras.utils.np_utils import to_categorical \n",
    "from keras.layers import Conv2D, MaxPool2D, MaxPooling2D, Flatten, Dense, Dropout, LeakyReLU\n",
    "from keras.models import Sequential\n",
    "from keras.preprocessing import image\n",
    "from keras.layers import BatchNormalization\n",
    "import numpy as np\n",
    "import matplotlib.pyplot as plt\n",
    "\n",
    "from datetime import datetime\n",
    "\n",
    "import tensorflow as tf"
   ]
  },
  {
   "cell_type": "code",
   "execution_count": 2,
   "metadata": {},
   "outputs": [
    {
     "name": "stdout",
     "output_type": "stream",
     "text": [
      "Num GPUs Available:  1\n"
     ]
    },
    {
     "name": "stderr",
     "output_type": "stream",
     "text": [
      "2023-05-17 01:03:34.375702: I tensorflow/compiler/xla/stream_executor/cuda/cuda_gpu_executor.cc:996] successful NUMA node read from SysFS had negative value (-1), but there must be at least one NUMA node, so returning NUMA node zero. See more at https://github.com/torvalds/linux/blob/v6.0/Documentation/ABI/testing/sysfs-bus-pci#L344-L355\n",
      "2023-05-17 01:03:34.381262: I tensorflow/compiler/xla/stream_executor/cuda/cuda_gpu_executor.cc:996] successful NUMA node read from SysFS had negative value (-1), but there must be at least one NUMA node, so returning NUMA node zero. See more at https://github.com/torvalds/linux/blob/v6.0/Documentation/ABI/testing/sysfs-bus-pci#L344-L355\n",
      "2023-05-17 01:03:34.393177: I tensorflow/compiler/xla/stream_executor/cuda/cuda_gpu_executor.cc:996] successful NUMA node read from SysFS had negative value (-1), but there must be at least one NUMA node, so returning NUMA node zero. See more at https://github.com/torvalds/linux/blob/v6.0/Documentation/ABI/testing/sysfs-bus-pci#L344-L355\n"
     ]
    }
   ],
   "source": [
    "print(\"Num GPUs Available: \", len(tf.config.list_physical_devices('GPU')))"
   ]
  },
  {
   "cell_type": "markdown",
   "metadata": {},
   "source": [
    "# Definitions"
   ]
  },
  {
   "cell_type": "code",
   "execution_count": 3,
   "metadata": {},
   "outputs": [],
   "source": [
    "WIDTH, HEIGHT = IMAGE_SIZE = (128, 128)\n",
    "DEPTH = 3\n",
    "DATASET_PATH = \"dataset\"\n",
    "EPOCS = 50"
   ]
  },
  {
   "cell_type": "markdown",
   "metadata": {
    "id": "NL7VXYyecFtH"
   },
   "source": [
    "# Data Preprocessing"
   ]
  },
  {
   "cell_type": "markdown",
   "metadata": {
    "id": "anu1oI8RcJfE"
   },
   "source": [
    "### Preprocessing the Training set"
   ]
  },
  {
   "cell_type": "code",
   "execution_count": 4,
   "metadata": {
    "id": "Ts-KG1fSX2wr"
   },
   "outputs": [
    {
     "name": "stdout",
     "output_type": "stream",
     "text": [
      "Found 39 images belonging to 2 classes.\n"
     ]
    }
   ],
   "source": [
    "training_datagen = ImageDataGenerator(rescale = 1./255,\n",
    "                                       shear_range = 0.2,\n",
    "                                       horizontal_flip = True,\n",
    "                                       vertical_flip = True,\n",
    "                                       width_shift_range = 0.2,\n",
    "                                       height_shift_range = 0.2,\n",
    "                                       rotation_range = 30)\n",
    "\n",
    "training_set = training_datagen.flow_from_directory(DATASET_PATH + \"/train\",\n",
    "                                                 target_size=IMAGE_SIZE,\n",
    "                                                 batch_size=10,\n",
    "                                                 class_mode = 'sparse')"
   ]
  },
  {
   "cell_type": "code",
   "execution_count": 5,
   "metadata": {},
   "outputs": [
    {
     "data": {
      "text/plain": [
       "{'9v': 0, 'AA': 1}"
      ]
     },
     "execution_count": 5,
     "metadata": {},
     "output_type": "execute_result"
    }
   ],
   "source": [
    "class_indices = training_set.class_indices\n",
    "num_classes = len(class_indices)\n",
    "train_labels = training_set.classes\n",
    "train_labels = to_categorical(train_labels, num_classes=len(class_indices))\n",
    "class_indices"
   ]
  },
  {
   "cell_type": "markdown",
   "metadata": {
    "id": "7Sw2PijSc-bt"
   },
   "source": [
    "### Preprocessing the Test set"
   ]
  },
  {
   "cell_type": "code",
   "execution_count": 6,
   "metadata": {
    "id": "uCi3WOYHX3Df"
   },
   "outputs": [
    {
     "name": "stdout",
     "output_type": "stream",
     "text": [
      "Found 7 images belonging to 2 classes.\n"
     ]
    }
   ],
   "source": [
    "test_datagen = ImageDataGenerator(rescale = 1./255,\n",
    "                                  shear_range = 0.2)\n",
    "test_set = test_datagen.flow_from_directory(DATASET_PATH + \"/test\",\n",
    "                                            target_size = IMAGE_SIZE,\n",
    "                                            batch_size = 10,\n",
    "                                            class_mode = 'sparse')"
   ]
  },
  {
   "cell_type": "markdown",
   "metadata": {
    "id": "UeHB9v3mdKXd"
   },
   "source": [
    "# Building the CNN\n"
   ]
  },
  {
   "cell_type": "code",
   "execution_count": 7,
   "metadata": {
    "id": "MSNdJrKDdknx"
   },
   "outputs": [
    {
     "name": "stderr",
     "output_type": "stream",
     "text": [
      "2023-05-17 01:03:37.025211: I tensorflow/compiler/xla/stream_executor/cuda/cuda_gpu_executor.cc:996] successful NUMA node read from SysFS had negative value (-1), but there must be at least one NUMA node, so returning NUMA node zero. See more at https://github.com/torvalds/linux/blob/v6.0/Documentation/ABI/testing/sysfs-bus-pci#L344-L355\n",
      "2023-05-17 01:03:37.028757: I tensorflow/compiler/xla/stream_executor/cuda/cuda_gpu_executor.cc:996] successful NUMA node read from SysFS had negative value (-1), but there must be at least one NUMA node, so returning NUMA node zero. See more at https://github.com/torvalds/linux/blob/v6.0/Documentation/ABI/testing/sysfs-bus-pci#L344-L355\n",
      "2023-05-17 01:03:37.031227: I tensorflow/compiler/xla/stream_executor/cuda/cuda_gpu_executor.cc:996] successful NUMA node read from SysFS had negative value (-1), but there must be at least one NUMA node, so returning NUMA node zero. See more at https://github.com/torvalds/linux/blob/v6.0/Documentation/ABI/testing/sysfs-bus-pci#L344-L355\n",
      "2023-05-17 01:03:37.556502: I tensorflow/compiler/xla/stream_executor/cuda/cuda_gpu_executor.cc:996] successful NUMA node read from SysFS had negative value (-1), but there must be at least one NUMA node, so returning NUMA node zero. See more at https://github.com/torvalds/linux/blob/v6.0/Documentation/ABI/testing/sysfs-bus-pci#L344-L355\n",
      "2023-05-17 01:03:37.557491: I tensorflow/compiler/xla/stream_executor/cuda/cuda_gpu_executor.cc:996] successful NUMA node read from SysFS had negative value (-1), but there must be at least one NUMA node, so returning NUMA node zero. See more at https://github.com/torvalds/linux/blob/v6.0/Documentation/ABI/testing/sysfs-bus-pci#L344-L355\n",
      "2023-05-17 01:03:37.558487: I tensorflow/compiler/xla/stream_executor/cuda/cuda_gpu_executor.cc:996] successful NUMA node read from SysFS had negative value (-1), but there must be at least one NUMA node, so returning NUMA node zero. See more at https://github.com/torvalds/linux/blob/v6.0/Documentation/ABI/testing/sysfs-bus-pci#L344-L355\n",
      "2023-05-17 01:03:37.559306: I tensorflow/core/common_runtime/gpu/gpu_device.cc:1635] Created device /job:localhost/replica:0/task:0/device:GPU:0 with 6069 MB memory:  -> device: 0, name: NVIDIA GeForce RTX 2060 SUPER, pci bus id: 0000:01:00.0, compute capability: 7.5\n"
     ]
    }
   ],
   "source": [
    "model = Sequential()\n",
    "model.add(Conv2D(32, (3, 3), activation='relu', input_shape=(HEIGHT, WIDTH, DEPTH)))\n",
    "model.add(MaxPooling2D((2, 2)))\n",
    "model.add(Conv2D(64, (3, 3), activation='relu'))\n",
    "model.add(MaxPooling2D((2, 2)))\n",
    "model.add(Conv2D(64, (3, 3), activation='relu'))\n",
    "\n",
    "model.add(Flatten())\n",
    "model.add(Dense(64, activation='relu'))\n",
    "model.add(Dense(10))"
   ]
  },
  {
   "cell_type": "code",
   "execution_count": 8,
   "metadata": {
    "id": "CGwuFI48axNp"
   },
   "outputs": [],
   "source": [
    "model.compile(optimizer='adam',\n",
    "              loss=tf.keras.losses.SparseCategoricalCrossentropy(from_logits=True),\n",
    "              metrics=['accuracy'])"
   ]
  },
  {
   "cell_type": "code",
   "execution_count": null,
   "metadata": {
    "id": "RCqqfwfhdtHU"
   },
   "outputs": [],
   "source": []
  },
  {
   "cell_type": "markdown",
   "metadata": {
    "id": "McXjHLJhdzPp"
   },
   "source": [
    "### Step 2- Adding a second convolutional layer"
   ]
  },
  {
   "cell_type": "code",
   "execution_count": 10,
   "metadata": {
    "id": "0wuF1e0laxP-"
   },
   "outputs": [],
   "source": []
  },
  {
   "cell_type": "markdown",
   "metadata": {
    "id": "0CJK0-3jd48v"
   },
   "source": [
    "### Step 3 - Flattening"
   ]
  },
  {
   "cell_type": "code",
   "execution_count": 11,
   "metadata": {
    "id": "LCjhqgTYaxSG"
   },
   "outputs": [],
   "source": []
  },
  {
   "cell_type": "markdown",
   "metadata": {
    "id": "UA4CDNRKd-yv"
   },
   "source": [
    "### Step 4 - Full Connection"
   ]
  },
  {
   "cell_type": "code",
   "execution_count": 12,
   "metadata": {
    "id": "OPEMU8DFd6Gg"
   },
   "outputs": [],
   "source": []
  },
  {
   "cell_type": "markdown",
   "metadata": {
    "id": "oV3cb_PJeBNf"
   },
   "source": [
    "### Step 5 - Output Layer"
   ]
  },
  {
   "cell_type": "code",
   "execution_count": 13,
   "metadata": {
    "id": "60ukuOQ1eAJn"
   },
   "outputs": [],
   "source": []
  },
  {
   "cell_type": "markdown",
   "metadata": {
    "id": "BaB4EIsgedCH"
   },
   "source": [
    "# Part 3 - Training the CNN"
   ]
  },
  {
   "cell_type": "markdown",
   "metadata": {
    "id": "sAZJMiJ0ejRt"
   },
   "source": [
    "### Compiling the CNN"
   ]
  },
  {
   "cell_type": "markdown",
   "metadata": {
    "id": "BmAbjcN9ekDe"
   },
   "source": [
    "### Training the CNN on the Training set and evaluating it on the Test set"
   ]
  },
  {
   "cell_type": "code",
   "execution_count": 9,
   "metadata": {
    "id": "GIINmpWVa7WM"
   },
   "outputs": [
    {
     "name": "stdout",
     "output_type": "stream",
     "text": [
      "Epoch 1/50\n"
     ]
    },
    {
     "name": "stderr",
     "output_type": "stream",
     "text": [
      "2023-05-17 01:03:43.570378: I tensorflow/core/common_runtime/executor.cc:1197] [/device:CPU:0] (DEBUG INFO) Executor start aborting (this does not indicate an error and you can ignore this message): INVALID_ARGUMENT: You must feed a value for placeholder tensor 'Placeholder/_0' with dtype int32\n",
      "\t [[{{node Placeholder/_0}}]]\n",
      "2023-05-17 01:03:44.458917: I tensorflow/compiler/xla/stream_executor/cuda/cuda_dnn.cc:424] Loaded cuDNN version 8600\n",
      "2023-05-17 01:03:44.897366: I tensorflow/compiler/xla/service/service.cc:169] XLA service 0x7f9c871df8d0 initialized for platform CUDA (this does not guarantee that XLA will be used). Devices:\n",
      "2023-05-17 01:03:44.897394: I tensorflow/compiler/xla/service/service.cc:177]   StreamExecutor device (0): NVIDIA GeForce RTX 2060 SUPER, Compute Capability 7.5\n",
      "2023-05-17 01:03:44.900501: I tensorflow/compiler/mlir/tensorflow/utils/dump_mlir_util.cc:269] disabling MLIR crash reproducer, set env var `MLIR_CRASH_REPRODUCER_DIRECTORY` to enable.\n",
      "2023-05-17 01:03:44.983929: I ./tensorflow/compiler/jit/device_compiler.h:180] Compiled cluster using XLA!  This line is logged at most once for the lifetime of the process.\n"
     ]
    },
    {
     "name": "stdout",
     "output_type": "stream",
     "text": [
      "4/4 [==============================] - 3s 153ms/step - loss: 1.3203 - accuracy: 0.3590 - val_loss: 1.4482 - val_accuracy: 0.5714\n",
      "Epoch 2/50\n"
     ]
    },
    {
     "name": "stderr",
     "output_type": "stream",
     "text": [
      "2023-05-17 01:03:46.184301: I tensorflow/core/common_runtime/executor.cc:1197] [/device:CPU:0] (DEBUG INFO) Executor start aborting (this does not indicate an error and you can ignore this message): INVALID_ARGUMENT: You must feed a value for placeholder tensor 'Placeholder/_0' with dtype int32\n",
      "\t [[{{node Placeholder/_0}}]]\n"
     ]
    },
    {
     "name": "stdout",
     "output_type": "stream",
     "text": [
      "4/4 [==============================] - 0s 44ms/step - loss: 1.0783 - accuracy: 0.5128 - val_loss: 0.8354 - val_accuracy: 0.4286\n",
      "Epoch 3/50\n",
      "4/4 [==============================] - 0s 42ms/step - loss: 0.7526 - accuracy: 0.5385 - val_loss: 0.7469 - val_accuracy: 0.4286\n",
      "Epoch 4/50\n",
      "4/4 [==============================] - 0s 42ms/step - loss: 0.6589 - accuracy: 0.7436 - val_loss: 0.5483 - val_accuracy: 0.7143\n",
      "Epoch 5/50\n",
      "4/4 [==============================] - 0s 42ms/step - loss: 0.5448 - accuracy: 0.7179 - val_loss: 0.5478 - val_accuracy: 0.5714\n",
      "Epoch 6/50\n",
      "4/4 [==============================] - 0s 44ms/step - loss: 0.5591 - accuracy: 0.6154 - val_loss: 0.5936 - val_accuracy: 0.5714\n",
      "Epoch 7/50\n",
      "4/4 [==============================] - 0s 41ms/step - loss: 0.4592 - accuracy: 0.7692 - val_loss: 0.5657 - val_accuracy: 0.7143\n",
      "Epoch 8/50\n",
      "4/4 [==============================] - 0s 45ms/step - loss: 0.5465 - accuracy: 0.7179 - val_loss: 0.5001 - val_accuracy: 0.7143\n",
      "Epoch 9/50\n",
      "4/4 [==============================] - 0s 41ms/step - loss: 0.4540 - accuracy: 0.7179 - val_loss: 0.6090 - val_accuracy: 0.7143\n",
      "Epoch 10/50\n",
      "4/4 [==============================] - 0s 41ms/step - loss: 0.5079 - accuracy: 0.7436 - val_loss: 0.4179 - val_accuracy: 0.8571\n",
      "Epoch 11/50\n",
      "4/4 [==============================] - 0s 43ms/step - loss: 0.3900 - accuracy: 0.7949 - val_loss: 0.4986 - val_accuracy: 0.7143\n",
      "Epoch 12/50\n",
      "4/4 [==============================] - 0s 42ms/step - loss: 0.4429 - accuracy: 0.7692 - val_loss: 0.3890 - val_accuracy: 0.8571\n",
      "Epoch 13/50\n",
      "4/4 [==============================] - 0s 40ms/step - loss: 0.3473 - accuracy: 0.8462 - val_loss: 0.3316 - val_accuracy: 0.7143\n",
      "Epoch 14/50\n",
      "4/4 [==============================] - 0s 42ms/step - loss: 0.3205 - accuracy: 0.8718 - val_loss: 0.3556 - val_accuracy: 0.8571\n",
      "Epoch 15/50\n",
      "4/4 [==============================] - 0s 42ms/step - loss: 0.3882 - accuracy: 0.8205 - val_loss: 0.2695 - val_accuracy: 0.8571\n",
      "Epoch 16/50\n",
      "4/4 [==============================] - 0s 40ms/step - loss: 0.2952 - accuracy: 0.8462 - val_loss: 0.3027 - val_accuracy: 0.8571\n",
      "Epoch 17/50\n",
      "4/4 [==============================] - 0s 43ms/step - loss: 0.2889 - accuracy: 0.8974 - val_loss: 0.2212 - val_accuracy: 1.0000\n",
      "Epoch 18/50\n",
      "4/4 [==============================] - 0s 40ms/step - loss: 0.2403 - accuracy: 0.8974 - val_loss: 0.1779 - val_accuracy: 1.0000\n",
      "Epoch 19/50\n",
      "4/4 [==============================] - 0s 42ms/step - loss: 0.2142 - accuracy: 0.9487 - val_loss: 0.2812 - val_accuracy: 0.8571\n",
      "Epoch 20/50\n",
      "4/4 [==============================] - 0s 45ms/step - loss: 0.2501 - accuracy: 0.9231 - val_loss: 0.3737 - val_accuracy: 0.8571\n",
      "Epoch 21/50\n",
      "4/4 [==============================] - 0s 42ms/step - loss: 0.2412 - accuracy: 0.8974 - val_loss: 0.1254 - val_accuracy: 1.0000\n",
      "Epoch 22/50\n",
      "4/4 [==============================] - 0s 45ms/step - loss: 0.2300 - accuracy: 0.8974 - val_loss: 0.2184 - val_accuracy: 1.0000\n",
      "Epoch 23/50\n",
      "4/4 [==============================] - 0s 40ms/step - loss: 0.1400 - accuracy: 0.9744 - val_loss: 0.1032 - val_accuracy: 1.0000\n",
      "Epoch 24/50\n",
      "4/4 [==============================] - 0s 43ms/step - loss: 0.3182 - accuracy: 0.8718 - val_loss: 0.2110 - val_accuracy: 0.8571\n",
      "Epoch 25/50\n",
      "4/4 [==============================] - 0s 41ms/step - loss: 0.1074 - accuracy: 0.9744 - val_loss: 0.0814 - val_accuracy: 1.0000\n",
      "Epoch 26/50\n",
      "4/4 [==============================] - 0s 42ms/step - loss: 0.1039 - accuracy: 0.9744 - val_loss: 0.3082 - val_accuracy: 0.8571\n",
      "Epoch 27/50\n",
      "4/4 [==============================] - 0s 41ms/step - loss: 0.0921 - accuracy: 0.9744 - val_loss: 0.0282 - val_accuracy: 1.0000\n",
      "Epoch 28/50\n",
      "4/4 [==============================] - 0s 45ms/step - loss: 0.1086 - accuracy: 0.9231 - val_loss: 0.3295 - val_accuracy: 0.7143\n",
      "Epoch 29/50\n",
      "4/4 [==============================] - 0s 43ms/step - loss: 0.0867 - accuracy: 1.0000 - val_loss: 0.1298 - val_accuracy: 1.0000\n",
      "Epoch 30/50\n",
      "4/4 [==============================] - 0s 42ms/step - loss: 0.0977 - accuracy: 0.9744 - val_loss: 0.1456 - val_accuracy: 0.8571\n",
      "Epoch 31/50\n",
      "4/4 [==============================] - 0s 41ms/step - loss: 0.0937 - accuracy: 1.0000 - val_loss: 0.2610 - val_accuracy: 0.8571\n",
      "Epoch 32/50\n",
      "4/4 [==============================] - 0s 41ms/step - loss: 0.3087 - accuracy: 0.8718 - val_loss: 0.0283 - val_accuracy: 1.0000\n",
      "Epoch 33/50\n",
      "4/4 [==============================] - 0s 41ms/step - loss: 0.1654 - accuracy: 0.8718 - val_loss: 0.2484 - val_accuracy: 0.8571\n",
      "Epoch 34/50\n",
      "4/4 [==============================] - 0s 41ms/step - loss: 0.0987 - accuracy: 0.9487 - val_loss: 0.2228 - val_accuracy: 0.8571\n",
      "Epoch 35/50\n",
      "4/4 [==============================] - 0s 40ms/step - loss: 0.0883 - accuracy: 0.9744 - val_loss: 0.2242 - val_accuracy: 0.8571\n",
      "Epoch 36/50\n",
      "4/4 [==============================] - 0s 45ms/step - loss: 0.0732 - accuracy: 0.9744 - val_loss: 0.0206 - val_accuracy: 1.0000\n",
      "Epoch 37/50\n",
      "4/4 [==============================] - 0s 40ms/step - loss: 0.1250 - accuracy: 0.9744 - val_loss: 0.1023 - val_accuracy: 1.0000\n",
      "Epoch 38/50\n",
      "4/4 [==============================] - 0s 40ms/step - loss: 0.0577 - accuracy: 1.0000 - val_loss: 0.0276 - val_accuracy: 1.0000\n",
      "Epoch 39/50\n",
      "4/4 [==============================] - 0s 39ms/step - loss: 0.1052 - accuracy: 0.9487 - val_loss: 0.2633 - val_accuracy: 0.8571\n",
      "Epoch 40/50\n",
      "4/4 [==============================] - 0s 43ms/step - loss: 0.0208 - accuracy: 1.0000 - val_loss: 0.0224 - val_accuracy: 1.0000\n",
      "Epoch 41/50\n",
      "4/4 [==============================] - 0s 42ms/step - loss: 0.0718 - accuracy: 0.9231 - val_loss: 0.1870 - val_accuracy: 0.8571\n",
      "Epoch 42/50\n",
      "4/4 [==============================] - 0s 41ms/step - loss: 0.0845 - accuracy: 0.9744 - val_loss: 0.0690 - val_accuracy: 1.0000\n",
      "Epoch 43/50\n",
      "4/4 [==============================] - 0s 42ms/step - loss: 0.0088 - accuracy: 1.0000 - val_loss: 0.0130 - val_accuracy: 1.0000\n",
      "Epoch 44/50\n",
      "4/4 [==============================] - 0s 41ms/step - loss: 0.0229 - accuracy: 1.0000 - val_loss: 0.0047 - val_accuracy: 1.0000\n",
      "Epoch 45/50\n",
      "4/4 [==============================] - 0s 43ms/step - loss: 0.0523 - accuracy: 0.9744 - val_loss: 0.1473 - val_accuracy: 0.8571\n",
      "Epoch 46/50\n",
      "4/4 [==============================] - 0s 40ms/step - loss: 0.0186 - accuracy: 1.0000 - val_loss: 0.0728 - val_accuracy: 1.0000\n",
      "Epoch 47/50\n",
      "4/4 [==============================] - 0s 41ms/step - loss: 0.0098 - accuracy: 1.0000 - val_loss: 0.0093 - val_accuracy: 1.0000\n",
      "Epoch 48/50\n",
      "4/4 [==============================] - 0s 44ms/step - loss: 0.0259 - accuracy: 1.0000 - val_loss: 0.0235 - val_accuracy: 1.0000\n",
      "Epoch 49/50\n",
      "4/4 [==============================] - 0s 41ms/step - loss: 0.1242 - accuracy: 0.9744 - val_loss: 0.0150 - val_accuracy: 1.0000\n",
      "Epoch 50/50\n",
      "4/4 [==============================] - 0s 47ms/step - loss: 0.2225 - accuracy: 0.9231 - val_loss: 0.7536 - val_accuracy: 0.7143\n"
     ]
    }
   ],
   "source": [
    "history = model.fit(x = training_set, validation_data = test_set, epochs = EPOCS)"
   ]
  },
  {
   "cell_type": "code",
   "execution_count": 10,
   "metadata": {},
   "outputs": [
    {
     "name": "stdout",
     "output_type": "stream",
     "text": [
      "1/1 - 0s - loss: 0.7178 - accuracy: 0.7143 - 45ms/epoch - 45ms/step\n"
     ]
    },
    {
     "name": "stderr",
     "output_type": "stream",
     "text": [
      "2023-05-17 01:03:55.000512: I tensorflow/core/common_runtime/executor.cc:1197] [/device:CPU:0] (DEBUG INFO) Executor start aborting (this does not indicate an error and you can ignore this message): INVALID_ARGUMENT: You must feed a value for placeholder tensor 'Placeholder/_0' with dtype int32\n",
      "\t [[{{node Placeholder/_0}}]]\n"
     ]
    },
    {
     "data": {
      "image/png": "[encoded data removed]",
      "text/plain": [
       "<Figure size 640x480 with 1 Axes>"
      ]
     },
     "metadata": {},
     "output_type": "display_data"
    }
   ],
   "source": [
    "plt.plot(history.history['accuracy'], label='accuracy')\n",
    "plt.plot(history.history['val_accuracy'], label = 'val_accuracy')\n",
    "plt.xlabel('Epoch')\n",
    "plt.ylabel('Accuracy')\n",
    "plt.ylim([0.5, 1])\n",
    "plt.legend(loc='lower right')\n",
    "\n",
    "test_loss, test_acc = model.evaluate(test_set, verbose=2)"
   ]
  },
  {
   "cell_type": "code",
   "execution_count": 11,
   "metadata": {},
   "outputs": [
    {
     "name": "stdout",
     "output_type": "stream",
     "text": [
      "0.7142857313156128\n"
     ]
    }
   ],
   "source": [
    "print(test_acc)"
   ]
  },
  {
   "cell_type": "markdown",
   "metadata": {},
   "source": [
    "# Saving the model"
   ]
  },
  {
   "cell_type": "code",
   "execution_count": 12,
   "metadata": {},
   "outputs": [
    {
     "name": "stderr",
     "output_type": "stream",
     "text": [
      "WARNING:absl:Found untraced functions such as _jit_compiled_convolution_op, _jit_compiled_convolution_op, _jit_compiled_convolution_op while saving (showing 3 of 3). These functions will not be directly callable after loading.\n"
     ]
    },
    {
     "name": "stdout",
     "output_type": "stream",
     "text": [
      "INFO:tensorflow:Assets written to: models/model_50_2023-05-17T01:04:00.236352/assets\n"
     ]
    },
    {
     "name": "stderr",
     "output_type": "stream",
     "text": [
      "INFO:tensorflow:Assets written to: models/model_50_2023-05-17T01:04:00.236352/assets\n"
     ]
    }
   ],
   "source": [
    "model.save(f'models/model_{EPOCS}_{datetime.now().isoformat()}')"
   ]
  },
  {
   "cell_type": "code",
   "execution_count": null,
   "metadata": {},
   "outputs": [],
   "source": []
  }
 ],
 "metadata": {
  "colab": {
   "collapsed_sections": [],
   "name": "Processador.ipynb",
   "provenance": []
  },
  "kernelspec": {
   "display_name": "Python 3 (ipykernel)",
   "language": "python",
   "name": "python3"
  },
  "language_info": {
   "codemirror_mode": {
    "name": "ipython",
    "version": 3
   },
   "file_extension": ".py",
   "mimetype": "text/x-python",
   "name": "python",
   "nbconvert_exporter": "python",
   "pygments_lexer": "ipython3",
   "version": "3.8.10"
  }
 },
 "nbformat": 4,
 "nbformat_minor": 4
}
