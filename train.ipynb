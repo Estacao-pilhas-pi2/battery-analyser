{
 "cells": [
  {
   "cell_type": "code",
   "execution_count": 1,
   "metadata": {},
   "outputs": [
    {
     "name": "stderr",
     "output_type": "stream",
     "text": [
      "2023-05-17 01:52:30.722938: I tensorflow/core/platform/cpu_feature_guard.cc:182] This TensorFlow binary is optimized to use available CPU instructions in performance-critical operations.\n",
      "To enable the following instructions: AVX2 FMA, in other operations, rebuild TensorFlow with the appropriate compiler flags.\n"
     ]
    }
   ],
   "source": [
    "from keras.preprocessing.image import ImageDataGenerator\n",
    "from keras.utils.np_utils import to_categorical \n",
    "from keras.layers import Conv2D, MaxPool2D, MaxPooling2D, Flatten, Dense, Dropout, LeakyReLU, RandomRotation\n",
    "from keras.models import Sequential\n",
    "from keras.preprocessing import image\n",
    "from keras.layers import BatchNormalization\n",
    "import numpy as np\n",
    "import matplotlib.pyplot as plt\n",
    "\n",
    "from datetime import datetime\n",
    "\n",
    "import tensorflow as tf"
   ]
  },
  {
   "cell_type": "code",
   "execution_count": 2,
   "metadata": {},
   "outputs": [
    {
     "name": "stdout",
     "output_type": "stream",
     "text": [
      "Num GPUs Available:  1\n"
     ]
    },
    {
     "name": "stderr",
     "output_type": "stream",
     "text": [
      "2023-05-17 01:52:32.135401: I tensorflow/compiler/xla/stream_executor/cuda/cuda_gpu_executor.cc:996] successful NUMA node read from SysFS had negative value (-1), but there must be at least one NUMA node, so returning NUMA node zero. See more at https://github.com/torvalds/linux/blob/v6.0/Documentation/ABI/testing/sysfs-bus-pci#L344-L355\n",
      "2023-05-17 01:52:32.139764: I tensorflow/compiler/xla/stream_executor/cuda/cuda_gpu_executor.cc:996] successful NUMA node read from SysFS had negative value (-1), but there must be at least one NUMA node, so returning NUMA node zero. See more at https://github.com/torvalds/linux/blob/v6.0/Documentation/ABI/testing/sysfs-bus-pci#L344-L355\n",
      "2023-05-17 01:52:32.140984: I tensorflow/compiler/xla/stream_executor/cuda/cuda_gpu_executor.cc:996] successful NUMA node read from SysFS had negative value (-1), but there must be at least one NUMA node, so returning NUMA node zero. See more at https://github.com/torvalds/linux/blob/v6.0/Documentation/ABI/testing/sysfs-bus-pci#L344-L355\n"
     ]
    }
   ],
   "source": [
    "print(\"Num GPUs Available: \", len(tf.config.list_physical_devices('GPU')))"
   ]
  },
  {
   "cell_type": "markdown",
   "metadata": {},
   "source": [
    "# Definitions"
   ]
  },
  {
   "cell_type": "code",
   "execution_count": 3,
   "metadata": {},
   "outputs": [],
   "source": [
    "WIDTH, HEIGHT = IMAGE_SIZE = (256, 256)\n",
    "DEPTH = 3\n",
    "DATASET_PATH = \"dataset\"\n",
    "EPOCS = 50"
   ]
  },
  {
   "cell_type": "markdown",
   "metadata": {
    "id": "NL7VXYyecFtH"
   },
   "source": [
    "# Data Preprocessing"
   ]
  },
  {
   "cell_type": "markdown",
   "metadata": {
    "id": "anu1oI8RcJfE"
   },
   "source": [
    "### Preprocessing the Training set"
   ]
  },
  {
   "cell_type": "code",
   "execution_count": 4,
   "metadata": {
    "id": "Ts-KG1fSX2wr"
   },
   "outputs": [
    {
     "name": "stdout",
     "output_type": "stream",
     "text": [
      "Found 81 images belonging to 5 classes.\n",
      "Found 18 images belonging to 5 classes.\n"
     ]
    }
   ],
   "source": [
    "training_datagen = ImageDataGenerator(rescale = 1./255,\n",
    "                                       shear_range = 0.2,\n",
    "                                       horizontal_flip = True,\n",
    "                                       vertical_flip = True,\n",
    "                                       width_shift_range = 0.2,\n",
    "                                       height_shift_range = 0.2,\n",
    "                                       rotation_range = 30,\n",
    "                                       validation_split = 0.2)\n",
    "\n",
    "training_set = training_datagen.flow_from_directory(DATASET_PATH,\n",
    "                                                     target_size=IMAGE_SIZE,\n",
    "                                                     batch_size=32,\n",
    "                                                     seed=11,\n",
    "                                                     class_mode = 'sparse',\n",
    "                                                     subset = \"training\")\n",
    "test_set = training_datagen.flow_from_directory(DATASET_PATH,\n",
    "                                                     target_size=IMAGE_SIZE,\n",
    "                                                     batch_size=32,\n",
    "                                                     seed=11,\n",
    "                                                     class_mode = 'sparse',\n",
    "                                                     subset = \"validation\")"
   ]
  },
  {
   "cell_type": "code",
   "execution_count": 5,
   "metadata": {},
   "outputs": [
    {
     "data": {
      "text/plain": [
       "{'9v': 0, 'AA': 1, 'AAA': 2, 'D': 3, 'Unknown': 4}"
      ]
     },
     "execution_count": 5,
     "metadata": {},
     "output_type": "execute_result"
    }
   ],
   "source": [
    "class_indices = training_set.class_indices\n",
    "num_classes = len(class_indices)\n",
    "train_labels = training_set.classes\n",
    "train_labels = to_categorical(train_labels, num_classes=len(class_indices))\n",
    "class_indices"
   ]
  },
  {
   "cell_type": "markdown",
   "metadata": {
    "id": "UeHB9v3mdKXd"
   },
   "source": [
    "# Building the CNN\n"
   ]
  },
  {
   "cell_type": "code",
   "execution_count": 6,
   "metadata": {
    "id": "MSNdJrKDdknx"
   },
   "outputs": [
    {
     "name": "stderr",
     "output_type": "stream",
     "text": [
      "2023-05-17 01:52:32.231387: I tensorflow/compiler/xla/stream_executor/cuda/cuda_gpu_executor.cc:996] successful NUMA node read from SysFS had negative value (-1), but there must be at least one NUMA node, so returning NUMA node zero. See more at https://github.com/torvalds/linux/blob/v6.0/Documentation/ABI/testing/sysfs-bus-pci#L344-L355\n",
      "2023-05-17 01:52:32.236333: I tensorflow/compiler/xla/stream_executor/cuda/cuda_gpu_executor.cc:996] successful NUMA node read from SysFS had negative value (-1), but there must be at least one NUMA node, so returning NUMA node zero. See more at https://github.com/torvalds/linux/blob/v6.0/Documentation/ABI/testing/sysfs-bus-pci#L344-L355\n",
      "2023-05-17 01:52:32.237668: I tensorflow/compiler/xla/stream_executor/cuda/cuda_gpu_executor.cc:996] successful NUMA node read from SysFS had negative value (-1), but there must be at least one NUMA node, so returning NUMA node zero. See more at https://github.com/torvalds/linux/blob/v6.0/Documentation/ABI/testing/sysfs-bus-pci#L344-L355\n",
      "2023-05-17 01:52:32.744520: I tensorflow/compiler/xla/stream_executor/cuda/cuda_gpu_executor.cc:996] successful NUMA node read from SysFS had negative value (-1), but there must be at least one NUMA node, so returning NUMA node zero. See more at https://github.com/torvalds/linux/blob/v6.0/Documentation/ABI/testing/sysfs-bus-pci#L344-L355\n",
      "2023-05-17 01:52:32.746494: I tensorflow/compiler/xla/stream_executor/cuda/cuda_gpu_executor.cc:996] successful NUMA node read from SysFS had negative value (-1), but there must be at least one NUMA node, so returning NUMA node zero. See more at https://github.com/torvalds/linux/blob/v6.0/Documentation/ABI/testing/sysfs-bus-pci#L344-L355\n",
      "2023-05-17 01:52:32.748749: I tensorflow/compiler/xla/stream_executor/cuda/cuda_gpu_executor.cc:996] successful NUMA node read from SysFS had negative value (-1), but there must be at least one NUMA node, so returning NUMA node zero. See more at https://github.com/torvalds/linux/blob/v6.0/Documentation/ABI/testing/sysfs-bus-pci#L344-L355\n",
      "2023-05-17 01:52:32.749965: I tensorflow/core/common_runtime/gpu/gpu_device.cc:1635] Created device /job:localhost/replica:0/task:0/device:GPU:0 with 5906 MB memory:  -> device: 0, name: NVIDIA GeForce RTX 2060 SUPER, pci bus id: 0000:01:00.0, compute capability: 7.5\n"
     ]
    }
   ],
   "source": [
    "model = Sequential()\n",
    "model.add(RandomRotation(0.1))\n",
    "model.add(Conv2D(32, (3, 3), activation='relu', input_shape=(HEIGHT, WIDTH, DEPTH)))\n",
    "model.add(MaxPooling2D((2, 2)))\n",
    "model.add(Conv2D(64, (3, 3), activation='relu'))\n",
    "model.add(MaxPooling2D((2, 2)))\n",
    "model.add(Conv2D(64, (3, 3), activation='relu'))\n",
    "\n",
    "model.add(Dropout(0.2))\n",
    "model.add(Flatten())\n",
    "model.add(Dense(64, activation='relu'))\n",
    "model.add(Dense(num_classes))"
   ]
  },
  {
   "cell_type": "code",
   "execution_count": 7,
   "metadata": {
    "id": "CGwuFI48axNp"
   },
   "outputs": [],
   "source": [
    "model.compile(optimizer='adam',\n",
    "              loss=tf.keras.losses.SparseCategoricalCrossentropy(from_logits=True),\n",
    "              metrics=['accuracy'])"
   ]
  },
  {
   "cell_type": "code",
   "execution_count": null,
   "metadata": {
    "id": "RCqqfwfhdtHU"
   },
   "outputs": [],
   "source": []
  },
  {
   "cell_type": "markdown",
   "metadata": {
    "id": "McXjHLJhdzPp"
   },
   "source": [
    "### Step 2- Adding a second convolutional layer"
   ]
  },
  {
   "cell_type": "code",
   "execution_count": 10,
   "metadata": {
    "id": "0wuF1e0laxP-"
   },
   "outputs": [],
   "source": []
  },
  {
   "cell_type": "markdown",
   "metadata": {
    "id": "0CJK0-3jd48v"
   },
   "source": [
    "### Step 3 - Flattening"
   ]
  },
  {
   "cell_type": "code",
   "execution_count": 11,
   "metadata": {
    "id": "LCjhqgTYaxSG"
   },
   "outputs": [],
   "source": []
  },
  {
   "cell_type": "markdown",
   "metadata": {
    "id": "UA4CDNRKd-yv"
   },
   "source": [
    "### Step 4 - Full Connection"
   ]
  },
  {
   "cell_type": "code",
   "execution_count": 12,
   "metadata": {
    "id": "OPEMU8DFd6Gg"
   },
   "outputs": [],
   "source": []
  },
  {
   "cell_type": "markdown",
   "metadata": {
    "id": "oV3cb_PJeBNf"
   },
   "source": [
    "### Step 5 - Output Layer"
   ]
  },
  {
   "cell_type": "code",
   "execution_count": 13,
   "metadata": {
    "id": "60ukuOQ1eAJn"
   },
   "outputs": [],
   "source": []
  },
  {
   "cell_type": "markdown",
   "metadata": {
    "id": "BaB4EIsgedCH"
   },
   "source": [
    "# Part 3 - Training the CNN"
   ]
  },
  {
   "cell_type": "markdown",
   "metadata": {
    "id": "sAZJMiJ0ejRt"
   },
   "source": [
    "### Compiling the CNN"
   ]
  },
  {
   "cell_type": "markdown",
   "metadata": {
    "id": "BmAbjcN9ekDe"
   },
   "source": [
    "### Training the CNN on the Training set and evaluating it on the Test set"
   ]
  },
  {
   "cell_type": "code",
   "execution_count": 8,
   "metadata": {
    "id": "GIINmpWVa7WM"
   },
   "outputs": [
    {
     "name": "stderr",
     "output_type": "stream",
     "text": [
      "2023-05-17 01:52:36.578565: I tensorflow/compiler/xla/stream_executor/cuda/cuda_dnn.cc:424] Loaded cuDNN version 8600\n"
     ]
    },
    {
     "name": "stdout",
     "output_type": "stream",
     "text": [
      "Epoch 1/50\n"
     ]
    },
    {
     "name": "stderr",
     "output_type": "stream",
     "text": [
      "2023-05-17 01:52:37.302933: I tensorflow/core/common_runtime/executor.cc:1197] [/device:CPU:0] (DEBUG INFO) Executor start aborting (this does not indicate an error and you can ignore this message): INVALID_ARGUMENT: You must feed a value for placeholder tensor 'Placeholder/_0' with dtype int32\n",
      "\t [[{{node Placeholder/_0}}]]\n",
      "2023-05-17 01:52:37.811300: E tensorflow/core/grappler/optimizers/meta_optimizer.cc:954] layout failed: INVALID_ARGUMENT: Size of values 0 does not match size of permutation 4 @ fanin shape insequential/dropout/dropout/SelectV2-2-TransposeNHWCToNCHW-LayoutOptimizer\n",
      "2023-05-17 01:52:38.454953: I tensorflow/compiler/xla/service/service.cc:169] XLA service 0x33997200 initialized for platform CUDA (this does not guarantee that XLA will be used). Devices:\n",
      "2023-05-17 01:52:38.454982: I tensorflow/compiler/xla/service/service.cc:177]   StreamExecutor device (0): NVIDIA GeForce RTX 2060 SUPER, Compute Capability 7.5\n",
      "2023-05-17 01:52:38.459923: I tensorflow/compiler/mlir/tensorflow/utils/dump_mlir_util.cc:269] disabling MLIR crash reproducer, set env var `MLIR_CRASH_REPRODUCER_DIRECTORY` to enable.\n",
      "2023-05-17 01:52:38.556190: I ./tensorflow/compiler/jit/device_compiler.h:180] Compiled cluster using XLA!  This line is logged at most once for the lifetime of the process.\n"
     ]
    },
    {
     "name": "stdout",
     "output_type": "stream",
     "text": [
      "3/3 [==============================] - ETA: 0s - loss: 4.0056 - accuracy: 0.2840"
     ]
    },
    {
     "name": "stderr",
     "output_type": "stream",
     "text": [
      "2023-05-17 01:52:40.796602: I tensorflow/core/common_runtime/executor.cc:1197] [/device:CPU:0] (DEBUG INFO) Executor start aborting (this does not indicate an error and you can ignore this message): INVALID_ARGUMENT: You must feed a value for placeholder tensor 'Placeholder/_0' with dtype int32\n",
      "\t [[{{node Placeholder/_0}}]]\n"
     ]
    },
    {
     "name": "stdout",
     "output_type": "stream",
     "text": [
      "3/3 [==============================] - 4s 656ms/step - loss: 4.0056 - accuracy: 0.2840 - val_loss: 1.7139 - val_accuracy: 0.3889\n",
      "Epoch 2/50\n",
      "3/3 [==============================] - 1s 358ms/step - loss: 1.5664 - accuracy: 0.3580 - val_loss: 1.5237 - val_accuracy: 0.2778\n",
      "Epoch 3/50\n",
      "3/3 [==============================] - 1s 285ms/step - loss: 1.4851 - accuracy: 0.2840 - val_loss: 1.4163 - val_accuracy: 0.2222\n",
      "Epoch 4/50\n",
      "3/3 [==============================] - 1s 343ms/step - loss: 1.3615 - accuracy: 0.3086 - val_loss: 1.2523 - val_accuracy: 0.5000\n",
      "Epoch 5/50\n",
      "3/3 [==============================] - 1s 356ms/step - loss: 1.3020 - accuracy: 0.3210 - val_loss: 1.1442 - val_accuracy: 0.3889\n",
      "Epoch 6/50\n",
      "3/3 [==============================] - 1s 276ms/step - loss: 1.0159 - accuracy: 0.5556 - val_loss: 0.7595 - val_accuracy: 0.7778\n",
      "Epoch 7/50\n",
      "3/3 [==============================] - 1s 344ms/step - loss: 0.8635 - accuracy: 0.6420 - val_loss: 0.8534 - val_accuracy: 0.6111\n",
      "Epoch 8/50\n",
      "3/3 [==============================] - 1s 257ms/step - loss: 0.8905 - accuracy: 0.6049 - val_loss: 0.8889 - val_accuracy: 0.6111\n",
      "Epoch 9/50\n",
      "3/3 [==============================] - 1s 360ms/step - loss: 0.8253 - accuracy: 0.6543 - val_loss: 0.5314 - val_accuracy: 0.8333\n",
      "Epoch 10/50\n",
      "3/3 [==============================] - 1s 334ms/step - loss: 0.8581 - accuracy: 0.6049 - val_loss: 0.8446 - val_accuracy: 0.6667\n",
      "Epoch 11/50\n",
      "3/3 [==============================] - 1s 337ms/step - loss: 0.8417 - accuracy: 0.6790 - val_loss: 0.6098 - val_accuracy: 0.8889\n",
      "Epoch 12/50\n",
      "3/3 [==============================] - 1s 266ms/step - loss: 0.6902 - accuracy: 0.7778 - val_loss: 0.6665 - val_accuracy: 0.7778\n",
      "Epoch 13/50\n",
      "3/3 [==============================] - 1s 265ms/step - loss: 0.6941 - accuracy: 0.7160 - val_loss: 0.7574 - val_accuracy: 0.6111\n",
      "Epoch 14/50\n",
      "3/3 [==============================] - 1s 360ms/step - loss: 0.6764 - accuracy: 0.7407 - val_loss: 0.4860 - val_accuracy: 0.7778\n",
      "Epoch 15/50\n",
      "3/3 [==============================] - 1s 350ms/step - loss: 0.8739 - accuracy: 0.6296 - val_loss: 0.7933 - val_accuracy: 0.6111\n",
      "Epoch 16/50\n",
      "3/3 [==============================] - 1s 288ms/step - loss: 0.6828 - accuracy: 0.7284 - val_loss: 0.5056 - val_accuracy: 0.8333\n",
      "Epoch 17/50\n",
      "3/3 [==============================] - 1s 348ms/step - loss: 0.7890 - accuracy: 0.6543 - val_loss: 0.4528 - val_accuracy: 0.8333\n",
      "Epoch 18/50\n",
      "3/3 [==============================] - 1s 351ms/step - loss: 0.6444 - accuracy: 0.7654 - val_loss: 0.7001 - val_accuracy: 0.7778\n",
      "Epoch 19/50\n",
      "3/3 [==============================] - 1s 345ms/step - loss: 0.7093 - accuracy: 0.7531 - val_loss: 0.8478 - val_accuracy: 0.5000\n",
      "Epoch 20/50\n",
      "3/3 [==============================] - 1s 275ms/step - loss: 0.6132 - accuracy: 0.6790 - val_loss: 0.5035 - val_accuracy: 0.7778\n",
      "Epoch 21/50\n",
      "3/3 [==============================] - 1s 243ms/step - loss: 0.4553 - accuracy: 0.8272 - val_loss: 0.4409 - val_accuracy: 0.9444\n",
      "Epoch 22/50\n",
      "3/3 [==============================] - 1s 280ms/step - loss: 0.5666 - accuracy: 0.7901 - val_loss: 0.2565 - val_accuracy: 0.8889\n",
      "Epoch 23/50\n",
      "3/3 [==============================] - 1s 268ms/step - loss: 0.4671 - accuracy: 0.8148 - val_loss: 0.2919 - val_accuracy: 0.9444\n",
      "Epoch 24/50\n",
      "3/3 [==============================] - 1s 350ms/step - loss: 0.5212 - accuracy: 0.8148 - val_loss: 0.3313 - val_accuracy: 0.8889\n",
      "Epoch 25/50\n",
      "3/3 [==============================] - 1s 338ms/step - loss: 0.4191 - accuracy: 0.8272 - val_loss: 0.5061 - val_accuracy: 0.9444\n",
      "Epoch 26/50\n",
      "3/3 [==============================] - 1s 254ms/step - loss: 0.3197 - accuracy: 0.8889 - val_loss: 0.2642 - val_accuracy: 0.9444\n",
      "Epoch 27/50\n",
      "3/3 [==============================] - 1s 256ms/step - loss: 0.3178 - accuracy: 0.8519 - val_loss: 0.4818 - val_accuracy: 0.8333\n",
      "Epoch 28/50\n",
      "3/3 [==============================] - 1s 341ms/step - loss: 0.3983 - accuracy: 0.8765 - val_loss: 0.3565 - val_accuracy: 0.8333\n",
      "Epoch 29/50\n",
      "3/3 [==============================] - 1s 267ms/step - loss: 0.2971 - accuracy: 0.8765 - val_loss: 0.1551 - val_accuracy: 0.9444\n",
      "Epoch 30/50\n",
      "3/3 [==============================] - 1s 339ms/step - loss: 0.2032 - accuracy: 0.9259 - val_loss: 0.4146 - val_accuracy: 0.8889\n",
      "Epoch 31/50\n",
      "3/3 [==============================] - 1s 266ms/step - loss: 0.2842 - accuracy: 0.9259 - val_loss: 0.1505 - val_accuracy: 0.9444\n",
      "Epoch 32/50\n",
      "3/3 [==============================] - 1s 340ms/step - loss: 0.2236 - accuracy: 0.9506 - val_loss: 0.4853 - val_accuracy: 0.8333\n",
      "Epoch 33/50\n",
      "3/3 [==============================] - 1s 259ms/step - loss: 0.2564 - accuracy: 0.9136 - val_loss: 0.1993 - val_accuracy: 0.9444\n",
      "Epoch 34/50\n",
      "3/3 [==============================] - 1s 269ms/step - loss: 0.2328 - accuracy: 0.9259 - val_loss: 0.2977 - val_accuracy: 0.8889\n",
      "Epoch 35/50\n",
      "3/3 [==============================] - 1s 258ms/step - loss: 0.2473 - accuracy: 0.9630 - val_loss: 0.1689 - val_accuracy: 0.9444\n",
      "Epoch 36/50\n",
      "3/3 [==============================] - 1s 338ms/step - loss: 0.1742 - accuracy: 0.9383 - val_loss: 0.5363 - val_accuracy: 0.8333\n",
      "Epoch 37/50\n",
      "3/3 [==============================] - 1s 290ms/step - loss: 0.2787 - accuracy: 0.9259 - val_loss: 0.1740 - val_accuracy: 0.9444\n",
      "Epoch 38/50\n",
      "3/3 [==============================] - 1s 347ms/step - loss: 0.1020 - accuracy: 0.9877 - val_loss: 0.4972 - val_accuracy: 0.8333\n",
      "Epoch 39/50\n",
      "3/3 [==============================] - 1s 348ms/step - loss: 0.1792 - accuracy: 0.9136 - val_loss: 0.1242 - val_accuracy: 0.9444\n",
      "Epoch 40/50\n",
      "3/3 [==============================] - 1s 356ms/step - loss: 0.1175 - accuracy: 0.9753 - val_loss: 0.1457 - val_accuracy: 0.9444\n",
      "Epoch 41/50\n",
      "3/3 [==============================] - 1s 346ms/step - loss: 0.2077 - accuracy: 0.9383 - val_loss: 0.2653 - val_accuracy: 0.9444\n",
      "Epoch 42/50\n",
      "3/3 [==============================] - 1s 337ms/step - loss: 0.1217 - accuracy: 0.9877 - val_loss: 0.1110 - val_accuracy: 0.9444\n",
      "Epoch 43/50\n",
      "3/3 [==============================] - 1s 343ms/step - loss: 0.2741 - accuracy: 0.9630 - val_loss: 0.1282 - val_accuracy: 0.9444\n",
      "Epoch 44/50\n",
      "3/3 [==============================] - 1s 254ms/step - loss: 0.1180 - accuracy: 0.9630 - val_loss: 0.2838 - val_accuracy: 0.8889\n",
      "Epoch 45/50\n",
      "3/3 [==============================] - 1s 343ms/step - loss: 0.1461 - accuracy: 0.9506 - val_loss: 0.0870 - val_accuracy: 0.9444\n",
      "Epoch 46/50\n",
      "3/3 [==============================] - 1s 341ms/step - loss: 0.1197 - accuracy: 0.9383 - val_loss: 0.5203 - val_accuracy: 0.7778\n",
      "Epoch 47/50\n",
      "3/3 [==============================] - 1s 259ms/step - loss: 0.1327 - accuracy: 0.9753 - val_loss: 0.2344 - val_accuracy: 0.8889\n",
      "Epoch 48/50\n",
      "3/3 [==============================] - 1s 343ms/step - loss: 0.2048 - accuracy: 0.9136 - val_loss: 0.2734 - val_accuracy: 0.8889\n",
      "Epoch 49/50\n",
      "3/3 [==============================] - 1s 275ms/step - loss: 0.2213 - accuracy: 0.9136 - val_loss: 0.2046 - val_accuracy: 0.9444\n",
      "Epoch 50/50\n",
      "3/3 [==============================] - 1s 264ms/step - loss: 0.2949 - accuracy: 0.9259 - val_loss: 0.2194 - val_accuracy: 0.8889\n"
     ]
    }
   ],
   "source": [
    "history = model.fit(x = training_set, validation_data = test_set, epochs = EPOCS)"
   ]
  },
  {
   "cell_type": "code",
   "execution_count": 9,
   "metadata": {},
   "outputs": [
    {
     "name": "stdout",
     "output_type": "stream",
     "text": [
      "1/1 - 0s - loss: 0.1101 - accuracy: 0.8889 - 163ms/epoch - 163ms/step\n"
     ]
    },
    {
     "name": "stderr",
     "output_type": "stream",
     "text": [
      "2023-05-17 01:53:24.022687: I tensorflow/core/common_runtime/executor.cc:1197] [/device:CPU:0] (DEBUG INFO) Executor start aborting (this does not indicate an error and you can ignore this message): INVALID_ARGUMENT: You must feed a value for placeholder tensor 'Placeholder/_0' with dtype int32\n",
      "\t [[{{node Placeholder/_0}}]]\n"
     ]
    },
    {
     "data": {
      "image/png": "[encoded data removed]",
      "text/plain": [
       "<Figure size 640x480 with 1 Axes>"
      ]
     },
     "metadata": {},
     "output_type": "display_data"
    }
   ],
   "source": [
    "plt.plot(history.history['accuracy'], label='accuracy')\n",
    "plt.plot(history.history['val_accuracy'], label = 'val_accuracy')\n",
    "plt.xlabel('Epoch')\n",
    "plt.ylabel('Accuracy')\n",
    "plt.ylim([0.5, 1])\n",
    "plt.legend(loc='lower right')\n",
    "\n",
    "test_loss, test_acc = model.evaluate(test_set, verbose=2)"
   ]
  },
  {
   "cell_type": "code",
   "execution_count": 10,
   "metadata": {},
   "outputs": [
    {
     "name": "stdout",
     "output_type": "stream",
     "text": [
      "0.8888888955116272\n"
     ]
    }
   ],
   "source": [
    "print(test_acc)"
   ]
  },
  {
   "cell_type": "markdown",
   "metadata": {},
   "source": [
    "# Saving the model"
   ]
  },
  {
   "cell_type": "code",
   "execution_count": 11,
   "metadata": {},
   "outputs": [
    {
     "name": "stderr",
     "output_type": "stream",
     "text": [
      "2023-05-17 01:53:24.420104: I tensorflow/core/common_runtime/executor.cc:1197] [/device:CPU:0] (DEBUG INFO) Executor start aborting (this does not indicate an error and you can ignore this message): INVALID_ARGUMENT: You must feed a value for placeholder tensor 'random_rotation_input' with dtype float and shape [?,256,256,3]\n",
      "\t [[{{node random_rotation_input}}]]\n",
      "2023-05-17 01:53:24.474488: I tensorflow/core/common_runtime/executor.cc:1197] [/device:CPU:0] (DEBUG INFO) Executor start aborting (this does not indicate an error and you can ignore this message): INVALID_ARGUMENT: You must feed a value for placeholder tensor 'inputs' with dtype float and shape [?,256,256,3]\n",
      "\t [[{{node inputs}}]]\n",
      "2023-05-17 01:53:24.489085: I tensorflow/core/common_runtime/executor.cc:1197] [/device:CPU:0] (DEBUG INFO) Executor start aborting (this does not indicate an error and you can ignore this message): INVALID_ARGUMENT: You must feed a value for placeholder tensor 'random_rotation_input' with dtype float and shape [?,256,256,3]\n",
      "\t [[{{node random_rotation_input}}]]\n",
      "2023-05-17 01:53:24.514664: I tensorflow/core/common_runtime/executor.cc:1197] [/device:CPU:0] (DEBUG INFO) Executor start aborting (this does not indicate an error and you can ignore this message): INVALID_ARGUMENT: You must feed a value for placeholder tensor 'inputs' with dtype float and shape [?,256,256,3]\n",
      "\t [[{{node inputs}}]]\n",
      "2023-05-17 01:53:24.531741: I tensorflow/core/common_runtime/executor.cc:1197] [/device:CPU:0] (DEBUG INFO) Executor start aborting (this does not indicate an error and you can ignore this message): INVALID_ARGUMENT: You must feed a value for placeholder tensor 'inputs' with dtype float and shape [?,60,60,64]\n",
      "\t [[{{node inputs}}]]\n",
      "2023-05-17 01:53:24.553708: I tensorflow/core/common_runtime/executor.cc:1197] [/device:CPU:0] (DEBUG INFO) Executor start aborting (this does not indicate an error and you can ignore this message): INVALID_ARGUMENT: You must feed a value for placeholder tensor 'inputs' with dtype float and shape [?,256,256,3]\n",
      "\t [[{{node inputs}}]]\n",
      "2023-05-17 01:53:24.624344: I tensorflow/core/common_runtime/executor.cc:1197] [/device:CPU:0] (DEBUG INFO) Executor start aborting (this does not indicate an error and you can ignore this message): INVALID_ARGUMENT: You must feed a value for placeholder tensor 'inputs' with dtype float and shape [?,256,256,3]\n",
      "\t [[{{node inputs}}]]\n",
      "2023-05-17 01:53:24.725991: I tensorflow/core/common_runtime/executor.cc:1197] [/device:CPU:0] (DEBUG INFO) Executor start aborting (this does not indicate an error and you can ignore this message): INVALID_ARGUMENT: You must feed a value for placeholder tensor 'inputs' with dtype float and shape [?,256,256,3]\n",
      "\t [[{{node inputs}}]]\n",
      "2023-05-17 01:53:24.805793: I tensorflow/core/common_runtime/executor.cc:1197] [/device:CPU:0] (DEBUG INFO) Executor start aborting (this does not indicate an error and you can ignore this message): INVALID_ARGUMENT: You must feed a value for placeholder tensor 'inputs' with dtype float and shape [?,60,60,64]\n",
      "\t [[{{node inputs}}]]\n",
      "WARNING:absl:Found untraced functions such as _jit_compiled_convolution_op, _jit_compiled_convolution_op, _jit_compiled_convolution_op while saving (showing 3 of 3). These functions will not be directly callable after loading.\n"
     ]
    },
    {
     "name": "stdout",
     "output_type": "stream",
     "text": [
      "INFO:tensorflow:Assets written to: models/model_w256_e50_2023-05-17T01:53:24.311230/assets\n"
     ]
    },
    {
     "name": "stderr",
     "output_type": "stream",
     "text": [
      "INFO:tensorflow:Assets written to: models/model_w256_e50_2023-05-17T01:53:24.311230/assets\n"
     ]
    }
   ],
   "source": [
    "model.save(f'models/model_w{WIDTH}_e{EPOCS}_{datetime.now().isoformat()}')"
   ]
  },
  {
   "cell_type": "code",
   "execution_count": null,
   "metadata": {},
   "outputs": [],
   "source": []
  }
 ],
 "metadata": {
  "colab": {
   "collapsed_sections": [],
   "name": "Processador.ipynb",
   "provenance": []
  },
  "kernelspec": {
   "display_name": "Python 3 (ipykernel)",
   "language": "python",
   "name": "python3"
  },
  "language_info": {
   "codemirror_mode": {
    "name": "ipython",
    "version": 3
   },
   "file_extension": ".py",
   "mimetype": "text/x-python",
   "name": "python",
   "nbconvert_exporter": "python",
   "pygments_lexer": "ipython3",
   "version": "3.8.10"
  }
 },
 "nbformat": 4,
 "nbformat_minor": 4
}
