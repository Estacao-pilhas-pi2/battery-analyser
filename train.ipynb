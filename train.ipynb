{
 "cells": [
  {
   "cell_type": "code",
   "execution_count": 1,
   "metadata": {},
   "outputs": [
    {
     "name": "stderr",
     "output_type": "stream",
     "text": [
      "2023-05-25 04:16:16.128316: I tensorflow/core/platform/cpu_feature_guard.cc:182] This TensorFlow binary is optimized to use available CPU instructions in performance-critical operations.\n",
      "To enable the following instructions: AVX2 FMA, in other operations, rebuild TensorFlow with the appropriate compiler flags.\n"
     ]
    }
   ],
   "source": [
    "from keras.preprocessing.image import ImageDataGenerator\n",
    "from keras.utils.np_utils import to_categorical \n",
    "from keras.layers import Conv2D, MaxPool2D, MaxPooling2D, Flatten, Dense, Dropout, LeakyReLU, RandomRotation\n",
    "from keras.models import Sequential\n",
    "from keras.preprocessing import image\n",
    "from keras.layers import BatchNormalization\n",
    "import numpy as np\n",
    "import matplotlib.pyplot as plt\n",
    "\n",
    "from datetime import datetime\n",
    "\n",
    "import tensorflow as tf"
   ]
  },
  {
   "cell_type": "code",
   "execution_count": 2,
   "metadata": {},
   "outputs": [
    {
     "name": "stdout",
     "output_type": "stream",
     "text": [
      "Num GPUs Available:  1\n"
     ]
    },
    {
     "name": "stderr",
     "output_type": "stream",
     "text": [
      "2023-05-25 04:16:17.906955: I tensorflow/compiler/xla/stream_executor/cuda/cuda_gpu_executor.cc:996] successful NUMA node read from SysFS had negative value (-1), but there must be at least one NUMA node, so returning NUMA node zero. See more at https://github.com/torvalds/linux/blob/v6.0/Documentation/ABI/testing/sysfs-bus-pci#L344-L355\n",
      "2023-05-25 04:16:17.911444: I tensorflow/compiler/xla/stream_executor/cuda/cuda_gpu_executor.cc:996] successful NUMA node read from SysFS had negative value (-1), but there must be at least one NUMA node, so returning NUMA node zero. See more at https://github.com/torvalds/linux/blob/v6.0/Documentation/ABI/testing/sysfs-bus-pci#L344-L355\n",
      "2023-05-25 04:16:17.912294: I tensorflow/compiler/xla/stream_executor/cuda/cuda_gpu_executor.cc:996] successful NUMA node read from SysFS had negative value (-1), but there must be at least one NUMA node, so returning NUMA node zero. See more at https://github.com/torvalds/linux/blob/v6.0/Documentation/ABI/testing/sysfs-bus-pci#L344-L355\n"
     ]
    }
   ],
   "source": [
    "print(\"Num GPUs Available: \", len(tf.config.list_physical_devices('GPU')))"
   ]
  },
  {
   "cell_type": "markdown",
   "metadata": {},
   "source": [
    "# Definitions"
   ]
  },
  {
   "cell_type": "code",
   "execution_count": 3,
   "metadata": {},
   "outputs": [],
   "source": [
    "WIDTH, HEIGHT = IMAGE_SIZE = (256, 256)\n",
    "DEPTH = 3\n",
    "DATASET_PATH = \"dataset\"\n",
    "EPOCS = 100"
   ]
  },
  {
   "cell_type": "markdown",
   "metadata": {
    "id": "NL7VXYyecFtH"
   },
   "source": [
    "# Data Preprocessing"
   ]
  },
  {
   "cell_type": "markdown",
   "metadata": {
    "id": "anu1oI8RcJfE"
   },
   "source": [
    "### Preprocessing the Training set"
   ]
  },
  {
   "cell_type": "code",
   "execution_count": 4,
   "metadata": {
    "id": "Ts-KG1fSX2wr"
   },
   "outputs": [
    {
     "name": "stdout",
     "output_type": "stream",
     "text": [
      "Found 81 images belonging to 5 classes.\n",
      "Found 18 images belonging to 5 classes.\n"
     ]
    }
   ],
   "source": [
    "training_datagen = ImageDataGenerator(rescale = 1./255,\n",
    "                                       shear_range = 0.2,\n",
    "                                       horizontal_flip = True,\n",
    "                                       vertical_flip = True,\n",
    "                                       width_shift_range = 0.2,\n",
    "                                       height_shift_range = 0.2,\n",
    "                                       rotation_range = 30,\n",
    "                                       validation_split = 0.2)\n",
    "\n",
    "training_set = training_datagen.flow_from_directory(DATASET_PATH,\n",
    "                                                     target_size=IMAGE_SIZE,\n",
    "                                                     batch_size=32,\n",
    "                                                     seed=11,\n",
    "                                                     class_mode = 'sparse',\n",
    "                                                     subset = \"training\")\n",
    "test_set = training_datagen.flow_from_directory(DATASET_PATH,\n",
    "                                                     target_size=IMAGE_SIZE,\n",
    "                                                     batch_size=32,\n",
    "                                                     seed=11,\n",
    "                                                     class_mode = 'sparse',\n",
    "                                                     subset = \"validation\")"
   ]
  },
  {
   "cell_type": "code",
   "execution_count": 5,
   "metadata": {},
   "outputs": [
    {
     "data": {
      "text/plain": [
       "{'9v': 0, 'AA': 1, 'AAA': 2, 'D': 3, 'Unknown': 4}"
      ]
     },
     "execution_count": 5,
     "metadata": {},
     "output_type": "execute_result"
    }
   ],
   "source": [
    "class_indices = training_set.class_indices\n",
    "num_classes = len(class_indices)\n",
    "train_labels = training_set.classes\n",
    "train_labels = to_categorical(train_labels, num_classes=len(class_indices))\n",
    "class_indices"
   ]
  },
  {
   "cell_type": "markdown",
   "metadata": {
    "id": "UeHB9v3mdKXd"
   },
   "source": [
    "# Building the CNN\n"
   ]
  },
  {
   "cell_type": "code",
   "execution_count": 6,
   "metadata": {
    "id": "MSNdJrKDdknx"
   },
   "outputs": [
    {
     "name": "stderr",
     "output_type": "stream",
     "text": [
      "2023-05-25 04:16:17.993433: I tensorflow/compiler/xla/stream_executor/cuda/cuda_gpu_executor.cc:996] successful NUMA node read from SysFS had negative value (-1), but there must be at least one NUMA node, so returning NUMA node zero. See more at https://github.com/torvalds/linux/blob/v6.0/Documentation/ABI/testing/sysfs-bus-pci#L344-L355\n",
      "2023-05-25 04:16:17.995852: I tensorflow/compiler/xla/stream_executor/cuda/cuda_gpu_executor.cc:996] successful NUMA node read from SysFS had negative value (-1), but there must be at least one NUMA node, so returning NUMA node zero. See more at https://github.com/torvalds/linux/blob/v6.0/Documentation/ABI/testing/sysfs-bus-pci#L344-L355\n",
      "2023-05-25 04:16:17.996701: I tensorflow/compiler/xla/stream_executor/cuda/cuda_gpu_executor.cc:996] successful NUMA node read from SysFS had negative value (-1), but there must be at least one NUMA node, so returning NUMA node zero. See more at https://github.com/torvalds/linux/blob/v6.0/Documentation/ABI/testing/sysfs-bus-pci#L344-L355\n",
      "2023-05-25 04:16:18.518768: I tensorflow/compiler/xla/stream_executor/cuda/cuda_gpu_executor.cc:996] successful NUMA node read from SysFS had negative value (-1), but there must be at least one NUMA node, so returning NUMA node zero. See more at https://github.com/torvalds/linux/blob/v6.0/Documentation/ABI/testing/sysfs-bus-pci#L344-L355\n",
      "2023-05-25 04:16:18.521629: I tensorflow/compiler/xla/stream_executor/cuda/cuda_gpu_executor.cc:996] successful NUMA node read from SysFS had negative value (-1), but there must be at least one NUMA node, so returning NUMA node zero. See more at https://github.com/torvalds/linux/blob/v6.0/Documentation/ABI/testing/sysfs-bus-pci#L344-L355\n",
      "2023-05-25 04:16:18.523474: I tensorflow/compiler/xla/stream_executor/cuda/cuda_gpu_executor.cc:996] successful NUMA node read from SysFS had negative value (-1), but there must be at least one NUMA node, so returning NUMA node zero. See more at https://github.com/torvalds/linux/blob/v6.0/Documentation/ABI/testing/sysfs-bus-pci#L344-L355\n",
      "2023-05-25 04:16:18.524282: I tensorflow/core/common_runtime/gpu/gpu_device.cc:1635] Created device /job:localhost/replica:0/task:0/device:GPU:0 with 5913 MB memory:  -> device: 0, name: NVIDIA GeForce RTX 2060 SUPER, pci bus id: 0000:01:00.0, compute capability: 7.5\n"
     ]
    }
   ],
   "source": [
    "model = Sequential()\n",
    "model.add(RandomRotation(0.1))\n",
    "model.add(Conv2D(32, (3, 3), activation='relu', input_shape=(HEIGHT, WIDTH, DEPTH)))\n",
    "model.add(MaxPooling2D((2, 2)))\n",
    "model.add(Conv2D(64, (3, 3), activation='relu'))\n",
    "model.add(MaxPooling2D((2, 2)))\n",
    "model.add(Conv2D(64, (3, 3), activation='relu'))\n",
    "\n",
    "model.add(Flatten())\n",
    "model.add(Dropout(0.2))\n",
    "model.add(Dense(64, activation='relu'))\n",
    "model.add(Dense(num_classes))"
   ]
  },
  {
   "cell_type": "code",
   "execution_count": 7,
   "metadata": {
    "id": "CGwuFI48axNp"
   },
   "outputs": [],
   "source": [
    "model.compile(optimizer='adam',\n",
    "              loss=tf.keras.losses.SparseCategoricalCrossentropy(from_logits=True),\n",
    "              metrics=['accuracy'])"
   ]
  },
  {
   "cell_type": "markdown",
   "metadata": {
    "id": "BaB4EIsgedCH"
   },
   "source": [
    "# Part 3 - Training the CNN"
   ]
  },
  {
   "cell_type": "markdown",
   "metadata": {
    "id": "sAZJMiJ0ejRt"
   },
   "source": [
    "### Compiling the CNN"
   ]
  },
  {
   "cell_type": "markdown",
   "metadata": {
    "id": "BmAbjcN9ekDe"
   },
   "source": [
    "### Training the CNN on the Training set and evaluating it on the Test set"
   ]
  },
  {
   "cell_type": "code",
   "execution_count": 8,
   "metadata": {
    "id": "GIINmpWVa7WM"
   },
   "outputs": [
    {
     "name": "stderr",
     "output_type": "stream",
     "text": [
      "2023-05-25 04:16:19.431456: I tensorflow/compiler/xla/stream_executor/cuda/cuda_dnn.cc:424] Loaded cuDNN version 8600\n"
     ]
    },
    {
     "name": "stdout",
     "output_type": "stream",
     "text": [
      "Epoch 1/100\n"
     ]
    },
    {
     "name": "stderr",
     "output_type": "stream",
     "text": [
      "2023-05-25 04:16:20.132528: I tensorflow/core/common_runtime/executor.cc:1197] [/device:CPU:0] (DEBUG INFO) Executor start aborting (this does not indicate an error and you can ignore this message): INVALID_ARGUMENT: You must feed a value for placeholder tensor 'Placeholder/_0' with dtype int32\n",
      "\t [[{{node Placeholder/_0}}]]\n",
      "2023-05-25 04:16:21.286771: I tensorflow/compiler/xla/service/service.cc:169] XLA service 0x3403e970 initialized for platform CUDA (this does not guarantee that XLA will be used). Devices:\n",
      "2023-05-25 04:16:21.286796: I tensorflow/compiler/xla/service/service.cc:177]   StreamExecutor device (0): NVIDIA GeForce RTX 2060 SUPER, Compute Capability 7.5\n",
      "2023-05-25 04:16:21.289810: I tensorflow/compiler/mlir/tensorflow/utils/dump_mlir_util.cc:269] disabling MLIR crash reproducer, set env var `MLIR_CRASH_REPRODUCER_DIRECTORY` to enable.\n",
      "2023-05-25 04:16:21.373336: I ./tensorflow/compiler/jit/device_compiler.h:180] Compiled cluster using XLA!  This line is logged at most once for the lifetime of the process.\n"
     ]
    },
    {
     "name": "stdout",
     "output_type": "stream",
     "text": [
      "2/3 [===================>..........] - ETA: 0s - loss: 3.3946 - accuracy: 0.1837"
     ]
    },
    {
     "name": "stderr",
     "output_type": "stream",
     "text": [
      "2023-05-25 04:16:23.527870: I tensorflow/core/common_runtime/executor.cc:1197] [/device:CPU:0] (DEBUG INFO) Executor start aborting (this does not indicate an error and you can ignore this message): INVALID_ARGUMENT: You must feed a value for placeholder tensor 'Placeholder/_0' with dtype int32\n",
      "\t [[{{node Placeholder/_0}}]]\n"
     ]
    },
    {
     "name": "stdout",
     "output_type": "stream",
     "text": [
      "3/3 [==============================] - 4s 612ms/step - loss: 3.1530 - accuracy: 0.2840 - val_loss: 1.8148 - val_accuracy: 0.3333\n",
      "Epoch 2/100\n",
      "3/3 [==============================] - 1s 263ms/step - loss: 1.6018 - accuracy: 0.2593 - val_loss: 1.4246 - val_accuracy: 0.1111\n",
      "Epoch 3/100\n",
      "3/3 [==============================] - 1s 340ms/step - loss: 1.4389 - accuracy: 0.3457 - val_loss: 1.2632 - val_accuracy: 0.3889\n",
      "Epoch 4/100\n",
      "3/3 [==============================] - 1s 332ms/step - loss: 1.3369 - accuracy: 0.3827 - val_loss: 1.0662 - val_accuracy: 0.3889\n",
      "Epoch 5/100\n",
      "3/3 [==============================] - 1s 333ms/step - loss: 1.2545 - accuracy: 0.4938 - val_loss: 1.0933 - val_accuracy: 0.4444\n",
      "Epoch 6/100\n",
      "3/3 [==============================] - 1s 337ms/step - loss: 1.1203 - accuracy: 0.4938 - val_loss: 0.9615 - val_accuracy: 0.4444\n",
      "Epoch 7/100\n",
      "3/3 [==============================] - 1s 340ms/step - loss: 1.0580 - accuracy: 0.5926 - val_loss: 0.9664 - val_accuracy: 0.7222\n",
      "Epoch 8/100\n",
      "3/3 [==============================] - 1s 326ms/step - loss: 1.0096 - accuracy: 0.6296 - val_loss: 0.7666 - val_accuracy: 0.5000\n",
      "Epoch 9/100\n",
      "3/3 [==============================] - 1s 271ms/step - loss: 0.9542 - accuracy: 0.6049 - val_loss: 0.7395 - val_accuracy: 0.6111\n",
      "Epoch 10/100\n",
      "3/3 [==============================] - 1s 332ms/step - loss: 0.9294 - accuracy: 0.5802 - val_loss: 0.6059 - val_accuracy: 0.7778\n",
      "Epoch 11/100\n",
      "3/3 [==============================] - 1s 336ms/step - loss: 0.7674 - accuracy: 0.7037 - val_loss: 0.6725 - val_accuracy: 0.7222\n",
      "Epoch 12/100\n",
      "3/3 [==============================] - 1s 328ms/step - loss: 0.6789 - accuracy: 0.7531 - val_loss: 0.5911 - val_accuracy: 0.7778\n",
      "Epoch 13/100\n",
      "3/3 [==============================] - 1s 329ms/step - loss: 0.7305 - accuracy: 0.6667 - val_loss: 0.4574 - val_accuracy: 0.8889\n",
      "Epoch 14/100\n",
      "3/3 [==============================] - 1s 264ms/step - loss: 0.5642 - accuracy: 0.7901 - val_loss: 0.4849 - val_accuracy: 0.7778\n",
      "Epoch 15/100\n",
      "3/3 [==============================] - 1s 269ms/step - loss: 0.7186 - accuracy: 0.6790 - val_loss: 0.3445 - val_accuracy: 0.8889\n",
      "Epoch 16/100\n",
      "3/3 [==============================] - 1s 264ms/step - loss: 0.4822 - accuracy: 0.8272 - val_loss: 0.4476 - val_accuracy: 0.8333\n",
      "Epoch 17/100\n",
      "3/3 [==============================] - 1s 273ms/step - loss: 0.4381 - accuracy: 0.8272 - val_loss: 0.4542 - val_accuracy: 0.8333\n",
      "Epoch 18/100\n",
      "3/3 [==============================] - 1s 267ms/step - loss: 0.4197 - accuracy: 0.8148 - val_loss: 0.4531 - val_accuracy: 0.8333\n",
      "Epoch 19/100\n",
      "3/3 [==============================] - 1s 265ms/step - loss: 0.4395 - accuracy: 0.8395 - val_loss: 0.5731 - val_accuracy: 0.8333\n",
      "Epoch 20/100\n",
      "3/3 [==============================] - 1s 286ms/step - loss: 0.4824 - accuracy: 0.8272 - val_loss: 0.1084 - val_accuracy: 1.0000\n",
      "Epoch 21/100\n",
      "3/3 [==============================] - 1s 291ms/step - loss: 0.3564 - accuracy: 0.8889 - val_loss: 0.5417 - val_accuracy: 0.8889\n",
      "Epoch 22/100\n",
      "3/3 [==============================] - 1s 268ms/step - loss: 0.4530 - accuracy: 0.7778 - val_loss: 0.3815 - val_accuracy: 0.8333\n",
      "Epoch 23/100\n",
      "3/3 [==============================] - 1s 349ms/step - loss: 0.5776 - accuracy: 0.7284 - val_loss: 0.3740 - val_accuracy: 0.8889\n",
      "Epoch 24/100\n",
      "3/3 [==============================] - 1s 332ms/step - loss: 0.4981 - accuracy: 0.7901 - val_loss: 0.2493 - val_accuracy: 0.8889\n",
      "Epoch 25/100\n",
      "3/3 [==============================] - 1s 264ms/step - loss: 0.5420 - accuracy: 0.8148 - val_loss: 0.3666 - val_accuracy: 0.8333\n",
      "Epoch 26/100\n",
      "3/3 [==============================] - 1s 281ms/step - loss: 0.4588 - accuracy: 0.8395 - val_loss: 0.4235 - val_accuracy: 0.8889\n",
      "Epoch 27/100\n",
      "3/3 [==============================] - 1s 354ms/step - loss: 0.3071 - accuracy: 0.8642 - val_loss: 0.1964 - val_accuracy: 0.9444\n",
      "Epoch 28/100\n",
      "3/3 [==============================] - 1s 274ms/step - loss: 0.3330 - accuracy: 0.8642 - val_loss: 0.2929 - val_accuracy: 0.9444\n",
      "Epoch 29/100\n",
      "3/3 [==============================] - 1s 290ms/step - loss: 0.3758 - accuracy: 0.8395 - val_loss: 0.3536 - val_accuracy: 0.8889\n",
      "Epoch 30/100\n",
      "3/3 [==============================] - 1s 335ms/step - loss: 0.3058 - accuracy: 0.9012 - val_loss: 0.3645 - val_accuracy: 0.8333\n",
      "Epoch 31/100\n",
      "3/3 [==============================] - 1s 332ms/step - loss: 0.4271 - accuracy: 0.8395 - val_loss: 0.3275 - val_accuracy: 0.8889\n",
      "Epoch 32/100\n",
      "3/3 [==============================] - 1s 260ms/step - loss: 0.2736 - accuracy: 0.9136 - val_loss: 0.3457 - val_accuracy: 0.8889\n",
      "Epoch 33/100\n",
      "3/3 [==============================] - 1s 334ms/step - loss: 0.2765 - accuracy: 0.8765 - val_loss: 0.2000 - val_accuracy: 0.9444\n",
      "Epoch 34/100\n",
      "3/3 [==============================] - 1s 335ms/step - loss: 0.3202 - accuracy: 0.9136 - val_loss: 0.2158 - val_accuracy: 0.9444\n",
      "Epoch 35/100\n",
      "3/3 [==============================] - 1s 335ms/step - loss: 0.3331 - accuracy: 0.8889 - val_loss: 0.4195 - val_accuracy: 0.9444\n",
      "Epoch 36/100\n",
      "3/3 [==============================] - 1s 337ms/step - loss: 0.2344 - accuracy: 0.9383 - val_loss: 0.1872 - val_accuracy: 0.9444\n",
      "Epoch 37/100\n",
      "3/3 [==============================] - 1s 335ms/step - loss: 0.2319 - accuracy: 0.9383 - val_loss: 0.1902 - val_accuracy: 0.8889\n",
      "Epoch 38/100\n",
      "3/3 [==============================] - 1s 261ms/step - loss: 0.1610 - accuracy: 0.9630 - val_loss: 0.5041 - val_accuracy: 0.8333\n",
      "Epoch 39/100\n",
      "3/3 [==============================] - 1s 259ms/step - loss: 0.1671 - accuracy: 0.9506 - val_loss: 0.1663 - val_accuracy: 0.8889\n",
      "Epoch 40/100\n",
      "3/3 [==============================] - 1s 269ms/step - loss: 0.1596 - accuracy: 0.9630 - val_loss: 0.2078 - val_accuracy: 0.8889\n",
      "Epoch 41/100\n",
      "3/3 [==============================] - 1s 274ms/step - loss: 0.1593 - accuracy: 0.9630 - val_loss: 0.1871 - val_accuracy: 0.9444\n",
      "Epoch 42/100\n",
      "3/3 [==============================] - 1s 327ms/step - loss: 0.1509 - accuracy: 0.9506 - val_loss: 0.0979 - val_accuracy: 0.9444\n",
      "Epoch 43/100\n",
      "3/3 [==============================] - 1s 269ms/step - loss: 0.0755 - accuracy: 0.9877 - val_loss: 0.1370 - val_accuracy: 0.9444\n",
      "Epoch 44/100\n",
      "3/3 [==============================] - 1s 258ms/step - loss: 0.0952 - accuracy: 0.9877 - val_loss: 0.2426 - val_accuracy: 0.9444\n",
      "Epoch 45/100\n",
      "3/3 [==============================] - 1s 258ms/step - loss: 0.0994 - accuracy: 0.9753 - val_loss: 0.1560 - val_accuracy: 0.9444\n",
      "Epoch 46/100\n",
      "3/3 [==============================] - 1s 342ms/step - loss: 0.0901 - accuracy: 0.9630 - val_loss: 0.1280 - val_accuracy: 0.9444\n",
      "Epoch 47/100\n",
      "3/3 [==============================] - 1s 348ms/step - loss: 0.1654 - accuracy: 0.9753 - val_loss: 0.0203 - val_accuracy: 1.0000\n",
      "Epoch 48/100\n",
      "3/3 [==============================] - 1s 263ms/step - loss: 0.1399 - accuracy: 0.9506 - val_loss: 0.6988 - val_accuracy: 0.7778\n",
      "Epoch 49/100\n",
      "3/3 [==============================] - 1s 272ms/step - loss: 0.1429 - accuracy: 0.9259 - val_loss: 0.2206 - val_accuracy: 0.8889\n",
      "Epoch 50/100\n",
      "3/3 [==============================] - 1s 334ms/step - loss: 0.2052 - accuracy: 0.9383 - val_loss: 0.4577 - val_accuracy: 0.9444\n",
      "Epoch 51/100\n",
      "3/3 [==============================] - 1s 342ms/step - loss: 0.1765 - accuracy: 0.9506 - val_loss: 0.1027 - val_accuracy: 0.9444\n",
      "Epoch 52/100\n",
      "3/3 [==============================] - 1s 261ms/step - loss: 0.1594 - accuracy: 0.9383 - val_loss: 0.0394 - val_accuracy: 1.0000\n",
      "Epoch 53/100\n",
      "3/3 [==============================] - 1s 276ms/step - loss: 0.0937 - accuracy: 0.9630 - val_loss: 0.3557 - val_accuracy: 0.8333\n",
      "Epoch 54/100\n",
      "3/3 [==============================] - 1s 271ms/step - loss: 0.1631 - accuracy: 0.9136 - val_loss: 0.0702 - val_accuracy: 0.9444\n",
      "Epoch 55/100\n",
      "3/3 [==============================] - 1s 338ms/step - loss: 0.2099 - accuracy: 0.9136 - val_loss: 0.0621 - val_accuracy: 0.9444\n",
      "Epoch 56/100\n",
      "3/3 [==============================] - 1s 262ms/step - loss: 0.2948 - accuracy: 0.9383 - val_loss: 0.4252 - val_accuracy: 0.9444\n",
      "Epoch 57/100\n",
      "3/3 [==============================] - 1s 261ms/step - loss: 0.1189 - accuracy: 0.9630 - val_loss: 0.2576 - val_accuracy: 0.8889\n",
      "Epoch 58/100\n",
      "3/3 [==============================] - 1s 259ms/step - loss: 0.1083 - accuracy: 0.9630 - val_loss: 0.3073 - val_accuracy: 0.8889\n"
     ]
    },
    {
     "name": "stdout",
     "output_type": "stream",
     "text": [
      "Epoch 59/100\n",
      "3/3 [==============================] - 1s 264ms/step - loss: 0.1686 - accuracy: 0.9383 - val_loss: 0.1987 - val_accuracy: 0.9444\n",
      "Epoch 60/100\n",
      "3/3 [==============================] - 1s 343ms/step - loss: 0.0822 - accuracy: 1.0000 - val_loss: 0.6674 - val_accuracy: 0.7778\n",
      "Epoch 61/100\n",
      "3/3 [==============================] - 1s 270ms/step - loss: 0.1309 - accuracy: 0.9630 - val_loss: 0.2929 - val_accuracy: 0.9444\n",
      "Epoch 62/100\n",
      "3/3 [==============================] - 1s 255ms/step - loss: 0.1214 - accuracy: 0.9630 - val_loss: 0.0566 - val_accuracy: 1.0000\n",
      "Epoch 63/100\n",
      "3/3 [==============================] - 1s 347ms/step - loss: 0.0745 - accuracy: 0.9877 - val_loss: 0.6479 - val_accuracy: 0.8889\n",
      "Epoch 64/100\n",
      "3/3 [==============================] - 1s 266ms/step - loss: 0.2666 - accuracy: 0.9383 - val_loss: 0.1673 - val_accuracy: 0.9444\n",
      "Epoch 65/100\n",
      "3/3 [==============================] - 1s 260ms/step - loss: 0.0767 - accuracy: 0.9877 - val_loss: 0.2262 - val_accuracy: 0.9444\n",
      "Epoch 66/100\n",
      "3/3 [==============================] - 1s 331ms/step - loss: 0.1713 - accuracy: 0.9259 - val_loss: 0.3686 - val_accuracy: 0.8889\n",
      "Epoch 67/100\n",
      "3/3 [==============================] - 1s 258ms/step - loss: 0.0690 - accuracy: 0.9753 - val_loss: 0.8378 - val_accuracy: 0.7222\n",
      "Epoch 68/100\n",
      "3/3 [==============================] - 1s 273ms/step - loss: 0.0911 - accuracy: 0.9630 - val_loss: 0.1472 - val_accuracy: 0.9444\n",
      "Epoch 69/100\n",
      "3/3 [==============================] - 1s 259ms/step - loss: 0.1041 - accuracy: 0.9630 - val_loss: 0.0720 - val_accuracy: 1.0000\n",
      "Epoch 70/100\n",
      "3/3 [==============================] - 1s 267ms/step - loss: 0.0881 - accuracy: 0.9630 - val_loss: 0.0510 - val_accuracy: 1.0000\n",
      "Epoch 71/100\n",
      "3/3 [==============================] - 1s 266ms/step - loss: 0.0300 - accuracy: 1.0000 - val_loss: 0.0973 - val_accuracy: 1.0000\n",
      "Epoch 72/100\n",
      "3/3 [==============================] - 1s 274ms/step - loss: 0.0747 - accuracy: 0.9753 - val_loss: 0.1118 - val_accuracy: 0.9444\n",
      "Epoch 73/100\n",
      "3/3 [==============================] - 1s 328ms/step - loss: 0.0611 - accuracy: 0.9877 - val_loss: 0.3804 - val_accuracy: 0.7778\n",
      "Epoch 74/100\n",
      "3/3 [==============================] - 1s 266ms/step - loss: 0.0563 - accuracy: 1.0000 - val_loss: 0.2480 - val_accuracy: 0.8333\n",
      "Epoch 75/100\n",
      "3/3 [==============================] - 1s 266ms/step - loss: 0.0330 - accuracy: 1.0000 - val_loss: 0.1153 - val_accuracy: 0.9444\n",
      "Epoch 76/100\n",
      "3/3 [==============================] - 1s 264ms/step - loss: 0.0604 - accuracy: 0.9753 - val_loss: 0.0944 - val_accuracy: 1.0000\n",
      "Epoch 77/100\n",
      "3/3 [==============================] - 1s 336ms/step - loss: 0.1149 - accuracy: 0.9506 - val_loss: 0.4176 - val_accuracy: 0.8333\n",
      "Epoch 78/100\n",
      "3/3 [==============================] - 1s 332ms/step - loss: 0.1179 - accuracy: 0.9753 - val_loss: 0.2974 - val_accuracy: 0.8333\n",
      "Epoch 79/100\n",
      "3/3 [==============================] - 1s 362ms/step - loss: 0.0438 - accuracy: 0.9877 - val_loss: 0.0345 - val_accuracy: 1.0000\n",
      "Epoch 80/100\n",
      "3/3 [==============================] - 1s 257ms/step - loss: 0.0382 - accuracy: 0.9877 - val_loss: 0.0955 - val_accuracy: 0.9444\n",
      "Epoch 81/100\n",
      "3/3 [==============================] - 1s 342ms/step - loss: 0.0899 - accuracy: 0.9877 - val_loss: 0.1590 - val_accuracy: 0.9444\n",
      "Epoch 82/100\n",
      "3/3 [==============================] - 1s 355ms/step - loss: 0.1357 - accuracy: 0.9877 - val_loss: 0.4411 - val_accuracy: 0.8889\n",
      "Epoch 83/100\n",
      "3/3 [==============================] - 1s 265ms/step - loss: 0.0424 - accuracy: 0.9877 - val_loss: 0.0345 - val_accuracy: 1.0000\n",
      "Epoch 84/100\n",
      "3/3 [==============================] - 1s 266ms/step - loss: 0.0731 - accuracy: 0.9753 - val_loss: 0.0836 - val_accuracy: 0.9444\n",
      "Epoch 85/100\n",
      "3/3 [==============================] - 1s 348ms/step - loss: 0.0229 - accuracy: 1.0000 - val_loss: 0.1873 - val_accuracy: 0.9444\n",
      "Epoch 86/100\n",
      "3/3 [==============================] - 1s 333ms/step - loss: 0.0841 - accuracy: 0.9877 - val_loss: 0.1863 - val_accuracy: 0.8889\n",
      "Epoch 87/100\n",
      "3/3 [==============================] - 1s 272ms/step - loss: 0.0379 - accuracy: 0.9877 - val_loss: 0.1263 - val_accuracy: 0.9444\n",
      "Epoch 88/100\n",
      "3/3 [==============================] - 1s 262ms/step - loss: 0.0520 - accuracy: 0.9877 - val_loss: 0.2282 - val_accuracy: 0.9444\n",
      "Epoch 89/100\n",
      "3/3 [==============================] - 1s 342ms/step - loss: 0.0490 - accuracy: 0.9630 - val_loss: 0.2053 - val_accuracy: 0.9444\n",
      "Epoch 90/100\n",
      "3/3 [==============================] - 1s 340ms/step - loss: 0.0277 - accuracy: 0.9877 - val_loss: 0.1074 - val_accuracy: 0.9444\n",
      "Epoch 91/100\n",
      "3/3 [==============================] - 1s 344ms/step - loss: 0.0563 - accuracy: 0.9753 - val_loss: 0.3345 - val_accuracy: 0.8333\n",
      "Epoch 92/100\n",
      "3/3 [==============================] - 1s 289ms/step - loss: 0.0689 - accuracy: 0.9877 - val_loss: 0.2548 - val_accuracy: 0.8889\n",
      "Epoch 93/100\n",
      "3/3 [==============================] - 1s 323ms/step - loss: 0.0379 - accuracy: 1.0000 - val_loss: 0.2162 - val_accuracy: 0.9444\n",
      "Epoch 94/100\n",
      "3/3 [==============================] - 1s 280ms/step - loss: 0.0232 - accuracy: 1.0000 - val_loss: 0.3091 - val_accuracy: 0.8333\n",
      "Epoch 95/100\n",
      "3/3 [==============================] - 1s 265ms/step - loss: 0.0889 - accuracy: 0.9877 - val_loss: 0.1971 - val_accuracy: 0.9444\n",
      "Epoch 96/100\n",
      "3/3 [==============================] - 1s 334ms/step - loss: 0.0268 - accuracy: 0.9877 - val_loss: 0.4070 - val_accuracy: 0.7778\n",
      "Epoch 97/100\n",
      "3/3 [==============================] - 1s 325ms/step - loss: 0.0485 - accuracy: 0.9877 - val_loss: 0.0903 - val_accuracy: 0.9444\n",
      "Epoch 98/100\n",
      "3/3 [==============================] - 1s 265ms/step - loss: 0.1221 - accuracy: 0.9506 - val_loss: 0.1657 - val_accuracy: 0.9444\n",
      "Epoch 99/100\n",
      "3/3 [==============================] - 1s 267ms/step - loss: 0.0724 - accuracy: 0.9877 - val_loss: 0.4438 - val_accuracy: 0.7778\n",
      "Epoch 100/100\n",
      "3/3 [==============================] - 1s 337ms/step - loss: 0.0763 - accuracy: 0.9877 - val_loss: 0.0676 - val_accuracy: 1.0000\n"
     ]
    }
   ],
   "source": [
    "history = model.fit(x = training_set, validation_data = test_set, epochs = EPOCS)"
   ]
  },
  {
   "cell_type": "code",
   "execution_count": 9,
   "metadata": {},
   "outputs": [
    {
     "name": "stdout",
     "output_type": "stream",
     "text": [
      "1/1 - 0s - loss: 0.2132 - accuracy: 0.8889 - 166ms/epoch - 166ms/step\n"
     ]
    },
    {
     "name": "stderr",
     "output_type": "stream",
     "text": [
      "2023-05-25 04:17:47.322085: I tensorflow/core/common_runtime/executor.cc:1197] [/device:CPU:0] (DEBUG INFO) Executor start aborting (this does not indicate an error and you can ignore this message): INVALID_ARGUMENT: You must feed a value for placeholder tensor 'Placeholder/_0' with dtype int32\n",
      "\t [[{{node Placeholder/_0}}]]\n"
     ]
    },
    {
     "data": {
      "image/png": "[encoded data removed]",
      "text/plain": [
       "<Figure size 640x480 with 1 Axes>"
      ]
     },
     "metadata": {},
     "output_type": "display_data"
    }
   ],
   "source": [
    "plt.plot(history.history['accuracy'], label='accuracy')\n",
    "plt.plot(history.history['val_accuracy'], label = 'val_accuracy')\n",
    "plt.xlabel('Epoch')\n",
    "plt.ylabel('Accuracy')\n",
    "plt.ylim([0.5, 1])\n",
    "plt.legend(loc='lower right')\n",
    "\n",
    "test_loss, test_acc = model.evaluate(test_set, verbose=2)"
   ]
  },
  {
   "cell_type": "code",
   "execution_count": 10,
   "metadata": {},
   "outputs": [
    {
     "name": "stdout",
     "output_type": "stream",
     "text": [
      "0.8888888955116272\n"
     ]
    }
   ],
   "source": [
    "print(test_acc)"
   ]
  },
  {
   "cell_type": "markdown",
   "metadata": {},
   "source": [
    "# Saving the model"
   ]
  },
  {
   "cell_type": "code",
   "execution_count": 12,
   "metadata": {},
   "outputs": [
    {
     "name": "stderr",
     "output_type": "stream",
     "text": [
      "2023-05-25 04:17:48.621483: I tensorflow/core/common_runtime/executor.cc:1197] [/device:CPU:0] (DEBUG INFO) Executor start aborting (this does not indicate an error and you can ignore this message): INVALID_ARGUMENT: You must feed a value for placeholder tensor 'random_rotation_input' with dtype float and shape [?,256,256,3]\n",
      "\t [[{{node random_rotation_input}}]]\n",
      "2023-05-25 04:17:48.674068: I tensorflow/core/common_runtime/executor.cc:1197] [/device:CPU:0] (DEBUG INFO) Executor start aborting (this does not indicate an error and you can ignore this message): INVALID_ARGUMENT: You must feed a value for placeholder tensor 'inputs' with dtype float and shape [?,256,256,3]\n",
      "\t [[{{node inputs}}]]\n",
      "2023-05-25 04:17:48.688105: I tensorflow/core/common_runtime/executor.cc:1197] [/device:CPU:0] (DEBUG INFO) Executor start aborting (this does not indicate an error and you can ignore this message): INVALID_ARGUMENT: You must feed a value for placeholder tensor 'random_rotation_input' with dtype float and shape [?,256,256,3]\n",
      "\t [[{{node random_rotation_input}}]]\n",
      "2023-05-25 04:17:48.717209: I tensorflow/core/common_runtime/executor.cc:1197] [/device:CPU:0] (DEBUG INFO) Executor start aborting (this does not indicate an error and you can ignore this message): INVALID_ARGUMENT: You must feed a value for placeholder tensor 'inputs' with dtype float and shape [?,256,256,3]\n",
      "\t [[{{node inputs}}]]\n",
      "2023-05-25 04:17:48.735526: I tensorflow/core/common_runtime/executor.cc:1197] [/device:CPU:0] (DEBUG INFO) Executor start aborting (this does not indicate an error and you can ignore this message): INVALID_ARGUMENT: You must feed a value for placeholder tensor 'inputs' with dtype float and shape [?,230400]\n",
      "\t [[{{node inputs}}]]\n",
      "2023-05-25 04:17:48.752234: I tensorflow/core/common_runtime/executor.cc:1197] [/device:CPU:0] (DEBUG INFO) Executor start aborting (this does not indicate an error and you can ignore this message): INVALID_ARGUMENT: You must feed a value for placeholder tensor 'inputs' with dtype float and shape [?,256,256,3]\n",
      "\t [[{{node inputs}}]]\n",
      "2023-05-25 04:17:48.795523: I tensorflow/core/common_runtime/executor.cc:1197] [/device:CPU:0] (DEBUG INFO) Executor start aborting (this does not indicate an error and you can ignore this message): INVALID_ARGUMENT: You must feed a value for placeholder tensor 'inputs' with dtype float and shape [?,256,256,3]\n",
      "\t [[{{node inputs}}]]\n",
      "2023-05-25 04:17:48.871445: I tensorflow/core/common_runtime/executor.cc:1197] [/device:CPU:0] (DEBUG INFO) Executor start aborting (this does not indicate an error and you can ignore this message): INVALID_ARGUMENT: You must feed a value for placeholder tensor 'inputs' with dtype float and shape [?,256,256,3]\n",
      "\t [[{{node inputs}}]]\n",
      "2023-05-25 04:17:48.952579: I tensorflow/core/common_runtime/executor.cc:1197] [/device:CPU:0] (DEBUG INFO) Executor start aborting (this does not indicate an error and you can ignore this message): INVALID_ARGUMENT: You must feed a value for placeholder tensor 'inputs' with dtype float and shape [?,230400]\n",
      "\t [[{{node inputs}}]]\n",
      "WARNING:absl:Found untraced functions such as _jit_compiled_convolution_op, _jit_compiled_convolution_op, _jit_compiled_convolution_op while saving (showing 3 of 3). These functions will not be directly callable after loading.\n"
     ]
    },
    {
     "name": "stdout",
     "output_type": "stream",
     "text": [
      "INFO:tensorflow:Assets written to: models/model_w256_e100_2023-05-25T04:17:48.442922/assets\n"
     ]
    },
    {
     "name": "stderr",
     "output_type": "stream",
     "text": [
      "INFO:tensorflow:Assets written to: models/model_w256_e100_2023-05-25T04:17:48.442922/assets\n"
     ]
    }
   ],
   "source": [
    "MODEL = f'models/model_w{WIDTH}_e{EPOCS}_{datetime.now().isoformat()}'\n",
    "model.save(f'models/model_w{WIDTH}_e{EPOCS}_{datetime.now().isoformat()}')"
   ]
  },
  {
   "cell_type": "markdown",
   "metadata": {},
   "source": [
    "## Converting to TF Lite"
   ]
  },
  {
   "cell_type": "code",
   "execution_count": 16,
   "metadata": {},
   "outputs": [],
   "source": [
    "converter = tf.lite.TFLiteConverter.from_keras_model(model)"
   ]
  },
  {
   "cell_type": "code",
   "execution_count": 17,
   "metadata": {},
   "outputs": [
    {
     "name": "stderr",
     "output_type": "stream",
     "text": [
      "2023-05-25 04:20:46.080124: I tensorflow/core/common_runtime/executor.cc:1197] [/device:CPU:0] (DEBUG INFO) Executor start aborting (this does not indicate an error and you can ignore this message): INVALID_ARGUMENT: You must feed a value for placeholder tensor 'random_rotation_input' with dtype float and shape [?,256,256,3]\n",
      "\t [[{{node random_rotation_input}}]]\n",
      "2023-05-25 04:20:46.137096: I tensorflow/core/common_runtime/executor.cc:1197] [/device:CPU:0] (DEBUG INFO) Executor start aborting (this does not indicate an error and you can ignore this message): INVALID_ARGUMENT: You must feed a value for placeholder tensor 'inputs' with dtype float and shape [?,256,256,3]\n",
      "\t [[{{node inputs}}]]\n",
      "2023-05-25 04:20:46.151339: I tensorflow/core/common_runtime/executor.cc:1197] [/device:CPU:0] (DEBUG INFO) Executor start aborting (this does not indicate an error and you can ignore this message): INVALID_ARGUMENT: You must feed a value for placeholder tensor 'random_rotation_input' with dtype float and shape [?,256,256,3]\n",
      "\t [[{{node random_rotation_input}}]]\n",
      "2023-05-25 04:20:46.172646: I tensorflow/core/common_runtime/executor.cc:1197] [/device:CPU:0] (DEBUG INFO) Executor start aborting (this does not indicate an error and you can ignore this message): INVALID_ARGUMENT: You must feed a value for placeholder tensor 'inputs' with dtype float and shape [?,256,256,3]\n",
      "\t [[{{node inputs}}]]\n",
      "2023-05-25 04:20:46.189582: I tensorflow/core/common_runtime/executor.cc:1197] [/device:CPU:0] (DEBUG INFO) Executor start aborting (this does not indicate an error and you can ignore this message): INVALID_ARGUMENT: You must feed a value for placeholder tensor 'inputs' with dtype float and shape [?,230400]\n",
      "\t [[{{node inputs}}]]\n",
      "2023-05-25 04:20:46.207640: I tensorflow/core/common_runtime/executor.cc:1197] [/device:CPU:0] (DEBUG INFO) Executor start aborting (this does not indicate an error and you can ignore this message): INVALID_ARGUMENT: You must feed a value for placeholder tensor 'inputs' with dtype float and shape [?,256,256,3]\n",
      "\t [[{{node inputs}}]]\n",
      "2023-05-25 04:20:46.257104: I tensorflow/core/common_runtime/executor.cc:1197] [/device:CPU:0] (DEBUG INFO) Executor start aborting (this does not indicate an error and you can ignore this message): INVALID_ARGUMENT: You must feed a value for placeholder tensor 'inputs' with dtype float and shape [?,256,256,3]\n",
      "\t [[{{node inputs}}]]\n",
      "2023-05-25 04:20:46.335454: I tensorflow/core/common_runtime/executor.cc:1197] [/device:CPU:0] (DEBUG INFO) Executor start aborting (this does not indicate an error and you can ignore this message): INVALID_ARGUMENT: You must feed a value for placeholder tensor 'inputs' with dtype float and shape [?,256,256,3]\n",
      "\t [[{{node inputs}}]]\n",
      "2023-05-25 04:20:46.409081: I tensorflow/core/common_runtime/executor.cc:1197] [/device:CPU:0] (DEBUG INFO) Executor start aborting (this does not indicate an error and you can ignore this message): INVALID_ARGUMENT: You must feed a value for placeholder tensor 'inputs' with dtype float and shape [?,230400]\n",
      "\t [[{{node inputs}}]]\n",
      "WARNING:absl:Found untraced functions such as _jit_compiled_convolution_op, _jit_compiled_convolution_op, _jit_compiled_convolution_op while saving (showing 3 of 3). These functions will not be directly callable after loading.\n"
     ]
    },
    {
     "name": "stdout",
     "output_type": "stream",
     "text": [
      "INFO:tensorflow:Assets written to: /tmp/tmp0wh2mzxl/assets\n"
     ]
    },
    {
     "name": "stderr",
     "output_type": "stream",
     "text": [
      "INFO:tensorflow:Assets written to: /tmp/tmp0wh2mzxl/assets\n",
      "2023-05-25 04:20:47.347137: W tensorflow/compiler/mlir/lite/python/tf_tfl_flatbuffer_helpers.cc:364] Ignored output_format.\n",
      "2023-05-25 04:20:47.347160: W tensorflow/compiler/mlir/lite/python/tf_tfl_flatbuffer_helpers.cc:367] Ignored drop_control_dependency.\n",
      "2023-05-25 04:20:47.347401: I tensorflow/cc/saved_model/reader.cc:45] Reading SavedModel from: /tmp/tmp0wh2mzxl\n",
      "2023-05-25 04:20:47.348596: I tensorflow/cc/saved_model/reader.cc:89] Reading meta graph with tags { serve }\n",
      "2023-05-25 04:20:47.348606: I tensorflow/cc/saved_model/reader.cc:130] Reading SavedModel debug info (if present) from: /tmp/tmp0wh2mzxl\n",
      "2023-05-25 04:20:47.352075: I tensorflow/compiler/mlir/mlir_graph_optimization_pass.cc:353] MLIR V1 optimization pass is not enabled\n",
      "2023-05-25 04:20:47.353075: I tensorflow/cc/saved_model/loader.cc:231] Restoring SavedModel bundle.\n",
      "2023-05-25 04:20:47.435948: I tensorflow/cc/saved_model/loader.cc:215] Running initialization op on SavedModel bundle at path: /tmp/tmp0wh2mzxl\n",
      "2023-05-25 04:20:47.445142: I tensorflow/cc/saved_model/loader.cc:314] SavedModel load for tags { serve }; Status: success: OK. Took 97742 microseconds.\n"
     ]
    }
   ],
   "source": [
    "tfmodel = converter.convert()"
   ]
  },
  {
   "cell_type": "code",
   "execution_count": 20,
   "metadata": {},
   "outputs": [
    {
     "ename": "NotFoundError",
     "evalue": "models/models/model_w256_e100_2023-05-25T04:17:48.442893.tflite; No such file or directory",
     "output_type": "error",
     "traceback": [
      "\u001b[0;31m---------------------------------------------------------------------------\u001b[0m",
      "\u001b[0;31mNotFoundError\u001b[0m                             Traceback (most recent call last)",
      "Cell \u001b[0;32mIn[20], line 2\u001b[0m\n\u001b[1;32m      1\u001b[0m f \u001b[38;5;241m=\u001b[39m tf\u001b[38;5;241m.\u001b[39mio\u001b[38;5;241m.\u001b[39mgfile\u001b[38;5;241m.\u001b[39mGFile(\u001b[38;5;124mf\u001b[39m\u001b[38;5;124m'\u001b[39m\u001b[38;5;124mmodels/\u001b[39m\u001b[38;5;132;01m{\u001b[39;00mMODEL\u001b[38;5;132;01m}\u001b[39;00m\u001b[38;5;124m.tflite\u001b[39m\u001b[38;5;124m'\u001b[39m, \u001b[38;5;124m'\u001b[39m\u001b[38;5;124mwb\u001b[39m\u001b[38;5;124m'\u001b[39m)\n\u001b[0;32m----> 2\u001b[0m \u001b[43mf\u001b[49m\u001b[38;5;241;43m.\u001b[39;49m\u001b[43mwrite\u001b[49m\u001b[43m(\u001b[49m\u001b[43mtfmodel\u001b[49m\u001b[43m)\u001b[49m\n\u001b[1;32m      3\u001b[0m f\u001b[38;5;241m.\u001b[39mclose()\n",
      "File \u001b[0;32m/usr/local/lib/python3.8/dist-packages/tensorflow/python/lib/io/file_io.py:100\u001b[0m, in \u001b[0;36mFileIO.write\u001b[0;34m(self, file_content)\u001b[0m\n\u001b[1;32m     98\u001b[0m \u001b[38;5;28;01mdef\u001b[39;00m \u001b[38;5;21mwrite\u001b[39m(\u001b[38;5;28mself\u001b[39m, file_content):\n\u001b[1;32m     99\u001b[0m \u001b[38;5;250m  \u001b[39m\u001b[38;5;124;03m\"\"\"Writes file_content to the file. Appends to the end of the file.\"\"\"\u001b[39;00m\n\u001b[0;32m--> 100\u001b[0m   \u001b[38;5;28;43mself\u001b[39;49m\u001b[38;5;241;43m.\u001b[39;49m\u001b[43m_prewrite_check\u001b[49m\u001b[43m(\u001b[49m\u001b[43m)\u001b[49m\n\u001b[1;32m    101\u001b[0m   \u001b[38;5;28mself\u001b[39m\u001b[38;5;241m.\u001b[39m_writable_file\u001b[38;5;241m.\u001b[39mappend(\n\u001b[1;32m    102\u001b[0m       compat\u001b[38;5;241m.\u001b[39mas_bytes(file_content, encoding\u001b[38;5;241m=\u001b[39m\u001b[38;5;28mself\u001b[39m\u001b[38;5;241m.\u001b[39m__encoding))\n",
      "File \u001b[0;32m/usr/local/lib/python3.8/dist-packages/tensorflow/python/lib/io/file_io.py:85\u001b[0m, in \u001b[0;36mFileIO._prewrite_check\u001b[0;34m(self)\u001b[0m\n\u001b[1;32m     82\u001b[0m \u001b[38;5;28;01mif\u001b[39;00m \u001b[38;5;129;01mnot\u001b[39;00m \u001b[38;5;28mself\u001b[39m\u001b[38;5;241m.\u001b[39m_write_check_passed:\n\u001b[1;32m     83\u001b[0m   \u001b[38;5;28;01mraise\u001b[39;00m errors\u001b[38;5;241m.\u001b[39mPermissionDeniedError(\u001b[38;5;28;01mNone\u001b[39;00m, \u001b[38;5;28;01mNone\u001b[39;00m,\n\u001b[1;32m     84\u001b[0m                                      \u001b[38;5;124m\"\u001b[39m\u001b[38;5;124mFile isn\u001b[39m\u001b[38;5;124m'\u001b[39m\u001b[38;5;124mt open for writing\u001b[39m\u001b[38;5;124m\"\u001b[39m)\n\u001b[0;32m---> 85\u001b[0m \u001b[38;5;28mself\u001b[39m\u001b[38;5;241m.\u001b[39m_writable_file \u001b[38;5;241m=\u001b[39m \u001b[43m_pywrap_file_io\u001b[49m\u001b[38;5;241;43m.\u001b[39;49m\u001b[43mWritableFile\u001b[49m\u001b[43m(\u001b[49m\n\u001b[1;32m     86\u001b[0m \u001b[43m    \u001b[49m\u001b[43mcompat\u001b[49m\u001b[38;5;241;43m.\u001b[39;49m\u001b[43mpath_to_bytes\u001b[49m\u001b[43m(\u001b[49m\u001b[38;5;28;43mself\u001b[39;49m\u001b[38;5;241;43m.\u001b[39;49m\u001b[43m__name\u001b[49m\u001b[43m)\u001b[49m\u001b[43m,\u001b[49m\u001b[43m \u001b[49m\u001b[43mcompat\u001b[49m\u001b[38;5;241;43m.\u001b[39;49m\u001b[43mas_bytes\u001b[49m\u001b[43m(\u001b[49m\u001b[38;5;28;43mself\u001b[39;49m\u001b[38;5;241;43m.\u001b[39;49m\u001b[43m__mode\u001b[49m\u001b[43m)\u001b[49m\u001b[43m)\u001b[49m\n",
      "\u001b[0;31mNotFoundError\u001b[0m: models/models/model_w256_e100_2023-05-25T04:17:48.442893.tflite; No such file or directory"
     ]
    }
   ],
   "source": [
    "f = tf.io.gfile.GFile(f'models/{MODEL}.tflite', 'wb')\n",
    "f.write(tfmodel)\n",
    "f.close()"
   ]
  },
  {
   "cell_type": "code",
   "execution_count": 21,
   "metadata": {},
   "outputs": [],
   "source": []
  },
  {
   "cell_type": "code",
   "execution_count": 22,
   "metadata": {},
   "outputs": [],
   "source": []
  },
  {
   "cell_type": "code",
   "execution_count": null,
   "metadata": {},
   "outputs": [],
   "source": []
  }
 ],
 "metadata": {
  "colab": {
   "collapsed_sections": [],
   "name": "Processador.ipynb",
   "provenance": []
  },
  "kernelspec": {
   "display_name": "Python 3 (ipykernel)",
   "language": "python",
   "name": "python3"
  },
  "language_info": {
   "codemirror_mode": {
    "name": "ipython",
    "version": 3
   },
   "file_extension": ".py",
   "mimetype": "text/x-python",
   "name": "python",
   "nbconvert_exporter": "python",
   "pygments_lexer": "ipython3",
   "version": "3.8.10"
  }
 },
 "nbformat": 4,
 "nbformat_minor": 4
}
